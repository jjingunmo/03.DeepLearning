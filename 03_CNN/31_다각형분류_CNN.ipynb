{
  "nbformat": 4,
  "nbformat_minor": 0,
  "metadata": {
    "colab": {
      "name": "31_다각형분류 CNN.ipynb",
      "provenance": [],
      "collapsed_sections": []
    },
    "kernelspec": {
      "name": "python3",
      "display_name": "Python 3"
    },
    "language_info": {
      "name": "python"
    }
  },
  "cells": [
    {
      "cell_type": "markdown",
      "metadata": {
        "id": "5L3d7xTZ-SYY"
      },
      "source": [
        "# 원, 사각형, 삼각형 구분하기"
      ]
    },
    {
      "cell_type": "code",
      "metadata": {
        "id": "9WLkqpGw-ZC3"
      },
      "source": [
        "# 압축풀기\n",
        "!unzip -qq handwriting_shape.zip -d handwriting_shape"
      ],
      "execution_count": 1,
      "outputs": []
    },
    {
      "cell_type": "code",
      "metadata": {
        "id": "2p8W7VIC-_UI"
      },
      "source": [
        "!unzip -qq hard_handwriting_shape.zip -d hard_handwriting_shape"
      ],
      "execution_count": 2,
      "outputs": []
    },
    {
      "cell_type": "markdown",
      "metadata": {
        "id": "kLES1iZ3_X7U"
      },
      "source": [
        "### 1. CNN 모델"
      ]
    },
    {
      "cell_type": "code",
      "metadata": {
        "id": "3RJS2sgv_bXq"
      },
      "source": [
        "import numpy as np\n",
        "import tensorflow as tf\n",
        "from tensorflow.keras.models import Sequential\n",
        "from tensorflow.keras.layers import Dense, Conv2D, Flatten, MaxPooling2D\n",
        "from tensorflow.keras.preprocessing.image import ImageDataGenerator"
      ],
      "execution_count": 6,
      "outputs": []
    },
    {
      "cell_type": "code",
      "metadata": {
        "id": "89t8l5kH_PXA"
      },
      "source": [
        "seed = 2021\n",
        "np.random.seed(seed)\n",
        "tf.random.set_seed(seed)"
      ],
      "execution_count": 7,
      "outputs": []
    },
    {
      "cell_type": "markdown",
      "metadata": {
        "id": "Uccww2nuBByM"
      },
      "source": [
        "### 데이터셋 생성하기"
      ]
    },
    {
      "cell_type": "code",
      "metadata": {
        "colab": {
          "base_uri": "https://localhost:8080/"
        },
        "id": "jsoydB-AAjHZ",
        "outputId": "1b6aad0d-2d73-4224-bad2-b0ccaea267b0"
      },
      "source": [
        "train_datagen = ImageDataGenerator(rescale=1./255)\n",
        "train_generator = train_datagen.flow_from_directory(\n",
        "    'handwriting_shape/train',\n",
        "    target_size=(24,24),\n",
        "    batch_size=3,\n",
        "    class_mode='categorical'\n",
        ")"
      ],
      "execution_count": 9,
      "outputs": [
        {
          "output_type": "stream",
          "text": [
            "Found 45 images belonging to 3 classes.\n"
          ],
          "name": "stdout"
        }
      ]
    },
    {
      "cell_type": "code",
      "metadata": {
        "colab": {
          "base_uri": "https://localhost:8080/"
        },
        "id": "gpiSZF_JBdOd",
        "outputId": "caa715da-1805-4f8c-dc91-389125ccf263"
      },
      "source": [
        "test_datagen = ImageDataGenerator(rescale=1./255)\n",
        "test_generator = test_datagen.flow_from_directory(\n",
        "    'handwriting_shape/test',\n",
        "    target_size=(24,24),\n",
        "    batch_size=3,\n",
        "    class_mode='categorical'\n",
        ")"
      ],
      "execution_count": 10,
      "outputs": [
        {
          "output_type": "stream",
          "text": [
            "Found 15 images belonging to 3 classes.\n"
          ],
          "name": "stdout"
        }
      ]
    },
    {
      "cell_type": "code",
      "metadata": {
        "colab": {
          "base_uri": "https://localhost:8080/"
        },
        "id": "fUEodWOcBb4z",
        "outputId": "e8bf76f6-3ad9-4e72-9d2b-840aaec37ba6"
      },
      "source": [
        "train_generator.labels"
      ],
      "execution_count": 11,
      "outputs": [
        {
          "output_type": "execute_result",
          "data": {
            "text/plain": [
              "array([0, 0, 0, 0, 0, 0, 0, 0, 0, 0, 0, 0, 0, 0, 0, 1, 1, 1, 1, 1, 1, 1,\n",
              "       1, 1, 1, 1, 1, 1, 1, 1, 2, 2, 2, 2, 2, 2, 2, 2, 2, 2, 2, 2, 2, 2,\n",
              "       2], dtype=int32)"
            ]
          },
          "metadata": {
            "tags": []
          },
          "execution_count": 11
        }
      ]
    },
    {
      "cell_type": "code",
      "metadata": {
        "colab": {
          "base_uri": "https://localhost:8080/",
          "height": 35
        },
        "id": "lrqNL4WiB3I-",
        "outputId": "9af1e26c-f855-4994-c839-fda2e6cc8a7d"
      },
      "source": [
        "train_generator.filenames[0]"
      ],
      "execution_count": 12,
      "outputs": [
        {
          "output_type": "execute_result",
          "data": {
            "application/vnd.google.colaboratory.intrinsic+json": {
              "type": "string"
            },
            "text/plain": [
              "'circle/circle001.png'"
            ]
          },
          "metadata": {
            "tags": []
          },
          "execution_count": 12
        }
      ]
    },
    {
      "cell_type": "markdown",
      "metadata": {
        "id": "i7HjEf5GCKa4"
      },
      "source": [
        "### 모델 정의/설정"
      ]
    },
    {
      "cell_type": "code",
      "metadata": {
        "colab": {
          "base_uri": "https://localhost:8080/"
        },
        "id": "r181ng89B81x",
        "outputId": "2d22f9f2-98b8-445d-b194-cb273763ea6d"
      },
      "source": [
        "model = Sequential([\n",
        "    Conv2D(32, (3,3), activation='relu', input_shape=(24,24,3)),\n",
        "    Conv2D(64, (3,3), activation='relu'),\n",
        "    MaxPooling2D(),\n",
        "    Flatten(),\n",
        "    Dense(128, activation='relu'),    \n",
        "    Dense(3, activation='softmax')\n",
        "])\n",
        "model.summary()"
      ],
      "execution_count": 13,
      "outputs": [
        {
          "output_type": "stream",
          "text": [
            "Model: \"sequential\"\n",
            "_________________________________________________________________\n",
            "Layer (type)                 Output Shape              Param #   \n",
            "=================================================================\n",
            "conv2d (Conv2D)              (None, 22, 22, 32)        896       \n",
            "_________________________________________________________________\n",
            "conv2d_1 (Conv2D)            (None, 20, 20, 64)        18496     \n",
            "_________________________________________________________________\n",
            "max_pooling2d (MaxPooling2D) (None, 10, 10, 64)        0         \n",
            "_________________________________________________________________\n",
            "flatten (Flatten)            (None, 6400)              0         \n",
            "_________________________________________________________________\n",
            "dense (Dense)                (None, 128)               819328    \n",
            "_________________________________________________________________\n",
            "dense_1 (Dense)              (None, 3)                 387       \n",
            "=================================================================\n",
            "Total params: 839,107\n",
            "Trainable params: 839,107\n",
            "Non-trainable params: 0\n",
            "_________________________________________________________________\n"
          ],
          "name": "stdout"
        }
      ]
    },
    {
      "cell_type": "code",
      "metadata": {
        "id": "lptEQfCoC5yt"
      },
      "source": [
        "model.compile(loss='categorical_crossentropy', optimizer='adam', metrics=['accuracy'])"
      ],
      "execution_count": 17,
      "outputs": []
    },
    {
      "cell_type": "markdown",
      "metadata": {
        "id": "DJ4qFf6CDKAC"
      },
      "source": [
        "### 모델학습\n",
        "- 첫번째 인자 : 훈련데이터셋을 제공할 제네레이터를 지정. 본 예제에서는 앞서 생성한 train_generator으로 지정.\n",
        "- steps_per_epoch : 한 epoch에 사용할 스텝 수를 지정. 총 45개의 훈련 샘플이 있고 배치사이즈가 3이므로 15 스텝으로 지정.\n",
        "- epochs : 전체 훈련 데이터셋에 대해 학습 반복 횟수를 지정. 50번을 반복적으로 학습.\n",
        "- validation_data : 검증데이터셋을 제공할 제네레이터를 지정. 본 예제에서는 앞서 생성한 test_generator으로 지정.\n",
        "- validation_steps : 한 epoch 종료 시 마다 검증할 때 사용되는 검증 스텝 수를 지정. 총 15개의 검증 샘플이 있고 배치사이즈가 3이므로 5 스텝으로 지정.\n"
      ]
    },
    {
      "cell_type": "code",
      "metadata": {
        "colab": {
          "base_uri": "https://localhost:8080/"
        },
        "id": "4lkZP_4nB3ZG",
        "outputId": "fa1b3004-c8e3-48d2-ee7e-4ff73d60aadd"
      },
      "source": [
        "model.fit_generator(\n",
        "    train_generator, \n",
        "    steps_per_epoch=15,\n",
        "    epochs=50,\n",
        "    validation_data=test_generator,\n",
        "    validation_steps=5\n",
        ")"
      ],
      "execution_count": 21,
      "outputs": [
        {
          "output_type": "stream",
          "text": [
            "/usr/local/lib/python3.7/dist-packages/tensorflow/python/keras/engine/training.py:1844: UserWarning: `Model.fit_generator` is deprecated and will be removed in a future version. Please use `Model.fit`, which supports generators.\n",
            "  warnings.warn('`Model.fit_generator` is deprecated and '\n"
          ],
          "name": "stderr"
        },
        {
          "output_type": "stream",
          "text": [
            "Epoch 1/50\n",
            "15/15 [==============================] - 2s 47ms/step - loss: 1.2043 - accuracy: 0.4776 - val_loss: 0.5055 - val_accuracy: 0.9333\n",
            "Epoch 2/50\n",
            "15/15 [==============================] - 0s 27ms/step - loss: 0.3105 - accuracy: 0.8943 - val_loss: 0.0877 - val_accuracy: 1.0000\n",
            "Epoch 3/50\n",
            "15/15 [==============================] - 0s 26ms/step - loss: 0.0165 - accuracy: 1.0000 - val_loss: 0.0270 - val_accuracy: 1.0000\n",
            "Epoch 4/50\n",
            "15/15 [==============================] - 0s 27ms/step - loss: 0.0011 - accuracy: 1.0000 - val_loss: 0.0217 - val_accuracy: 1.0000\n",
            "Epoch 5/50\n",
            "15/15 [==============================] - 0s 26ms/step - loss: 2.1598e-04 - accuracy: 1.0000 - val_loss: 0.0174 - val_accuracy: 1.0000\n",
            "Epoch 6/50\n",
            "15/15 [==============================] - 0s 27ms/step - loss: 2.0222e-04 - accuracy: 1.0000 - val_loss: 0.0134 - val_accuracy: 1.0000\n",
            "Epoch 7/50\n",
            "15/15 [==============================] - 0s 28ms/step - loss: 1.6622e-04 - accuracy: 1.0000 - val_loss: 0.0129 - val_accuracy: 1.0000\n",
            "Epoch 8/50\n",
            "15/15 [==============================] - 0s 27ms/step - loss: 1.8240e-04 - accuracy: 1.0000 - val_loss: 0.0132 - val_accuracy: 1.0000\n",
            "Epoch 9/50\n",
            "15/15 [==============================] - 0s 27ms/step - loss: 1.3584e-04 - accuracy: 1.0000 - val_loss: 0.0131 - val_accuracy: 1.0000\n",
            "Epoch 10/50\n",
            "15/15 [==============================] - 0s 27ms/step - loss: 1.0690e-04 - accuracy: 1.0000 - val_loss: 0.0129 - val_accuracy: 1.0000\n",
            "Epoch 11/50\n",
            "15/15 [==============================] - 0s 30ms/step - loss: 1.5356e-04 - accuracy: 1.0000 - val_loss: 0.0131 - val_accuracy: 1.0000\n",
            "Epoch 12/50\n",
            "15/15 [==============================] - 0s 26ms/step - loss: 6.5594e-05 - accuracy: 1.0000 - val_loss: 0.0133 - val_accuracy: 1.0000\n",
            "Epoch 13/50\n",
            "15/15 [==============================] - 0s 27ms/step - loss: 7.4418e-05 - accuracy: 1.0000 - val_loss: 0.0131 - val_accuracy: 1.0000\n",
            "Epoch 14/50\n",
            "15/15 [==============================] - 0s 26ms/step - loss: 7.1302e-05 - accuracy: 1.0000 - val_loss: 0.0130 - val_accuracy: 1.0000\n",
            "Epoch 15/50\n",
            "15/15 [==============================] - 0s 27ms/step - loss: 7.9154e-05 - accuracy: 1.0000 - val_loss: 0.0123 - val_accuracy: 1.0000\n",
            "Epoch 16/50\n",
            "15/15 [==============================] - 0s 29ms/step - loss: 8.1116e-05 - accuracy: 1.0000 - val_loss: 0.0128 - val_accuracy: 1.0000\n",
            "Epoch 17/50\n",
            "15/15 [==============================] - 0s 28ms/step - loss: 6.3445e-05 - accuracy: 1.0000 - val_loss: 0.0140 - val_accuracy: 1.0000\n",
            "Epoch 18/50\n",
            "15/15 [==============================] - 0s 27ms/step - loss: 7.2550e-05 - accuracy: 1.0000 - val_loss: 0.0139 - val_accuracy: 1.0000\n",
            "Epoch 19/50\n",
            "15/15 [==============================] - 0s 28ms/step - loss: 5.3688e-05 - accuracy: 1.0000 - val_loss: 0.0144 - val_accuracy: 1.0000\n",
            "Epoch 20/50\n",
            "15/15 [==============================] - 1s 37ms/step - loss: 4.0813e-05 - accuracy: 1.0000 - val_loss: 0.0148 - val_accuracy: 1.0000\n",
            "Epoch 21/50\n",
            "15/15 [==============================] - 1s 40ms/step - loss: 5.1673e-05 - accuracy: 1.0000 - val_loss: 0.0147 - val_accuracy: 1.0000\n",
            "Epoch 22/50\n",
            "15/15 [==============================] - 1s 43ms/step - loss: 3.6599e-05 - accuracy: 1.0000 - val_loss: 0.0148 - val_accuracy: 1.0000\n",
            "Epoch 23/50\n",
            "15/15 [==============================] - 0s 32ms/step - loss: 4.3776e-05 - accuracy: 1.0000 - val_loss: 0.0155 - val_accuracy: 1.0000\n",
            "Epoch 24/50\n",
            "15/15 [==============================] - 1s 34ms/step - loss: 3.2298e-05 - accuracy: 1.0000 - val_loss: 0.0158 - val_accuracy: 1.0000\n",
            "Epoch 25/50\n",
            "15/15 [==============================] - 1s 37ms/step - loss: 1.9836e-05 - accuracy: 1.0000 - val_loss: 0.0161 - val_accuracy: 1.0000\n",
            "Epoch 26/50\n",
            "15/15 [==============================] - 1s 35ms/step - loss: 2.9932e-05 - accuracy: 1.0000 - val_loss: 0.0168 - val_accuracy: 1.0000\n",
            "Epoch 27/50\n",
            "15/15 [==============================] - 0s 26ms/step - loss: 2.7853e-05 - accuracy: 1.0000 - val_loss: 0.0165 - val_accuracy: 1.0000\n",
            "Epoch 28/50\n",
            "15/15 [==============================] - 0s 25ms/step - loss: 2.2706e-05 - accuracy: 1.0000 - val_loss: 0.0167 - val_accuracy: 1.0000\n",
            "Epoch 29/50\n",
            "15/15 [==============================] - 1s 36ms/step - loss: 1.9880e-05 - accuracy: 1.0000 - val_loss: 0.0173 - val_accuracy: 1.0000\n",
            "Epoch 30/50\n",
            "15/15 [==============================] - 1s 36ms/step - loss: 1.9517e-05 - accuracy: 1.0000 - val_loss: 0.0170 - val_accuracy: 1.0000\n",
            "Epoch 31/50\n",
            "15/15 [==============================] - 1s 36ms/step - loss: 1.9817e-05 - accuracy: 1.0000 - val_loss: 0.0174 - val_accuracy: 1.0000\n",
            "Epoch 32/50\n",
            "15/15 [==============================] - 1s 51ms/step - loss: 1.7939e-05 - accuracy: 1.0000 - val_loss: 0.0174 - val_accuracy: 1.0000\n",
            "Epoch 33/50\n",
            "15/15 [==============================] - 1s 40ms/step - loss: 1.7259e-05 - accuracy: 1.0000 - val_loss: 0.0180 - val_accuracy: 1.0000\n",
            "Epoch 34/50\n",
            "15/15 [==============================] - 1s 37ms/step - loss: 2.0400e-05 - accuracy: 1.0000 - val_loss: 0.0183 - val_accuracy: 1.0000\n",
            "Epoch 35/50\n",
            "15/15 [==============================] - 1s 34ms/step - loss: 1.4828e-05 - accuracy: 1.0000 - val_loss: 0.0188 - val_accuracy: 1.0000\n",
            "Epoch 36/50\n",
            "15/15 [==============================] - 1s 38ms/step - loss: 1.6433e-05 - accuracy: 1.0000 - val_loss: 0.0183 - val_accuracy: 1.0000\n",
            "Epoch 37/50\n",
            "15/15 [==============================] - 0s 32ms/step - loss: 1.3732e-05 - accuracy: 1.0000 - val_loss: 0.0185 - val_accuracy: 1.0000\n",
            "Epoch 38/50\n",
            "15/15 [==============================] - 0s 27ms/step - loss: 1.2233e-05 - accuracy: 1.0000 - val_loss: 0.0188 - val_accuracy: 1.0000\n",
            "Epoch 39/50\n",
            "15/15 [==============================] - 0s 27ms/step - loss: 1.1580e-05 - accuracy: 1.0000 - val_loss: 0.0192 - val_accuracy: 1.0000\n",
            "Epoch 40/50\n",
            "15/15 [==============================] - 1s 35ms/step - loss: 1.1966e-05 - accuracy: 1.0000 - val_loss: 0.0190 - val_accuracy: 1.0000\n",
            "Epoch 41/50\n",
            "15/15 [==============================] - 1s 36ms/step - loss: 1.0543e-05 - accuracy: 1.0000 - val_loss: 0.0196 - val_accuracy: 1.0000\n",
            "Epoch 42/50\n",
            "15/15 [==============================] - 1s 43ms/step - loss: 1.2105e-05 - accuracy: 1.0000 - val_loss: 0.0200 - val_accuracy: 1.0000\n",
            "Epoch 43/50\n",
            "15/15 [==============================] - 1s 38ms/step - loss: 9.2194e-06 - accuracy: 1.0000 - val_loss: 0.0197 - val_accuracy: 1.0000\n",
            "Epoch 44/50\n",
            "15/15 [==============================] - 1s 36ms/step - loss: 1.1708e-05 - accuracy: 1.0000 - val_loss: 0.0200 - val_accuracy: 1.0000\n",
            "Epoch 45/50\n",
            "15/15 [==============================] - 1s 37ms/step - loss: 7.5637e-06 - accuracy: 1.0000 - val_loss: 0.0205 - val_accuracy: 1.0000\n",
            "Epoch 46/50\n",
            "15/15 [==============================] - 1s 38ms/step - loss: 8.3595e-06 - accuracy: 1.0000 - val_loss: 0.0212 - val_accuracy: 1.0000\n",
            "Epoch 47/50\n",
            "15/15 [==============================] - 1s 39ms/step - loss: 7.2339e-06 - accuracy: 1.0000 - val_loss: 0.0213 - val_accuracy: 1.0000\n",
            "Epoch 48/50\n",
            "15/15 [==============================] - 1s 33ms/step - loss: 6.0678e-06 - accuracy: 1.0000 - val_loss: 0.0218 - val_accuracy: 1.0000\n",
            "Epoch 49/50\n",
            "15/15 [==============================] - 0s 28ms/step - loss: 8.1757e-06 - accuracy: 1.0000 - val_loss: 0.0220 - val_accuracy: 1.0000\n",
            "Epoch 50/50\n",
            "15/15 [==============================] - 0s 28ms/step - loss: 8.9615e-06 - accuracy: 1.0000 - val_loss: 0.0219 - val_accuracy: 1.0000\n"
          ],
          "name": "stdout"
        },
        {
          "output_type": "execute_result",
          "data": {
            "text/plain": [
              "<tensorflow.python.keras.callbacks.History at 0x7f0c9ff8e250>"
            ]
          },
          "metadata": {
            "tags": []
          },
          "execution_count": 21
        }
      ]
    },
    {
      "cell_type": "markdown",
      "metadata": {
        "id": "j8IpbJ9fEsmc"
      },
      "source": [
        "## 모델평가"
      ]
    },
    {
      "cell_type": "code",
      "metadata": {
        "id": "ox-q0SGEFCNG"
      },
      "source": [],
      "execution_count": null,
      "outputs": []
    },
    {
      "cell_type": "code",
      "metadata": {
        "colab": {
          "base_uri": "https://localhost:8080/"
        },
        "id": "ZXE5hMRIEfjr",
        "outputId": "3b66000f-1f00-4bb8-c810-caa3cd286888"
      },
      "source": [
        "acc = model.evaluate_generator(test_generator, steps=5,)\n",
        "print(f'Accuracy: {acc[1]:.4f}')"
      ],
      "execution_count": 22,
      "outputs": [
        {
          "output_type": "stream",
          "text": [
            "Accuracy: 1.0000\n"
          ],
          "name": "stdout"
        },
        {
          "output_type": "stream",
          "text": [
            "/usr/local/lib/python3.7/dist-packages/tensorflow/python/keras/engine/training.py:1877: UserWarning: `Model.evaluate_generator` is deprecated and will be removed in a future version. Please use `Model.evaluate`, which supports generators.\n",
            "  warnings.warn('`Model.evaluate_generator` is deprecated and '\n"
          ],
          "name": "stderr"
        }
      ]
    },
    {
      "cell_type": "code",
      "metadata": {
        "colab": {
          "base_uri": "https://localhost:8080/"
        },
        "id": "XSEexpz4FS47",
        "outputId": "ac3fd928-55c2-4ba3-ed17-3197b39b8848"
      },
      "source": [
        "# acc = model.evaluate_generator(test_generator, steps=5,)\n",
        "acc = model.evaluate(test_generator, steps=5,)\n",
        "print(f'Accuracy: {acc[1]:.4f}')"
      ],
      "execution_count": 23,
      "outputs": [
        {
          "output_type": "stream",
          "text": [
            "5/5 [==============================] - 0s 10ms/step - loss: 0.0219 - accuracy: 1.0000\n",
            "Accuracy: 1.0000\n"
          ],
          "name": "stdout"
        }
      ]
    }
  ]
}