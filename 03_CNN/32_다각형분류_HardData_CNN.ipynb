{
  "nbformat": 4,
  "nbformat_minor": 0,
  "metadata": {
    "colab": {
      "name": "31_다각형분류_HardData_CNN.ipynb",
      "provenance": [],
      "collapsed_sections": []
    },
    "kernelspec": {
      "name": "python3",
      "display_name": "Python 3"
    },
    "language_info": {
      "name": "python"
    }
  },
  "cells": [
    {
      "cell_type": "markdown",
      "metadata": {
        "id": "5L3d7xTZ-SYY"
      },
      "source": [
        "# 원, 사각형, 삼각형 구분하기"
      ]
    },
    {
      "cell_type": "markdown",
      "metadata": {
        "id": "kLES1iZ3_X7U"
      },
      "source": [
        "### 2. 어려운 테스트 문제를 기존 CNN 모델로 푸는 경우"
      ]
    },
    {
      "cell_type": "code",
      "metadata": {
        "id": "3RJS2sgv_bXq"
      },
      "source": [
        "import numpy as np\n",
        "import tensorflow as tf\n",
        "from tensorflow.keras.models import Sequential\n",
        "from tensorflow.keras.layers import Dense, Conv2D, Flatten, MaxPooling2D\n",
        "from tensorflow.keras.preprocessing.image import ImageDataGenerator"
      ],
      "execution_count": 1,
      "outputs": []
    },
    {
      "cell_type": "code",
      "metadata": {
        "id": "89t8l5kH_PXA"
      },
      "source": [
        "seed = 2021\n",
        "np.random.seed(seed)\n",
        "tf.random.set_seed(seed)"
      ],
      "execution_count": 2,
      "outputs": []
    },
    {
      "cell_type": "markdown",
      "metadata": {
        "id": "Uccww2nuBByM"
      },
      "source": [
        "### 데이터셋 생성하기"
      ]
    },
    {
      "cell_type": "code",
      "metadata": {
        "colab": {
          "base_uri": "https://localhost:8080/"
        },
        "id": "jsoydB-AAjHZ",
        "outputId": "6d43362b-5e11-4356-9600-e64c9028e7fd"
      },
      "source": [
        "train_datagen = ImageDataGenerator(rescale=1./255)\n",
        "train_generator = train_datagen.flow_from_directory(\n",
        "    'hard_handwriting_shape/train',\n",
        "    target_size=(24,24),\n",
        "    batch_size=3,\n",
        "    class_mode='categorical'\n",
        ")"
      ],
      "execution_count": 3,
      "outputs": [
        {
          "output_type": "stream",
          "text": [
            "Found 45 images belonging to 3 classes.\n"
          ],
          "name": "stdout"
        }
      ]
    },
    {
      "cell_type": "code",
      "metadata": {
        "colab": {
          "base_uri": "https://localhost:8080/"
        },
        "id": "gpiSZF_JBdOd",
        "outputId": "57a17a44-c525-4e6d-e187-f01c835ff7ee"
      },
      "source": [
        "test_datagen = ImageDataGenerator(rescale=1./255)\n",
        "test_generator = test_datagen.flow_from_directory(\n",
        "    'hard_handwriting_shape/test',\n",
        "    target_size=(24,24),\n",
        "    batch_size=3,\n",
        "    class_mode='categorical'\n",
        ")"
      ],
      "execution_count": 4,
      "outputs": [
        {
          "output_type": "stream",
          "text": [
            "Found 15 images belonging to 3 classes.\n"
          ],
          "name": "stdout"
        }
      ]
    },
    {
      "cell_type": "markdown",
      "metadata": {
        "id": "i7HjEf5GCKa4"
      },
      "source": [
        "### 모델 정의/설정"
      ]
    },
    {
      "cell_type": "code",
      "metadata": {
        "colab": {
          "base_uri": "https://localhost:8080/"
        },
        "id": "r181ng89B81x",
        "outputId": "fba3dd55-375b-4274-8ace-d5be50e99505"
      },
      "source": [
        "model = Sequential([\n",
        "    Conv2D(32, (3,3), activation='relu', input_shape=(24,24,3)),\n",
        "    Conv2D(64, (3,3), activation='relu'),\n",
        "    MaxPooling2D(),\n",
        "    Flatten(),\n",
        "    Dense(128, activation='relu'),    \n",
        "    Dense(3, activation='softmax')\n",
        "])\n",
        "model.summary()"
      ],
      "execution_count": 8,
      "outputs": [
        {
          "output_type": "stream",
          "text": [
            "Model: \"sequential\"\n",
            "_________________________________________________________________\n",
            "Layer (type)                 Output Shape              Param #   \n",
            "=================================================================\n",
            "conv2d_2 (Conv2D)            (None, 22, 22, 32)        896       \n",
            "_________________________________________________________________\n",
            "conv2d_3 (Conv2D)            (None, 20, 20, 64)        18496     \n",
            "_________________________________________________________________\n",
            "max_pooling2d (MaxPooling2D) (None, 10, 10, 64)        0         \n",
            "_________________________________________________________________\n",
            "flatten (Flatten)            (None, 6400)              0         \n",
            "_________________________________________________________________\n",
            "dense (Dense)                (None, 128)               819328    \n",
            "_________________________________________________________________\n",
            "dense_1 (Dense)              (None, 3)                 387       \n",
            "=================================================================\n",
            "Total params: 839,107\n",
            "Trainable params: 839,107\n",
            "Non-trainable params: 0\n",
            "_________________________________________________________________\n"
          ],
          "name": "stdout"
        }
      ]
    },
    {
      "cell_type": "code",
      "metadata": {
        "id": "lptEQfCoC5yt"
      },
      "source": [
        "model.compile(loss='categorical_crossentropy', optimizer='adam', metrics=['accuracy'])"
      ],
      "execution_count": 9,
      "outputs": []
    },
    {
      "cell_type": "markdown",
      "metadata": {
        "id": "DJ4qFf6CDKAC"
      },
      "source": [
        "### 모델학습\n",
        "- 첫번째 인자 : 훈련데이터셋을 제공할 제네레이터를 지정. 본 예제에서는 앞서 생성한 train_generator으로 지정.\n",
        "- steps_per_epoch : 한 epoch에 사용할 스텝 수를 지정. 총 45개의 훈련 샘플이 있고 배치사이즈가 3이므로 15 스텝으로 지정.\n",
        "- epochs : 전체 훈련 데이터셋에 대해 학습 반복 횟수를 지정. 50번을 반복적으로 학습.\n",
        "- validation_data : 검증데이터셋을 제공할 제네레이터를 지정. 본 예제에서는 앞서 생성한 test_generator으로 지정.\n",
        "- validation_steps : 한 epoch 종료 시 마다 검증할 때 사용되는 검증 스텝 수를 지정. 총 15개의 검증 샘플이 있고 배치사이즈가 3이므로 5 스텝으로 지정.\n"
      ]
    },
    {
      "cell_type": "code",
      "metadata": {
        "colab": {
          "base_uri": "https://localhost:8080/"
        },
        "id": "4lkZP_4nB3ZG",
        "outputId": "c0ead2fd-414f-48da-8113-7b377576a7ee"
      },
      "source": [
        "model.fit_generator(\n",
        "    train_generator, \n",
        "    steps_per_epoch=15,\n",
        "    epochs=200,\n",
        "    validation_data=test_generator,\n",
        "    validation_steps=5\n",
        ")"
      ],
      "execution_count": 10,
      "outputs": [
        {
          "output_type": "stream",
          "text": [
            "/usr/local/lib/python3.7/dist-packages/tensorflow/python/keras/engine/training.py:1844: UserWarning: `Model.fit_generator` is deprecated and will be removed in a future version. Please use `Model.fit`, which supports generators.\n",
            "  warnings.warn('`Model.fit_generator` is deprecated and '\n"
          ],
          "name": "stderr"
        },
        {
          "output_type": "stream",
          "text": [
            "Epoch 1/200\n",
            "15/15 [==============================] - 1s 49ms/step - loss: 1.1594 - accuracy: 0.5393 - val_loss: 1.7591 - val_accuracy: 0.3333\n",
            "Epoch 2/200\n",
            "15/15 [==============================] - 0s 24ms/step - loss: 0.5652 - accuracy: 0.6748 - val_loss: 2.4756 - val_accuracy: 0.4000\n",
            "Epoch 3/200\n",
            "15/15 [==============================] - 0s 23ms/step - loss: 0.0311 - accuracy: 1.0000 - val_loss: 4.7149 - val_accuracy: 0.3333\n",
            "Epoch 4/200\n",
            "15/15 [==============================] - 0s 27ms/step - loss: 0.0029 - accuracy: 1.0000 - val_loss: 5.0404 - val_accuracy: 0.4000\n",
            "Epoch 5/200\n",
            "15/15 [==============================] - 0s 30ms/step - loss: 7.3361e-04 - accuracy: 1.0000 - val_loss: 5.1915 - val_accuracy: 0.4000\n",
            "Epoch 6/200\n",
            "15/15 [==============================] - 0s 28ms/step - loss: 5.5748e-04 - accuracy: 1.0000 - val_loss: 5.3644 - val_accuracy: 0.4000\n",
            "Epoch 7/200\n",
            "15/15 [==============================] - 0s 23ms/step - loss: 3.3041e-04 - accuracy: 1.0000 - val_loss: 5.5070 - val_accuracy: 0.4000\n",
            "Epoch 8/200\n",
            "15/15 [==============================] - 0s 23ms/step - loss: 1.9197e-04 - accuracy: 1.0000 - val_loss: 5.5980 - val_accuracy: 0.4000\n",
            "Epoch 9/200\n",
            "15/15 [==============================] - 0s 31ms/step - loss: 1.9133e-04 - accuracy: 1.0000 - val_loss: 5.6698 - val_accuracy: 0.4000\n",
            "Epoch 10/200\n",
            "15/15 [==============================] - 0s 31ms/step - loss: 2.2644e-04 - accuracy: 1.0000 - val_loss: 5.7417 - val_accuracy: 0.4000\n",
            "Epoch 11/200\n",
            "15/15 [==============================] - 0s 27ms/step - loss: 1.5720e-04 - accuracy: 1.0000 - val_loss: 5.8159 - val_accuracy: 0.4000\n",
            "Epoch 12/200\n",
            "15/15 [==============================] - 0s 24ms/step - loss: 1.4832e-04 - accuracy: 1.0000 - val_loss: 5.8884 - val_accuracy: 0.4000\n",
            "Epoch 13/200\n",
            "15/15 [==============================] - 0s 24ms/step - loss: 1.4732e-04 - accuracy: 1.0000 - val_loss: 5.9508 - val_accuracy: 0.4000\n",
            "Epoch 14/200\n",
            "15/15 [==============================] - 0s 25ms/step - loss: 1.2610e-04 - accuracy: 1.0000 - val_loss: 6.0032 - val_accuracy: 0.4000\n",
            "Epoch 15/200\n",
            "15/15 [==============================] - 0s 25ms/step - loss: 1.1288e-04 - accuracy: 1.0000 - val_loss: 6.0873 - val_accuracy: 0.4000\n",
            "Epoch 16/200\n",
            "15/15 [==============================] - 0s 27ms/step - loss: 9.8589e-05 - accuracy: 1.0000 - val_loss: 6.1490 - val_accuracy: 0.4000\n",
            "Epoch 17/200\n",
            "15/15 [==============================] - 0s 32ms/step - loss: 9.4132e-05 - accuracy: 1.0000 - val_loss: 6.2094 - val_accuracy: 0.4000\n",
            "Epoch 18/200\n",
            "15/15 [==============================] - 0s 29ms/step - loss: 7.8967e-05 - accuracy: 1.0000 - val_loss: 6.2592 - val_accuracy: 0.4000\n",
            "Epoch 19/200\n",
            "15/15 [==============================] - 0s 31ms/step - loss: 6.3020e-05 - accuracy: 1.0000 - val_loss: 6.3103 - val_accuracy: 0.4000\n",
            "Epoch 20/200\n",
            "15/15 [==============================] - 0s 27ms/step - loss: 5.9909e-05 - accuracy: 1.0000 - val_loss: 6.3524 - val_accuracy: 0.4000\n",
            "Epoch 21/200\n",
            "15/15 [==============================] - 0s 31ms/step - loss: 7.6520e-05 - accuracy: 1.0000 - val_loss: 6.3913 - val_accuracy: 0.4000\n",
            "Epoch 22/200\n",
            "15/15 [==============================] - 0s 33ms/step - loss: 4.5608e-05 - accuracy: 1.0000 - val_loss: 6.4360 - val_accuracy: 0.4000\n",
            "Epoch 23/200\n",
            "15/15 [==============================] - 0s 33ms/step - loss: 4.5872e-05 - accuracy: 1.0000 - val_loss: 6.4630 - val_accuracy: 0.4000\n",
            "Epoch 24/200\n",
            "15/15 [==============================] - 0s 29ms/step - loss: 3.9755e-05 - accuracy: 1.0000 - val_loss: 6.4913 - val_accuracy: 0.4000\n",
            "Epoch 25/200\n",
            "15/15 [==============================] - 0s 30ms/step - loss: 4.1375e-05 - accuracy: 1.0000 - val_loss: 6.5186 - val_accuracy: 0.4000\n",
            "Epoch 26/200\n",
            "15/15 [==============================] - 0s 32ms/step - loss: 5.0366e-05 - accuracy: 1.0000 - val_loss: 6.5519 - val_accuracy: 0.4000\n",
            "Epoch 27/200\n",
            "15/15 [==============================] - 1s 34ms/step - loss: 4.1440e-05 - accuracy: 1.0000 - val_loss: 6.5860 - val_accuracy: 0.4000\n",
            "Epoch 28/200\n",
            "15/15 [==============================] - 0s 33ms/step - loss: 3.1867e-05 - accuracy: 1.0000 - val_loss: 6.6083 - val_accuracy: 0.4000\n",
            "Epoch 29/200\n",
            "15/15 [==============================] - 1s 34ms/step - loss: 4.9298e-05 - accuracy: 1.0000 - val_loss: 6.6400 - val_accuracy: 0.4000\n",
            "Epoch 30/200\n",
            "15/15 [==============================] - 0s 31ms/step - loss: 2.5022e-05 - accuracy: 1.0000 - val_loss: 6.6753 - val_accuracy: 0.4000\n",
            "Epoch 31/200\n",
            "15/15 [==============================] - 1s 35ms/step - loss: 3.1414e-05 - accuracy: 1.0000 - val_loss: 6.6878 - val_accuracy: 0.4000\n",
            "Epoch 32/200\n",
            "15/15 [==============================] - 0s 32ms/step - loss: 2.4970e-05 - accuracy: 1.0000 - val_loss: 6.7278 - val_accuracy: 0.4000\n",
            "Epoch 33/200\n",
            "15/15 [==============================] - 0s 25ms/step - loss: 2.7750e-05 - accuracy: 1.0000 - val_loss: 6.7382 - val_accuracy: 0.4000\n",
            "Epoch 34/200\n",
            "15/15 [==============================] - 0s 24ms/step - loss: 2.9492e-05 - accuracy: 1.0000 - val_loss: 6.7780 - val_accuracy: 0.4000\n",
            "Epoch 35/200\n",
            "15/15 [==============================] - 0s 27ms/step - loss: 1.6508e-05 - accuracy: 1.0000 - val_loss: 6.7999 - val_accuracy: 0.4000\n",
            "Epoch 36/200\n",
            "15/15 [==============================] - 1s 36ms/step - loss: 1.8367e-05 - accuracy: 1.0000 - val_loss: 6.8288 - val_accuracy: 0.4000\n",
            "Epoch 37/200\n",
            "15/15 [==============================] - 0s 27ms/step - loss: 1.6870e-05 - accuracy: 1.0000 - val_loss: 6.8472 - val_accuracy: 0.4000\n",
            "Epoch 38/200\n",
            "15/15 [==============================] - 0s 25ms/step - loss: 1.5919e-05 - accuracy: 1.0000 - val_loss: 6.8733 - val_accuracy: 0.4000\n",
            "Epoch 39/200\n",
            "15/15 [==============================] - 0s 25ms/step - loss: 1.8721e-05 - accuracy: 1.0000 - val_loss: 6.9045 - val_accuracy: 0.4000\n",
            "Epoch 40/200\n",
            "15/15 [==============================] - 0s 34ms/step - loss: 1.7070e-05 - accuracy: 1.0000 - val_loss: 6.9355 - val_accuracy: 0.4000\n",
            "Epoch 41/200\n",
            "15/15 [==============================] - 1s 33ms/step - loss: 2.1058e-05 - accuracy: 1.0000 - val_loss: 6.9631 - val_accuracy: 0.4000\n",
            "Epoch 42/200\n",
            "15/15 [==============================] - 1s 35ms/step - loss: 1.3332e-05 - accuracy: 1.0000 - val_loss: 6.9901 - val_accuracy: 0.4000\n",
            "Epoch 43/200\n",
            "15/15 [==============================] - 0s 30ms/step - loss: 1.3956e-05 - accuracy: 1.0000 - val_loss: 7.0112 - val_accuracy: 0.4000\n",
            "Epoch 44/200\n",
            "15/15 [==============================] - 0s 25ms/step - loss: 1.2673e-05 - accuracy: 1.0000 - val_loss: 7.0358 - val_accuracy: 0.4000\n",
            "Epoch 45/200\n",
            "15/15 [==============================] - 0s 25ms/step - loss: 9.6208e-06 - accuracy: 1.0000 - val_loss: 7.0554 - val_accuracy: 0.4000\n",
            "Epoch 46/200\n",
            "15/15 [==============================] - 0s 25ms/step - loss: 1.4583e-05 - accuracy: 1.0000 - val_loss: 7.0826 - val_accuracy: 0.4000\n",
            "Epoch 47/200\n",
            "15/15 [==============================] - 0s 24ms/step - loss: 9.5647e-06 - accuracy: 1.0000 - val_loss: 7.0908 - val_accuracy: 0.4000\n",
            "Epoch 48/200\n",
            "15/15 [==============================] - 0s 24ms/step - loss: 1.4875e-05 - accuracy: 1.0000 - val_loss: 7.1090 - val_accuracy: 0.4000\n",
            "Epoch 49/200\n",
            "15/15 [==============================] - 0s 25ms/step - loss: 6.7341e-06 - accuracy: 1.0000 - val_loss: 7.1315 - val_accuracy: 0.4000\n",
            "Epoch 50/200\n",
            "15/15 [==============================] - 0s 23ms/step - loss: 7.5204e-06 - accuracy: 1.0000 - val_loss: 7.1302 - val_accuracy: 0.4000\n",
            "Epoch 51/200\n",
            "15/15 [==============================] - 0s 24ms/step - loss: 1.2197e-05 - accuracy: 1.0000 - val_loss: 7.1439 - val_accuracy: 0.4000\n",
            "Epoch 52/200\n",
            "15/15 [==============================] - 0s 24ms/step - loss: 8.7378e-06 - accuracy: 1.0000 - val_loss: 7.1541 - val_accuracy: 0.4000\n",
            "Epoch 53/200\n",
            "15/15 [==============================] - 0s 24ms/step - loss: 4.6551e-06 - accuracy: 1.0000 - val_loss: 7.1724 - val_accuracy: 0.4000\n",
            "Epoch 54/200\n",
            "15/15 [==============================] - 0s 24ms/step - loss: 7.2701e-06 - accuracy: 1.0000 - val_loss: 7.1821 - val_accuracy: 0.4000\n",
            "Epoch 55/200\n",
            "15/15 [==============================] - 0s 23ms/step - loss: 9.0481e-06 - accuracy: 1.0000 - val_loss: 7.1886 - val_accuracy: 0.4000\n",
            "Epoch 56/200\n",
            "15/15 [==============================] - 0s 26ms/step - loss: 6.4381e-06 - accuracy: 1.0000 - val_loss: 7.2058 - val_accuracy: 0.4000\n",
            "Epoch 57/200\n",
            "15/15 [==============================] - 0s 31ms/step - loss: 7.6272e-06 - accuracy: 1.0000 - val_loss: 7.2120 - val_accuracy: 0.4000\n",
            "Epoch 58/200\n",
            "15/15 [==============================] - 0s 31ms/step - loss: 5.1830e-06 - accuracy: 1.0000 - val_loss: 7.2297 - val_accuracy: 0.4000\n",
            "Epoch 59/200\n",
            "15/15 [==============================] - 0s 30ms/step - loss: 7.6241e-06 - accuracy: 1.0000 - val_loss: 7.2452 - val_accuracy: 0.4000\n",
            "Epoch 60/200\n",
            "15/15 [==============================] - 1s 34ms/step - loss: 5.7713e-06 - accuracy: 1.0000 - val_loss: 7.2482 - val_accuracy: 0.4000\n",
            "Epoch 61/200\n",
            "15/15 [==============================] - 0s 31ms/step - loss: 8.3587e-06 - accuracy: 1.0000 - val_loss: 7.2585 - val_accuracy: 0.4000\n",
            "Epoch 62/200\n",
            "15/15 [==============================] - 0s 31ms/step - loss: 7.6116e-06 - accuracy: 1.0000 - val_loss: 7.2714 - val_accuracy: 0.4000\n",
            "Epoch 63/200\n",
            "15/15 [==============================] - 0s 26ms/step - loss: 7.5064e-06 - accuracy: 1.0000 - val_loss: 7.2797 - val_accuracy: 0.4000\n",
            "Epoch 64/200\n",
            "15/15 [==============================] - 0s 25ms/step - loss: 5.4450e-06 - accuracy: 1.0000 - val_loss: 7.2911 - val_accuracy: 0.4000\n",
            "Epoch 65/200\n",
            "15/15 [==============================] - 0s 24ms/step - loss: 4.3438e-06 - accuracy: 1.0000 - val_loss: 7.3051 - val_accuracy: 0.4000\n",
            "Epoch 66/200\n",
            "15/15 [==============================] - 0s 26ms/step - loss: 5.2686e-06 - accuracy: 1.0000 - val_loss: 7.3175 - val_accuracy: 0.4000\n",
            "Epoch 67/200\n",
            "15/15 [==============================] - 0s 26ms/step - loss: 5.8603e-06 - accuracy: 1.0000 - val_loss: 7.3235 - val_accuracy: 0.4000\n",
            "Epoch 68/200\n",
            "15/15 [==============================] - 0s 25ms/step - loss: 5.2464e-06 - accuracy: 1.0000 - val_loss: 7.3370 - val_accuracy: 0.4000\n",
            "Epoch 69/200\n",
            "15/15 [==============================] - 0s 25ms/step - loss: 3.9857e-06 - accuracy: 1.0000 - val_loss: 7.3441 - val_accuracy: 0.4000\n",
            "Epoch 70/200\n",
            "15/15 [==============================] - 0s 24ms/step - loss: 3.0619e-06 - accuracy: 1.0000 - val_loss: 7.3531 - val_accuracy: 0.4000\n",
            "Epoch 71/200\n",
            "15/15 [==============================] - 0s 30ms/step - loss: 3.4629e-06 - accuracy: 1.0000 - val_loss: 7.3604 - val_accuracy: 0.4000\n",
            "Epoch 72/200\n",
            "15/15 [==============================] - 0s 31ms/step - loss: 3.6029e-06 - accuracy: 1.0000 - val_loss: 7.3788 - val_accuracy: 0.4000\n",
            "Epoch 73/200\n",
            "15/15 [==============================] - 0s 29ms/step - loss: 3.1106e-06 - accuracy: 1.0000 - val_loss: 7.3869 - val_accuracy: 0.4000\n",
            "Epoch 74/200\n",
            "15/15 [==============================] - 0s 32ms/step - loss: 2.6055e-06 - accuracy: 1.0000 - val_loss: 7.3994 - val_accuracy: 0.4000\n",
            "Epoch 75/200\n",
            "15/15 [==============================] - 0s 33ms/step - loss: 3.5922e-06 - accuracy: 1.0000 - val_loss: 7.4058 - val_accuracy: 0.4000\n",
            "Epoch 76/200\n",
            "15/15 [==============================] - 0s 31ms/step - loss: 5.2405e-06 - accuracy: 1.0000 - val_loss: 7.4154 - val_accuracy: 0.4000\n",
            "Epoch 77/200\n",
            "15/15 [==============================] - 0s 31ms/step - loss: 2.9762e-06 - accuracy: 1.0000 - val_loss: 7.4228 - val_accuracy: 0.4000\n",
            "Epoch 78/200\n",
            "15/15 [==============================] - 0s 29ms/step - loss: 2.8111e-06 - accuracy: 1.0000 - val_loss: 7.4358 - val_accuracy: 0.4000\n",
            "Epoch 79/200\n",
            "15/15 [==============================] - 0s 32ms/step - loss: 3.4846e-06 - accuracy: 1.0000 - val_loss: 7.4482 - val_accuracy: 0.4000\n",
            "Epoch 80/200\n",
            "15/15 [==============================] - 0s 30ms/step - loss: 4.6815e-06 - accuracy: 1.0000 - val_loss: 7.4542 - val_accuracy: 0.4000\n",
            "Epoch 81/200\n",
            "15/15 [==============================] - 0s 32ms/step - loss: 3.8401e-06 - accuracy: 1.0000 - val_loss: 7.4652 - val_accuracy: 0.4000\n",
            "Epoch 82/200\n",
            "15/15 [==============================] - 0s 32ms/step - loss: 2.9452e-06 - accuracy: 1.0000 - val_loss: 7.4711 - val_accuracy: 0.4000\n",
            "Epoch 83/200\n",
            "15/15 [==============================] - 1s 35ms/step - loss: 2.3129e-06 - accuracy: 1.0000 - val_loss: 7.4846 - val_accuracy: 0.4000\n",
            "Epoch 84/200\n",
            "15/15 [==============================] - 0s 31ms/step - loss: 1.8827e-06 - accuracy: 1.0000 - val_loss: 7.4901 - val_accuracy: 0.4000\n",
            "Epoch 85/200\n",
            "15/15 [==============================] - 0s 33ms/step - loss: 2.2682e-06 - accuracy: 1.0000 - val_loss: 7.5049 - val_accuracy: 0.4000\n",
            "Epoch 86/200\n",
            "15/15 [==============================] - 0s 31ms/step - loss: 2.4626e-06 - accuracy: 1.0000 - val_loss: 7.5101 - val_accuracy: 0.4000\n",
            "Epoch 87/200\n",
            "15/15 [==============================] - 1s 34ms/step - loss: 3.1390e-06 - accuracy: 1.0000 - val_loss: 7.5189 - val_accuracy: 0.4000\n",
            "Epoch 88/200\n",
            "15/15 [==============================] - 0s 30ms/step - loss: 2.3739e-06 - accuracy: 1.0000 - val_loss: 7.5249 - val_accuracy: 0.4000\n",
            "Epoch 89/200\n",
            "15/15 [==============================] - 0s 29ms/step - loss: 1.8562e-06 - accuracy: 1.0000 - val_loss: 7.5361 - val_accuracy: 0.4000\n",
            "Epoch 90/200\n",
            "15/15 [==============================] - 0s 24ms/step - loss: 1.7569e-06 - accuracy: 1.0000 - val_loss: 7.5504 - val_accuracy: 0.4000\n",
            "Epoch 91/200\n",
            "15/15 [==============================] - 0s 24ms/step - loss: 1.9694e-06 - accuracy: 1.0000 - val_loss: 7.5603 - val_accuracy: 0.4000\n",
            "Epoch 92/200\n",
            "15/15 [==============================] - 0s 25ms/step - loss: 2.4783e-06 - accuracy: 1.0000 - val_loss: 7.5704 - val_accuracy: 0.4000\n",
            "Epoch 93/200\n",
            "15/15 [==============================] - 0s 24ms/step - loss: 2.6218e-06 - accuracy: 1.0000 - val_loss: 7.5759 - val_accuracy: 0.4000\n",
            "Epoch 94/200\n",
            "15/15 [==============================] - 0s 27ms/step - loss: 2.2225e-06 - accuracy: 1.0000 - val_loss: 7.5829 - val_accuracy: 0.4000\n",
            "Epoch 95/200\n",
            "15/15 [==============================] - 0s 32ms/step - loss: 3.6641e-06 - accuracy: 1.0000 - val_loss: 7.5889 - val_accuracy: 0.4000\n",
            "Epoch 96/200\n",
            "15/15 [==============================] - 1s 33ms/step - loss: 2.2666e-06 - accuracy: 1.0000 - val_loss: 7.6043 - val_accuracy: 0.4000\n",
            "Epoch 97/200\n",
            "15/15 [==============================] - 1s 34ms/step - loss: 3.1688e-06 - accuracy: 1.0000 - val_loss: 7.6099 - val_accuracy: 0.4000\n",
            "Epoch 98/200\n",
            "15/15 [==============================] - 0s 31ms/step - loss: 2.5671e-06 - accuracy: 1.0000 - val_loss: 7.6178 - val_accuracy: 0.4000\n",
            "Epoch 99/200\n",
            "15/15 [==============================] - 0s 32ms/step - loss: 2.0021e-06 - accuracy: 1.0000 - val_loss: 7.6262 - val_accuracy: 0.4000\n",
            "Epoch 100/200\n",
            "15/15 [==============================] - 0s 32ms/step - loss: 1.4039e-06 - accuracy: 1.0000 - val_loss: 7.6351 - val_accuracy: 0.4000\n",
            "Epoch 101/200\n",
            "15/15 [==============================] - 0s 24ms/step - loss: 1.6332e-06 - accuracy: 1.0000 - val_loss: 7.6443 - val_accuracy: 0.4000\n",
            "Epoch 102/200\n",
            "15/15 [==============================] - 0s 25ms/step - loss: 1.6375e-06 - accuracy: 1.0000 - val_loss: 7.6495 - val_accuracy: 0.4000\n",
            "Epoch 103/200\n",
            "15/15 [==============================] - 0s 25ms/step - loss: 1.7482e-06 - accuracy: 1.0000 - val_loss: 7.6600 - val_accuracy: 0.4000\n",
            "Epoch 104/200\n",
            "15/15 [==============================] - 0s 26ms/step - loss: 1.4253e-06 - accuracy: 1.0000 - val_loss: 7.6695 - val_accuracy: 0.4000\n",
            "Epoch 105/200\n",
            "15/15 [==============================] - 0s 26ms/step - loss: 2.4329e-06 - accuracy: 1.0000 - val_loss: 7.6764 - val_accuracy: 0.4000\n",
            "Epoch 106/200\n",
            "15/15 [==============================] - 0s 24ms/step - loss: 1.5863e-06 - accuracy: 1.0000 - val_loss: 7.6838 - val_accuracy: 0.4000\n",
            "Epoch 107/200\n",
            "15/15 [==============================] - 0s 25ms/step - loss: 1.3226e-06 - accuracy: 1.0000 - val_loss: 7.6972 - val_accuracy: 0.4000\n",
            "Epoch 108/200\n",
            "15/15 [==============================] - 0s 25ms/step - loss: 1.6663e-06 - accuracy: 1.0000 - val_loss: 7.6993 - val_accuracy: 0.4000\n",
            "Epoch 109/200\n",
            "15/15 [==============================] - 0s 25ms/step - loss: 1.3139e-06 - accuracy: 1.0000 - val_loss: 7.7132 - val_accuracy: 0.4000\n",
            "Epoch 110/200\n",
            "15/15 [==============================] - 0s 25ms/step - loss: 1.7542e-06 - accuracy: 1.0000 - val_loss: 7.7191 - val_accuracy: 0.4000\n",
            "Epoch 111/200\n",
            "15/15 [==============================] - 0s 25ms/step - loss: 1.4984e-06 - accuracy: 1.0000 - val_loss: 7.7271 - val_accuracy: 0.4000\n",
            "Epoch 112/200\n",
            "15/15 [==============================] - 0s 27ms/step - loss: 2.3778e-06 - accuracy: 1.0000 - val_loss: 7.7354 - val_accuracy: 0.4000\n",
            "Epoch 113/200\n",
            "15/15 [==============================] - 0s 28ms/step - loss: 1.1109e-06 - accuracy: 1.0000 - val_loss: 7.7460 - val_accuracy: 0.4000\n",
            "Epoch 114/200\n",
            "15/15 [==============================] - 0s 27ms/step - loss: 1.4909e-06 - accuracy: 1.0000 - val_loss: 7.7477 - val_accuracy: 0.4000\n",
            "Epoch 115/200\n",
            "15/15 [==============================] - 0s 27ms/step - loss: 1.3205e-06 - accuracy: 1.0000 - val_loss: 7.7574 - val_accuracy: 0.4000\n",
            "Epoch 116/200\n",
            "15/15 [==============================] - 1s 35ms/step - loss: 1.1766e-06 - accuracy: 1.0000 - val_loss: 7.7660 - val_accuracy: 0.4000\n",
            "Epoch 117/200\n",
            "15/15 [==============================] - 1s 35ms/step - loss: 1.9809e-06 - accuracy: 1.0000 - val_loss: 7.7707 - val_accuracy: 0.4000\n",
            "Epoch 118/200\n",
            "15/15 [==============================] - 1s 36ms/step - loss: 1.2581e-06 - accuracy: 1.0000 - val_loss: 7.7806 - val_accuracy: 0.4000\n",
            "Epoch 119/200\n",
            "15/15 [==============================] - 1s 35ms/step - loss: 9.5343e-07 - accuracy: 1.0000 - val_loss: 7.7886 - val_accuracy: 0.4000\n",
            "Epoch 120/200\n",
            "15/15 [==============================] - 0s 30ms/step - loss: 1.1102e-06 - accuracy: 1.0000 - val_loss: 7.7982 - val_accuracy: 0.4000\n",
            "Epoch 121/200\n",
            "15/15 [==============================] - 0s 33ms/step - loss: 9.2721e-07 - accuracy: 1.0000 - val_loss: 7.8044 - val_accuracy: 0.4000\n",
            "Epoch 122/200\n",
            "15/15 [==============================] - 0s 32ms/step - loss: 1.0896e-06 - accuracy: 1.0000 - val_loss: 7.8134 - val_accuracy: 0.4000\n",
            "Epoch 123/200\n",
            "15/15 [==============================] - 0s 31ms/step - loss: 1.8818e-06 - accuracy: 1.0000 - val_loss: 7.8164 - val_accuracy: 0.4000\n",
            "Epoch 124/200\n",
            "15/15 [==============================] - 0s 25ms/step - loss: 1.1164e-06 - accuracy: 1.0000 - val_loss: 7.8295 - val_accuracy: 0.4000\n",
            "Epoch 125/200\n",
            "15/15 [==============================] - 0s 26ms/step - loss: 1.0786e-06 - accuracy: 1.0000 - val_loss: 7.8336 - val_accuracy: 0.4000\n",
            "Epoch 126/200\n",
            "15/15 [==============================] - 0s 25ms/step - loss: 8.9804e-07 - accuracy: 1.0000 - val_loss: 7.8444 - val_accuracy: 0.4000\n",
            "Epoch 127/200\n",
            "15/15 [==============================] - 0s 26ms/step - loss: 1.2549e-06 - accuracy: 1.0000 - val_loss: 7.8483 - val_accuracy: 0.4000\n",
            "Epoch 128/200\n",
            "15/15 [==============================] - 0s 28ms/step - loss: 1.3772e-06 - accuracy: 1.0000 - val_loss: 7.8570 - val_accuracy: 0.4000\n",
            "Epoch 129/200\n",
            "15/15 [==============================] - 0s 25ms/step - loss: 1.4731e-06 - accuracy: 1.0000 - val_loss: 7.8645 - val_accuracy: 0.4000\n",
            "Epoch 130/200\n",
            "15/15 [==============================] - 0s 26ms/step - loss: 1.3506e-06 - accuracy: 1.0000 - val_loss: 7.8721 - val_accuracy: 0.4000\n",
            "Epoch 131/200\n",
            "15/15 [==============================] - 0s 32ms/step - loss: 1.4749e-06 - accuracy: 1.0000 - val_loss: 7.8802 - val_accuracy: 0.4000\n",
            "Epoch 132/200\n",
            "15/15 [==============================] - 0s 32ms/step - loss: 1.0268e-06 - accuracy: 1.0000 - val_loss: 7.8905 - val_accuracy: 0.4000\n",
            "Epoch 133/200\n",
            "15/15 [==============================] - 1s 33ms/step - loss: 7.4600e-07 - accuracy: 1.0000 - val_loss: 7.8991 - val_accuracy: 0.4000\n",
            "Epoch 134/200\n",
            "15/15 [==============================] - 1s 34ms/step - loss: 9.4658e-07 - accuracy: 1.0000 - val_loss: 7.8990 - val_accuracy: 0.4000\n",
            "Epoch 135/200\n",
            "15/15 [==============================] - 0s 27ms/step - loss: 8.0354e-07 - accuracy: 1.0000 - val_loss: 7.9078 - val_accuracy: 0.4000\n",
            "Epoch 136/200\n",
            "15/15 [==============================] - 0s 24ms/step - loss: 7.6174e-07 - accuracy: 1.0000 - val_loss: 7.9172 - val_accuracy: 0.4000\n",
            "Epoch 137/200\n",
            "15/15 [==============================] - 0s 28ms/step - loss: 1.2015e-06 - accuracy: 1.0000 - val_loss: 7.9236 - val_accuracy: 0.4000\n",
            "Epoch 138/200\n",
            "15/15 [==============================] - 0s 30ms/step - loss: 7.7540e-07 - accuracy: 1.0000 - val_loss: 7.9306 - val_accuracy: 0.4000\n",
            "Epoch 139/200\n",
            "15/15 [==============================] - 1s 34ms/step - loss: 8.5864e-07 - accuracy: 1.0000 - val_loss: 7.9360 - val_accuracy: 0.4000\n",
            "Epoch 140/200\n",
            "15/15 [==============================] - 0s 29ms/step - loss: 9.0082e-07 - accuracy: 1.0000 - val_loss: 7.9450 - val_accuracy: 0.4000\n",
            "Epoch 141/200\n",
            "15/15 [==============================] - 0s 32ms/step - loss: 6.4400e-07 - accuracy: 1.0000 - val_loss: 7.9547 - val_accuracy: 0.4000\n",
            "Epoch 142/200\n",
            "15/15 [==============================] - 0s 26ms/step - loss: 1.0327e-06 - accuracy: 1.0000 - val_loss: 7.9597 - val_accuracy: 0.4000\n",
            "Epoch 143/200\n",
            "15/15 [==============================] - 0s 26ms/step - loss: 6.7935e-07 - accuracy: 1.0000 - val_loss: 7.9657 - val_accuracy: 0.4000\n",
            "Epoch 144/200\n",
            "15/15 [==============================] - 0s 25ms/step - loss: 6.8452e-07 - accuracy: 1.0000 - val_loss: 7.9725 - val_accuracy: 0.4000\n",
            "Epoch 145/200\n",
            "15/15 [==============================] - 0s 25ms/step - loss: 7.2602e-07 - accuracy: 1.0000 - val_loss: 7.9794 - val_accuracy: 0.4000\n",
            "Epoch 146/200\n",
            "15/15 [==============================] - 0s 29ms/step - loss: 8.1677e-07 - accuracy: 1.0000 - val_loss: 7.9884 - val_accuracy: 0.4000\n",
            "Epoch 147/200\n",
            "15/15 [==============================] - 0s 31ms/step - loss: 1.0405e-06 - accuracy: 1.0000 - val_loss: 7.9948 - val_accuracy: 0.4000\n",
            "Epoch 148/200\n",
            "15/15 [==============================] - 1s 33ms/step - loss: 7.3043e-07 - accuracy: 1.0000 - val_loss: 8.0017 - val_accuracy: 0.4000\n",
            "Epoch 149/200\n",
            "15/15 [==============================] - 0s 32ms/step - loss: 1.0013e-06 - accuracy: 1.0000 - val_loss: 8.0048 - val_accuracy: 0.4000\n",
            "Epoch 150/200\n",
            "15/15 [==============================] - 0s 30ms/step - loss: 9.2595e-07 - accuracy: 1.0000 - val_loss: 8.0132 - val_accuracy: 0.4000\n",
            "Epoch 151/200\n",
            "15/15 [==============================] - 0s 27ms/step - loss: 6.7632e-07 - accuracy: 1.0000 - val_loss: 8.0247 - val_accuracy: 0.4000\n",
            "Epoch 152/200\n",
            "15/15 [==============================] - 0s 28ms/step - loss: 8.6109e-07 - accuracy: 1.0000 - val_loss: 8.0284 - val_accuracy: 0.4000\n",
            "Epoch 153/200\n",
            "15/15 [==============================] - 1s 38ms/step - loss: 7.4038e-07 - accuracy: 1.0000 - val_loss: 8.0351 - val_accuracy: 0.4000\n",
            "Epoch 154/200\n",
            "15/15 [==============================] - 1s 34ms/step - loss: 6.2355e-07 - accuracy: 1.0000 - val_loss: 8.0390 - val_accuracy: 0.4000\n",
            "Epoch 155/200\n",
            "15/15 [==============================] - 0s 25ms/step - loss: 5.9297e-07 - accuracy: 1.0000 - val_loss: 8.0450 - val_accuracy: 0.4000\n",
            "Epoch 156/200\n",
            "15/15 [==============================] - 0s 26ms/step - loss: 3.9975e-07 - accuracy: 1.0000 - val_loss: 8.0534 - val_accuracy: 0.4000\n",
            "Epoch 157/200\n",
            "15/15 [==============================] - 0s 26ms/step - loss: 6.8750e-07 - accuracy: 1.0000 - val_loss: 8.0586 - val_accuracy: 0.4000\n",
            "Epoch 158/200\n",
            "15/15 [==============================] - 0s 27ms/step - loss: 7.1083e-07 - accuracy: 1.0000 - val_loss: 8.0645 - val_accuracy: 0.4000\n",
            "Epoch 159/200\n",
            "15/15 [==============================] - 0s 30ms/step - loss: 5.2151e-07 - accuracy: 1.0000 - val_loss: 8.0707 - val_accuracy: 0.4000\n",
            "Epoch 160/200\n",
            "15/15 [==============================] - 0s 32ms/step - loss: 8.7616e-07 - accuracy: 1.0000 - val_loss: 8.0775 - val_accuracy: 0.4000\n",
            "Epoch 161/200\n",
            "15/15 [==============================] - 0s 31ms/step - loss: 7.4404e-07 - accuracy: 1.0000 - val_loss: 8.0820 - val_accuracy: 0.4000\n",
            "Epoch 162/200\n",
            "15/15 [==============================] - 0s 24ms/step - loss: 4.6941e-07 - accuracy: 1.0000 - val_loss: 8.0900 - val_accuracy: 0.4000\n",
            "Epoch 163/200\n",
            "15/15 [==============================] - 0s 26ms/step - loss: 5.0060e-07 - accuracy: 1.0000 - val_loss: 8.0942 - val_accuracy: 0.4000\n",
            "Epoch 164/200\n",
            "15/15 [==============================] - 0s 25ms/step - loss: 5.7717e-07 - accuracy: 1.0000 - val_loss: 8.0974 - val_accuracy: 0.4000\n",
            "Epoch 165/200\n",
            "15/15 [==============================] - 0s 26ms/step - loss: 4.0660e-07 - accuracy: 1.0000 - val_loss: 8.1018 - val_accuracy: 0.4000\n",
            "Epoch 166/200\n",
            "15/15 [==============================] - 0s 31ms/step - loss: 4.7144e-07 - accuracy: 1.0000 - val_loss: 8.1112 - val_accuracy: 0.4000\n",
            "Epoch 167/200\n",
            "15/15 [==============================] - 0s 33ms/step - loss: 4.6810e-07 - accuracy: 1.0000 - val_loss: 8.1082 - val_accuracy: 0.4000\n",
            "Epoch 168/200\n",
            "15/15 [==============================] - 1s 37ms/step - loss: 4.0318e-07 - accuracy: 1.0000 - val_loss: 8.1187 - val_accuracy: 0.4000\n",
            "Epoch 169/200\n",
            "15/15 [==============================] - 1s 33ms/step - loss: 5.9794e-07 - accuracy: 1.0000 - val_loss: 8.1192 - val_accuracy: 0.4000\n",
            "Epoch 170/200\n",
            "15/15 [==============================] - 1s 37ms/step - loss: 5.9427e-07 - accuracy: 1.0000 - val_loss: 8.1250 - val_accuracy: 0.4000\n",
            "Epoch 171/200\n",
            "15/15 [==============================] - 1s 37ms/step - loss: 3.7901e-07 - accuracy: 1.0000 - val_loss: 8.1302 - val_accuracy: 0.4000\n",
            "Epoch 172/200\n",
            "15/15 [==============================] - 1s 41ms/step - loss: 6.7065e-07 - accuracy: 1.0000 - val_loss: 8.1327 - val_accuracy: 0.4000\n",
            "Epoch 173/200\n",
            "15/15 [==============================] - 1s 42ms/step - loss: 5.8868e-07 - accuracy: 1.0000 - val_loss: 8.1399 - val_accuracy: 0.4000\n",
            "Epoch 174/200\n",
            "15/15 [==============================] - 0s 32ms/step - loss: 6.9864e-07 - accuracy: 1.0000 - val_loss: 8.1420 - val_accuracy: 0.4000\n",
            "Epoch 175/200\n",
            "15/15 [==============================] - 0s 29ms/step - loss: 5.9648e-07 - accuracy: 1.0000 - val_loss: 8.1454 - val_accuracy: 0.4000\n",
            "Epoch 176/200\n",
            "15/15 [==============================] - 0s 27ms/step - loss: 3.9035e-07 - accuracy: 1.0000 - val_loss: 8.1492 - val_accuracy: 0.4000\n",
            "Epoch 177/200\n",
            "15/15 [==============================] - 0s 27ms/step - loss: 4.5192e-07 - accuracy: 1.0000 - val_loss: 8.1551 - val_accuracy: 0.4000\n",
            "Epoch 178/200\n",
            "15/15 [==============================] - 1s 34ms/step - loss: 4.9485e-07 - accuracy: 1.0000 - val_loss: 8.1571 - val_accuracy: 0.4000\n",
            "Epoch 179/200\n",
            "15/15 [==============================] - 1s 35ms/step - loss: 4.9800e-07 - accuracy: 1.0000 - val_loss: 8.1612 - val_accuracy: 0.4000\n",
            "Epoch 180/200\n",
            "15/15 [==============================] - 1s 34ms/step - loss: 5.9941e-07 - accuracy: 1.0000 - val_loss: 8.1647 - val_accuracy: 0.4000\n",
            "Epoch 181/200\n",
            "15/15 [==============================] - 1s 35ms/step - loss: 3.2661e-07 - accuracy: 1.0000 - val_loss: 8.1719 - val_accuracy: 0.4000\n",
            "Epoch 182/200\n",
            "15/15 [==============================] - 1s 35ms/step - loss: 3.3043e-07 - accuracy: 1.0000 - val_loss: 8.1739 - val_accuracy: 0.4000\n",
            "Epoch 183/200\n",
            "15/15 [==============================] - 1s 41ms/step - loss: 3.2483e-07 - accuracy: 1.0000 - val_loss: 8.1797 - val_accuracy: 0.4000\n",
            "Epoch 184/200\n",
            "15/15 [==============================] - 1s 35ms/step - loss: 5.8336e-07 - accuracy: 1.0000 - val_loss: 8.1800 - val_accuracy: 0.4000\n",
            "Epoch 185/200\n",
            "15/15 [==============================] - 0s 28ms/step - loss: 3.2098e-07 - accuracy: 1.0000 - val_loss: 8.1844 - val_accuracy: 0.4000\n",
            "Epoch 186/200\n",
            "15/15 [==============================] - 0s 27ms/step - loss: 4.0105e-07 - accuracy: 1.0000 - val_loss: 8.1894 - val_accuracy: 0.4000\n",
            "Epoch 187/200\n",
            "15/15 [==============================] - 0s 30ms/step - loss: 4.2178e-07 - accuracy: 1.0000 - val_loss: 8.1933 - val_accuracy: 0.4000\n",
            "Epoch 188/200\n",
            "15/15 [==============================] - 1s 35ms/step - loss: 3.0963e-07 - accuracy: 1.0000 - val_loss: 8.1987 - val_accuracy: 0.4000\n",
            "Epoch 189/200\n",
            "15/15 [==============================] - 0s 29ms/step - loss: 4.3328e-07 - accuracy: 1.0000 - val_loss: 8.2031 - val_accuracy: 0.4000\n",
            "Epoch 190/200\n",
            "15/15 [==============================] - 0s 29ms/step - loss: 3.2922e-07 - accuracy: 1.0000 - val_loss: 8.2070 - val_accuracy: 0.4000\n",
            "Epoch 191/200\n",
            "15/15 [==============================] - 0s 26ms/step - loss: 2.8974e-07 - accuracy: 1.0000 - val_loss: 8.2119 - val_accuracy: 0.4000\n",
            "Epoch 192/200\n",
            "15/15 [==============================] - 0s 26ms/step - loss: 4.9096e-07 - accuracy: 1.0000 - val_loss: 8.2136 - val_accuracy: 0.4000\n",
            "Epoch 193/200\n",
            "15/15 [==============================] - 0s 30ms/step - loss: 3.4180e-07 - accuracy: 1.0000 - val_loss: 8.2218 - val_accuracy: 0.4000\n",
            "Epoch 194/200\n",
            "15/15 [==============================] - 0s 29ms/step - loss: 3.3488e-07 - accuracy: 1.0000 - val_loss: 8.2247 - val_accuracy: 0.4000\n",
            "Epoch 195/200\n",
            "15/15 [==============================] - 0s 29ms/step - loss: 1.9433e-07 - accuracy: 1.0000 - val_loss: 8.2275 - val_accuracy: 0.4000\n",
            "Epoch 196/200\n",
            "15/15 [==============================] - 0s 29ms/step - loss: 3.2966e-07 - accuracy: 1.0000 - val_loss: 8.2333 - val_accuracy: 0.4000\n",
            "Epoch 197/200\n",
            "15/15 [==============================] - 0s 27ms/step - loss: 3.1424e-07 - accuracy: 1.0000 - val_loss: 8.2384 - val_accuracy: 0.4000\n",
            "Epoch 198/200\n",
            "15/15 [==============================] - 0s 26ms/step - loss: 2.8487e-07 - accuracy: 1.0000 - val_loss: 8.2409 - val_accuracy: 0.4000\n",
            "Epoch 199/200\n",
            "15/15 [==============================] - 0s 27ms/step - loss: 3.0007e-07 - accuracy: 1.0000 - val_loss: 8.2422 - val_accuracy: 0.4000\n",
            "Epoch 200/200\n",
            "15/15 [==============================] - 0s 26ms/step - loss: 3.3342e-07 - accuracy: 1.0000 - val_loss: 8.2493 - val_accuracy: 0.4000\n"
          ],
          "name": "stdout"
        },
        {
          "output_type": "execute_result",
          "data": {
            "text/plain": [
              "<tensorflow.python.keras.callbacks.History at 0x7f7834c48e90>"
            ]
          },
          "metadata": {
            "tags": []
          },
          "execution_count": 10
        }
      ]
    },
    {
      "cell_type": "markdown",
      "metadata": {
        "id": "j8IpbJ9fEsmc"
      },
      "source": [
        "## 모델평가"
      ]
    },
    {
      "cell_type": "code",
      "metadata": {
        "colab": {
          "base_uri": "https://localhost:8080/"
        },
        "id": "ZXE5hMRIEfjr",
        "outputId": "7f3d0d0c-f6df-4b52-e7f3-c3cd905c4c52"
      },
      "source": [
        "acc = model.evaluate_generator(test_generator, steps=5,)\n",
        "print(f'Accuracy: {acc[1]:.4f}')"
      ],
      "execution_count": 11,
      "outputs": [
        {
          "output_type": "stream",
          "text": [
            "Accuracy: 0.4000\n"
          ],
          "name": "stdout"
        },
        {
          "output_type": "stream",
          "text": [
            "/usr/local/lib/python3.7/dist-packages/tensorflow/python/keras/engine/training.py:1877: UserWarning: `Model.evaluate_generator` is deprecated and will be removed in a future version. Please use `Model.evaluate`, which supports generators.\n",
            "  warnings.warn('`Model.evaluate_generator` is deprecated and '\n"
          ],
          "name": "stderr"
        }
      ]
    },
    {
      "cell_type": "code",
      "metadata": {
        "colab": {
          "base_uri": "https://localhost:8080/"
        },
        "id": "XSEexpz4FS47",
        "outputId": "4e8aceac-ef0f-413c-abf6-eaa4bae802ff"
      },
      "source": [
        "# acc = model.evaluate_generator(test_generator, steps=5,)\n",
        "acc = model.evaluate(test_generator, steps=5,)\n",
        "print(f'Accuracy: {acc[1]:.4f}')"
      ],
      "execution_count": 12,
      "outputs": [
        {
          "output_type": "stream",
          "text": [
            "5/5 [==============================] - 0s 8ms/step - loss: 8.2493 - accuracy: 0.4000\n",
            "Accuracy: 0.4000\n"
          ],
          "name": "stdout"
        }
      ]
    }
  ]
}