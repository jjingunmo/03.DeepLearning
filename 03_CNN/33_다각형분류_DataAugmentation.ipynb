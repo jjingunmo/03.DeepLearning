{
  "nbformat": 4,
  "nbformat_minor": 0,
  "metadata": {
    "colab": {
      "name": "33_다각형분류_DataAugmentation.ipynb",
      "provenance": [],
      "collapsed_sections": []
    },
    "kernelspec": {
      "name": "python3",
      "display_name": "Python 3"
    },
    "language_info": {
      "name": "python"
    }
  },
  "cells": [
    {
      "cell_type": "markdown",
      "metadata": {
        "id": "5L3d7xTZ-SYY"
      },
      "source": [
        "# 원, 사각형, 삼각형 구분하기"
      ]
    },
    {
      "cell_type": "markdown",
      "metadata": {
        "id": "kLES1iZ3_X7U"
      },
      "source": [
        "### 3. 어려운 테스트 문제를 기존 CNN 모델로 푸는 경우"
      ]
    },
    {
      "cell_type": "code",
      "metadata": {
        "id": "3RJS2sgv_bXq"
      },
      "source": [
        "import numpy as np\n",
        "import tensorflow as tf\n",
        "from tensorflow.keras.models import Sequential\n",
        "from tensorflow.keras.layers import Dense, Conv2D, Flatten, MaxPooling2D\n",
        "from tensorflow.keras.preprocessing.image import ImageDataGenerator"
      ],
      "execution_count": 1,
      "outputs": []
    },
    {
      "cell_type": "code",
      "metadata": {
        "id": "89t8l5kH_PXA"
      },
      "source": [
        "seed = 2021\n",
        "np.random.seed(seed)\n",
        "tf.random.set_seed(seed)"
      ],
      "execution_count": 2,
      "outputs": []
    },
    {
      "cell_type": "markdown",
      "metadata": {
        "id": "8bpzUNfXKlT_"
      },
      "source": [
        "### 데이터 부풀리기"
      ]
    },
    {
      "cell_type": "code",
      "metadata": {
        "id": "HH6lhHxxKjuE"
      },
      "source": [
        "from tensorflow.keras.preprocessing.image import array_to_img, img_to_array, load_img"
      ],
      "execution_count": 3,
      "outputs": []
    },
    {
      "cell_type": "code",
      "metadata": {
        "id": "vaONYgrkMcLJ"
      },
      "source": [
        "# 데이터 부풀리기를 적용한 훈련 데이터 제너레이터\n",
        "train_datagen = ImageDataGenerator(rescale=1./255,\n",
        "                                   rotation_range=15,\n",
        "                                   width_shift_range=0.1,\n",
        "                                   height_shift_range=0.1,\n",
        "                                   shear_range=0.5,\n",
        "                                   zoom_range=[0.8, 2.0],\n",
        "                                   horizontal_flip=True,\n",
        "                                   vertical_flip=True)\n"
      ],
      "execution_count": 4,
      "outputs": []
    },
    {
      "cell_type": "code",
      "metadata": {
        "colab": {
          "base_uri": "https://localhost:8080/"
        },
        "id": "1ncNrA1tMoOY",
        "outputId": "bf258314-464f-4325-835c-98d741883045"
      },
      "source": [
        "!mkdir preview"
      ],
      "execution_count": 5,
      "outputs": [
        {
          "output_type": "stream",
          "text": [
            "mkdir: cannot create directory ‘preview’: File exists\n"
          ],
          "name": "stdout"
        }
      ]
    },
    {
      "cell_type": "code",
      "metadata": {
        "id": "KI6wa-zAMoc5"
      },
      "source": [
        "img = load_img('hard_handwriting_shape/train/triangle/triangle001.png')\n",
        "x = img_to_array(img)\n",
        "x = x.reshape((1,) + x.shape)\n",
        "\n",
        "i = 0\n",
        "\n",
        "for batch in train_datagen.flow(x, batch_size=1, save_to_dir='preview', \n",
        "                                save_prefix='tri', save_format='png'):\n",
        "    i += 1\n",
        "    if i > 30:\n",
        "      break "
      ],
      "execution_count": 6,
      "outputs": []
    },
    {
      "cell_type": "code",
      "metadata": {
        "colab": {
          "base_uri": "https://localhost:8080/"
        },
        "id": "Ri-toePvMou9",
        "outputId": "f9c39d48-416d-453b-bc14-af85440f5c80"
      },
      "source": [
        "!ls preview"
      ],
      "execution_count": 7,
      "outputs": [
        {
          "output_type": "stream",
          "text": [
            "tri_0_1270.png\ttri_0_3759.png\ttri_0_5798.png\ttri_0_7897.png\ttri_0_9797.png\n",
            "tri_0_1302.png\ttri_0_3825.png\ttri_0_5881.png\ttri_0_8211.png\ttri_0_9854.png\n",
            "tri_0_1585.png\ttri_0_403.png\ttri_0_6416.png\ttri_0_8288.png\ttri_0_9972.png\n",
            "tri_0_2407.png\ttri_0_4949.png\ttri_0_6427.png\ttri_0_8923.png\n",
            "tri_0_2997.png\ttri_0_5158.png\ttri_0_6646.png\ttri_0_9089.png\n",
            "tri_0_3418.png\ttri_0_519.png\ttri_0_7259.png\ttri_0_928.png\n",
            "tri_0_3503.png\ttri_0_5672.png\ttri_0_7282.png\ttri_0_9575.png\n"
          ],
          "name": "stdout"
        }
      ]
    },
    {
      "cell_type": "markdown",
      "metadata": {
        "id": "MgPrzU1eO4Nq"
      },
      "source": [
        "### 데이터셋 생성하기"
      ]
    },
    {
      "cell_type": "code",
      "metadata": {
        "colab": {
          "base_uri": "https://localhost:8080/"
        },
        "id": "jsoydB-AAjHZ",
        "outputId": "7a067079-1731-4131-ecbc-23fc97343473"
      },
      "source": [
        "train_generator = train_datagen.flow_from_directory(\n",
        "    'hard_handwriting_shape/train',\n",
        "    target_size=(24,24),\n",
        "    batch_size=3,\n",
        "    class_mode='categorical'\n",
        ")"
      ],
      "execution_count": 8,
      "outputs": [
        {
          "output_type": "stream",
          "text": [
            "Found 45 images belonging to 3 classes.\n"
          ],
          "name": "stdout"
        }
      ]
    },
    {
      "cell_type": "code",
      "metadata": {
        "colab": {
          "base_uri": "https://localhost:8080/"
        },
        "id": "gpiSZF_JBdOd",
        "outputId": "2a80504f-9323-4813-a5e2-c6b455b15791"
      },
      "source": [
        "test_datagen = ImageDataGenerator(rescale=1./255)\n",
        "test_generator = test_datagen.flow_from_directory(\n",
        "    'hard_handwriting_shape/test',\n",
        "    target_size=(24,24),\n",
        "    batch_size=3,\n",
        "    class_mode='categorical'\n",
        ")"
      ],
      "execution_count": 9,
      "outputs": [
        {
          "output_type": "stream",
          "text": [
            "Found 15 images belonging to 3 classes.\n"
          ],
          "name": "stdout"
        }
      ]
    },
    {
      "cell_type": "markdown",
      "metadata": {
        "id": "i7HjEf5GCKa4"
      },
      "source": [
        "### 모델 정의/설정"
      ]
    },
    {
      "cell_type": "code",
      "metadata": {
        "colab": {
          "base_uri": "https://localhost:8080/"
        },
        "id": "r181ng89B81x",
        "outputId": "858ae776-f7e8-4ecd-dfe3-04551d546991"
      },
      "source": [
        "model = Sequential([\n",
        "    Conv2D(32, (3,3), activation='relu', input_shape=(24,24,3)),\n",
        "    Conv2D(64, (3,3), activation='relu'),\n",
        "    MaxPooling2D(),\n",
        "    Flatten(),\n",
        "    Dense(128, activation='relu'),    \n",
        "    Dense(3, activation='softmax')\n",
        "])\n",
        "model.summary()"
      ],
      "execution_count": 10,
      "outputs": [
        {
          "output_type": "stream",
          "text": [
            "Model: \"sequential\"\n",
            "_________________________________________________________________\n",
            "Layer (type)                 Output Shape              Param #   \n",
            "=================================================================\n",
            "conv2d (Conv2D)              (None, 22, 22, 32)        896       \n",
            "_________________________________________________________________\n",
            "conv2d_1 (Conv2D)            (None, 20, 20, 64)        18496     \n",
            "_________________________________________________________________\n",
            "max_pooling2d (MaxPooling2D) (None, 10, 10, 64)        0         \n",
            "_________________________________________________________________\n",
            "flatten (Flatten)            (None, 6400)              0         \n",
            "_________________________________________________________________\n",
            "dense (Dense)                (None, 128)               819328    \n",
            "_________________________________________________________________\n",
            "dense_1 (Dense)              (None, 3)                 387       \n",
            "=================================================================\n",
            "Total params: 839,107\n",
            "Trainable params: 839,107\n",
            "Non-trainable params: 0\n",
            "_________________________________________________________________\n"
          ],
          "name": "stdout"
        }
      ]
    },
    {
      "cell_type": "code",
      "metadata": {
        "id": "lptEQfCoC5yt"
      },
      "source": [
        "model.compile(loss='categorical_crossentropy', optimizer='adam', metrics=['accuracy'])"
      ],
      "execution_count": 11,
      "outputs": []
    },
    {
      "cell_type": "markdown",
      "metadata": {
        "id": "DJ4qFf6CDKAC"
      },
      "source": [
        "### 모델학습\n",
        "- 첫번째 인자 : 훈련데이터셋을 제공할 제네레이터를 지정. 본 예제에서는 앞서 생성한 train_generator으로 지정.\n",
        "- steps_per_epoch : 한 epoch에 사용할 스텝 수를 지정. 총 45개의 훈련 샘플이 있고 배치사이즈가 3이므로 15 스텝으로 지정.\n",
        "- epochs : 전체 훈련 데이터셋에 대해 학습 반복 횟수를 지정. 50번을 반복적으로 학습.\n",
        "- validation_data : 검증데이터셋을 제공할 제네레이터를 지정. 본 예제에서는 앞서 생성한 test_generator으로 지정.\n",
        "- validation_steps : 한 epoch 종료 시 마다 검증할 때 사용되는 검증 스텝 수를 지정. 총 15개의 검증 샘플이 있고 배치사이즈가 3이므로 5 스텝으로 지정.\n"
      ]
    },
    {
      "cell_type": "code",
      "metadata": {
        "colab": {
          "base_uri": "https://localhost:8080/"
        },
        "id": "4lkZP_4nB3ZG",
        "outputId": "5eccbee0-578f-488b-9b46-0d6b35420d5e"
      },
      "source": [
        "model.fit_generator(\n",
        "    train_generator, \n",
        "    steps_per_epoch=15,\n",
        "    epochs=200,\n",
        "    validation_data=test_generator,\n",
        "    validation_steps=5\n",
        ")"
      ],
      "execution_count": 12,
      "outputs": [
        {
          "output_type": "stream",
          "text": [
            "/usr/local/lib/python3.7/dist-packages/tensorflow/python/keras/engine/training.py:1844: UserWarning: `Model.fit_generator` is deprecated and will be removed in a future version. Please use `Model.fit`, which supports generators.\n",
            "  warnings.warn('`Model.fit_generator` is deprecated and '\n"
          ],
          "name": "stderr"
        },
        {
          "output_type": "stream",
          "text": [
            "Epoch 1/200\n",
            "15/15 [==============================] - 1s 57ms/step - loss: 1.2897 - accuracy: 0.3452 - val_loss: 1.0906 - val_accuracy: 0.3333\n",
            "Epoch 2/200\n",
            "15/15 [==============================] - 0s 29ms/step - loss: 1.0948 - accuracy: 0.3629 - val_loss: 1.0710 - val_accuracy: 0.4000\n",
            "Epoch 3/200\n",
            "15/15 [==============================] - 0s 30ms/step - loss: 1.0696 - accuracy: 0.4779 - val_loss: 1.0515 - val_accuracy: 0.4000\n",
            "Epoch 4/200\n",
            "15/15 [==============================] - 0s 30ms/step - loss: 0.9363 - accuracy: 0.7639 - val_loss: 1.0937 - val_accuracy: 0.4000\n",
            "Epoch 5/200\n",
            "15/15 [==============================] - 0s 31ms/step - loss: 0.6243 - accuracy: 0.7956 - val_loss: 1.1473 - val_accuracy: 0.5333\n",
            "Epoch 6/200\n",
            "15/15 [==============================] - 0s 25ms/step - loss: 0.5365 - accuracy: 0.7673 - val_loss: 1.2649 - val_accuracy: 0.6667\n",
            "Epoch 7/200\n",
            "15/15 [==============================] - 0s 24ms/step - loss: 0.5298 - accuracy: 0.7522 - val_loss: 1.1060 - val_accuracy: 0.4000\n",
            "Epoch 8/200\n",
            "15/15 [==============================] - 0s 24ms/step - loss: 0.5184 - accuracy: 0.8670 - val_loss: 1.4181 - val_accuracy: 0.4667\n",
            "Epoch 9/200\n",
            "15/15 [==============================] - 0s 23ms/step - loss: 0.3894 - accuracy: 0.7748 - val_loss: 1.2107 - val_accuracy: 0.6000\n",
            "Epoch 10/200\n",
            "15/15 [==============================] - 0s 26ms/step - loss: 0.2339 - accuracy: 0.9544 - val_loss: 1.1838 - val_accuracy: 0.6667\n",
            "Epoch 11/200\n",
            "15/15 [==============================] - 0s 24ms/step - loss: 0.4435 - accuracy: 0.7122 - val_loss: 1.8529 - val_accuracy: 0.5333\n",
            "Epoch 12/200\n",
            "15/15 [==============================] - 0s 24ms/step - loss: 0.1377 - accuracy: 1.0000 - val_loss: 1.3649 - val_accuracy: 0.6667\n",
            "Epoch 13/200\n",
            "15/15 [==============================] - 0s 24ms/step - loss: 0.1555 - accuracy: 0.9395 - val_loss: 2.2126 - val_accuracy: 0.4667\n",
            "Epoch 14/200\n",
            "15/15 [==============================] - 0s 30ms/step - loss: 0.1130 - accuracy: 0.9668 - val_loss: 1.0499 - val_accuracy: 0.6667\n",
            "Epoch 15/200\n",
            "15/15 [==============================] - 0s 30ms/step - loss: 0.1800 - accuracy: 0.9088 - val_loss: 1.7932 - val_accuracy: 0.6000\n",
            "Epoch 16/200\n",
            "15/15 [==============================] - 0s 28ms/step - loss: 0.3152 - accuracy: 0.9138 - val_loss: 2.4821 - val_accuracy: 0.5333\n",
            "Epoch 17/200\n",
            "15/15 [==============================] - 0s 31ms/step - loss: 0.0861 - accuracy: 0.9861 - val_loss: 1.8861 - val_accuracy: 0.6000\n",
            "Epoch 18/200\n",
            "15/15 [==============================] - 0s 27ms/step - loss: 0.1038 - accuracy: 1.0000 - val_loss: 3.1716 - val_accuracy: 0.5333\n",
            "Epoch 19/200\n",
            "15/15 [==============================] - 0s 24ms/step - loss: 0.1924 - accuracy: 0.9213 - val_loss: 2.5898 - val_accuracy: 0.5333\n",
            "Epoch 20/200\n",
            "15/15 [==============================] - 0s 24ms/step - loss: 0.1541 - accuracy: 0.9215 - val_loss: 2.7415 - val_accuracy: 0.5333\n",
            "Epoch 21/200\n",
            "15/15 [==============================] - 0s 30ms/step - loss: 0.0523 - accuracy: 1.0000 - val_loss: 3.0761 - val_accuracy: 0.5333\n",
            "Epoch 22/200\n",
            "15/15 [==============================] - 0s 32ms/step - loss: 0.1386 - accuracy: 0.9189 - val_loss: 3.3403 - val_accuracy: 0.5333\n",
            "Epoch 23/200\n",
            "15/15 [==============================] - 0s 31ms/step - loss: 0.2848 - accuracy: 0.8859 - val_loss: 2.3589 - val_accuracy: 0.6667\n",
            "Epoch 24/200\n",
            "15/15 [==============================] - 0s 30ms/step - loss: 0.0873 - accuracy: 0.9649 - val_loss: 2.1110 - val_accuracy: 0.6667\n",
            "Epoch 25/200\n",
            "15/15 [==============================] - 0s 29ms/step - loss: 0.2644 - accuracy: 0.9295 - val_loss: 2.9805 - val_accuracy: 0.6000\n",
            "Epoch 26/200\n",
            "15/15 [==============================] - 0s 31ms/step - loss: 0.0382 - accuracy: 1.0000 - val_loss: 2.5812 - val_accuracy: 0.6000\n",
            "Epoch 27/200\n",
            "15/15 [==============================] - 0s 29ms/step - loss: 0.0635 - accuracy: 0.9677 - val_loss: 2.2667 - val_accuracy: 0.7333\n",
            "Epoch 28/200\n",
            "15/15 [==============================] - 0s 31ms/step - loss: 0.0726 - accuracy: 0.9729 - val_loss: 3.9027 - val_accuracy: 0.6000\n",
            "Epoch 29/200\n",
            "15/15 [==============================] - 0s 29ms/step - loss: 0.0519 - accuracy: 0.9835 - val_loss: 1.6966 - val_accuracy: 0.6667\n",
            "Epoch 30/200\n",
            "15/15 [==============================] - 0s 32ms/step - loss: 0.0350 - accuracy: 0.9930 - val_loss: 1.6407 - val_accuracy: 0.7333\n",
            "Epoch 31/200\n",
            "15/15 [==============================] - 0s 30ms/step - loss: 0.0566 - accuracy: 0.9835 - val_loss: 1.4905 - val_accuracy: 0.8000\n",
            "Epoch 32/200\n",
            "15/15 [==============================] - 0s 30ms/step - loss: 0.0610 - accuracy: 0.9835 - val_loss: 2.4365 - val_accuracy: 0.6000\n",
            "Epoch 33/200\n",
            "15/15 [==============================] - 0s 30ms/step - loss: 0.0917 - accuracy: 0.9295 - val_loss: 2.6108 - val_accuracy: 0.6667\n",
            "Epoch 34/200\n",
            "15/15 [==============================] - 0s 24ms/step - loss: 0.0922 - accuracy: 0.9558 - val_loss: 2.6024 - val_accuracy: 0.7333\n",
            "Epoch 35/200\n",
            "15/15 [==============================] - 0s 24ms/step - loss: 0.0315 - accuracy: 1.0000 - val_loss: 2.2421 - val_accuracy: 0.7333\n",
            "Epoch 36/200\n",
            "15/15 [==============================] - 0s 24ms/step - loss: 0.0621 - accuracy: 0.9677 - val_loss: 2.9117 - val_accuracy: 0.6667\n",
            "Epoch 37/200\n",
            "15/15 [==============================] - 0s 24ms/step - loss: 0.0226 - accuracy: 1.0000 - val_loss: 4.3396 - val_accuracy: 0.6000\n",
            "Epoch 38/200\n",
            "15/15 [==============================] - 0s 24ms/step - loss: 0.0261 - accuracy: 1.0000 - val_loss: 4.2411 - val_accuracy: 0.6000\n",
            "Epoch 39/200\n",
            "15/15 [==============================] - 0s 32ms/step - loss: 0.6797 - accuracy: 0.9191 - val_loss: 2.5143 - val_accuracy: 0.6667\n",
            "Epoch 40/200\n",
            "15/15 [==============================] - 0s 29ms/step - loss: 0.0760 - accuracy: 0.9729 - val_loss: 2.7612 - val_accuracy: 0.6000\n",
            "Epoch 41/200\n",
            "15/15 [==============================] - 0s 24ms/step - loss: 0.0364 - accuracy: 0.9972 - val_loss: 2.9984 - val_accuracy: 0.6000\n",
            "Epoch 42/200\n",
            "15/15 [==============================] - 0s 25ms/step - loss: 0.1418 - accuracy: 0.9475 - val_loss: 3.7127 - val_accuracy: 0.6000\n",
            "Epoch 43/200\n",
            "15/15 [==============================] - 0s 24ms/step - loss: 0.0897 - accuracy: 0.9564 - val_loss: 2.3099 - val_accuracy: 0.6667\n",
            "Epoch 44/200\n",
            "15/15 [==============================] - 0s 24ms/step - loss: 0.2266 - accuracy: 0.9040 - val_loss: 3.1715 - val_accuracy: 0.6667\n",
            "Epoch 45/200\n",
            "15/15 [==============================] - 0s 24ms/step - loss: 0.0631 - accuracy: 0.9941 - val_loss: 2.3737 - val_accuracy: 0.6000\n",
            "Epoch 46/200\n",
            "15/15 [==============================] - 0s 27ms/step - loss: 0.0475 - accuracy: 0.9842 - val_loss: 2.7926 - val_accuracy: 0.6667\n",
            "Epoch 47/200\n",
            "15/15 [==============================] - 0s 31ms/step - loss: 0.0337 - accuracy: 0.9861 - val_loss: 3.4819 - val_accuracy: 0.6000\n",
            "Epoch 48/200\n",
            "15/15 [==============================] - 0s 27ms/step - loss: 0.0077 - accuracy: 1.0000 - val_loss: 3.5989 - val_accuracy: 0.6000\n",
            "Epoch 49/200\n",
            "15/15 [==============================] - 0s 25ms/step - loss: 0.0593 - accuracy: 0.9677 - val_loss: 2.9861 - val_accuracy: 0.6000\n",
            "Epoch 50/200\n",
            "15/15 [==============================] - 0s 23ms/step - loss: 0.0085 - accuracy: 1.0000 - val_loss: 3.0457 - val_accuracy: 0.6667\n",
            "Epoch 51/200\n",
            "15/15 [==============================] - 0s 25ms/step - loss: 0.0252 - accuracy: 1.0000 - val_loss: 2.4676 - val_accuracy: 0.6667\n",
            "Epoch 52/200\n",
            "15/15 [==============================] - 0s 25ms/step - loss: 0.0370 - accuracy: 0.9634 - val_loss: 2.3532 - val_accuracy: 0.7333\n",
            "Epoch 53/200\n",
            "15/15 [==============================] - 0s 24ms/step - loss: 0.0287 - accuracy: 1.0000 - val_loss: 2.6332 - val_accuracy: 0.7333\n",
            "Epoch 54/200\n",
            "15/15 [==============================] - 0s 24ms/step - loss: 0.0124 - accuracy: 1.0000 - val_loss: 2.5441 - val_accuracy: 0.7333\n",
            "Epoch 55/200\n",
            "15/15 [==============================] - 0s 24ms/step - loss: 0.0134 - accuracy: 1.0000 - val_loss: 2.7422 - val_accuracy: 0.6667\n",
            "Epoch 56/200\n",
            "15/15 [==============================] - 0s 25ms/step - loss: 0.0024 - accuracy: 1.0000 - val_loss: 3.0318 - val_accuracy: 0.6667\n",
            "Epoch 57/200\n",
            "15/15 [==============================] - 0s 25ms/step - loss: 0.0214 - accuracy: 1.0000 - val_loss: 3.4950 - val_accuracy: 0.6667\n",
            "Epoch 58/200\n",
            "15/15 [==============================] - 0s 24ms/step - loss: 0.0197 - accuracy: 1.0000 - val_loss: 3.6026 - val_accuracy: 0.6000\n",
            "Epoch 59/200\n",
            "15/15 [==============================] - 0s 32ms/step - loss: 0.0625 - accuracy: 0.9808 - val_loss: 3.5051 - val_accuracy: 0.6667\n",
            "Epoch 60/200\n",
            "15/15 [==============================] - 0s 32ms/step - loss: 0.0766 - accuracy: 0.9729 - val_loss: 4.5938 - val_accuracy: 0.6000\n",
            "Epoch 61/200\n",
            "15/15 [==============================] - 0s 26ms/step - loss: 0.0347 - accuracy: 0.9905 - val_loss: 2.4754 - val_accuracy: 0.7333\n",
            "Epoch 62/200\n",
            "15/15 [==============================] - 0s 25ms/step - loss: 0.0288 - accuracy: 0.9865 - val_loss: 1.7206 - val_accuracy: 0.8000\n",
            "Epoch 63/200\n",
            "15/15 [==============================] - 0s 24ms/step - loss: 0.0984 - accuracy: 0.9610 - val_loss: 2.7028 - val_accuracy: 0.6000\n",
            "Epoch 64/200\n",
            "15/15 [==============================] - 0s 25ms/step - loss: 0.1655 - accuracy: 0.9277 - val_loss: 1.6900 - val_accuracy: 0.7333\n",
            "Epoch 65/200\n",
            "15/15 [==============================] - 0s 24ms/step - loss: 0.0497 - accuracy: 0.9861 - val_loss: 1.4643 - val_accuracy: 0.7333\n",
            "Epoch 66/200\n",
            "15/15 [==============================] - 0s 24ms/step - loss: 0.0447 - accuracy: 1.0000 - val_loss: 1.5178 - val_accuracy: 0.7333\n",
            "Epoch 67/200\n",
            "15/15 [==============================] - 0s 24ms/step - loss: 0.0534 - accuracy: 0.9856 - val_loss: 2.4488 - val_accuracy: 0.6667\n",
            "Epoch 68/200\n",
            "15/15 [==============================] - 0s 23ms/step - loss: 0.1487 - accuracy: 0.9613 - val_loss: 2.2289 - val_accuracy: 0.7333\n",
            "Epoch 69/200\n",
            "15/15 [==============================] - 0s 23ms/step - loss: 0.0499 - accuracy: 0.9701 - val_loss: 2.3702 - val_accuracy: 0.7333\n",
            "Epoch 70/200\n",
            "15/15 [==============================] - 0s 23ms/step - loss: 0.1468 - accuracy: 0.9601 - val_loss: 2.1006 - val_accuracy: 0.7333\n",
            "Epoch 71/200\n",
            "15/15 [==============================] - 0s 24ms/step - loss: 0.0546 - accuracy: 0.9771 - val_loss: 1.9513 - val_accuracy: 0.7333\n",
            "Epoch 72/200\n",
            "15/15 [==============================] - 0s 32ms/step - loss: 0.0353 - accuracy: 0.9924 - val_loss: 1.9553 - val_accuracy: 0.7333\n",
            "Epoch 73/200\n",
            "15/15 [==============================] - 0s 30ms/step - loss: 0.0272 - accuracy: 0.9924 - val_loss: 1.9826 - val_accuracy: 0.7333\n",
            "Epoch 74/200\n",
            "15/15 [==============================] - 0s 30ms/step - loss: 0.1885 - accuracy: 0.9564 - val_loss: 2.2397 - val_accuracy: 0.8000\n",
            "Epoch 75/200\n",
            "15/15 [==============================] - 0s 31ms/step - loss: 0.1817 - accuracy: 0.9503 - val_loss: 1.7082 - val_accuracy: 0.8000\n",
            "Epoch 76/200\n",
            "15/15 [==============================] - 0s 33ms/step - loss: 0.0482 - accuracy: 1.0000 - val_loss: 1.6675 - val_accuracy: 0.8000\n",
            "Epoch 77/200\n",
            "15/15 [==============================] - 0s 30ms/step - loss: 0.0960 - accuracy: 0.9295 - val_loss: 2.3312 - val_accuracy: 0.7333\n",
            "Epoch 78/200\n",
            "15/15 [==============================] - 0s 25ms/step - loss: 0.0434 - accuracy: 0.9924 - val_loss: 1.9560 - val_accuracy: 0.7333\n",
            "Epoch 79/200\n",
            "15/15 [==============================] - 0s 24ms/step - loss: 0.0446 - accuracy: 1.0000 - val_loss: 2.4473 - val_accuracy: 0.7333\n",
            "Epoch 80/200\n",
            "15/15 [==============================] - 0s 24ms/step - loss: 0.0052 - accuracy: 1.0000 - val_loss: 3.0148 - val_accuracy: 0.6667\n",
            "Epoch 81/200\n",
            "15/15 [==============================] - 0s 24ms/step - loss: 0.0875 - accuracy: 0.9590 - val_loss: 1.8424 - val_accuracy: 0.8000\n",
            "Epoch 82/200\n",
            "15/15 [==============================] - 0s 24ms/step - loss: 0.0496 - accuracy: 0.9785 - val_loss: 1.9493 - val_accuracy: 0.8000\n",
            "Epoch 83/200\n",
            "15/15 [==============================] - 0s 26ms/step - loss: 0.1811 - accuracy: 0.9712 - val_loss: 3.1720 - val_accuracy: 0.6000\n",
            "Epoch 84/200\n",
            "15/15 [==============================] - 0s 25ms/step - loss: 0.0156 - accuracy: 1.0000 - val_loss: 2.9952 - val_accuracy: 0.6667\n",
            "Epoch 85/200\n",
            "15/15 [==============================] - 0s 24ms/step - loss: 0.2271 - accuracy: 0.9607 - val_loss: 1.5133 - val_accuracy: 0.8000\n",
            "Epoch 86/200\n",
            "15/15 [==============================] - 0s 25ms/step - loss: 0.0455 - accuracy: 1.0000 - val_loss: 1.6643 - val_accuracy: 0.8000\n",
            "Epoch 87/200\n",
            "15/15 [==============================] - 0s 24ms/step - loss: 0.0138 - accuracy: 1.0000 - val_loss: 1.8677 - val_accuracy: 0.8000\n",
            "Epoch 88/200\n",
            "15/15 [==============================] - 0s 24ms/step - loss: 0.0470 - accuracy: 0.9677 - val_loss: 2.8234 - val_accuracy: 0.6667\n",
            "Epoch 89/200\n",
            "15/15 [==============================] - 0s 24ms/step - loss: 0.0085 - accuracy: 1.0000 - val_loss: 3.6657 - val_accuracy: 0.6667\n",
            "Epoch 90/200\n",
            "15/15 [==============================] - 0s 24ms/step - loss: 0.2151 - accuracy: 0.9350 - val_loss: 5.0981 - val_accuracy: 0.6000\n",
            "Epoch 91/200\n",
            "15/15 [==============================] - 0s 24ms/step - loss: 0.1568 - accuracy: 0.9503 - val_loss: 2.0758 - val_accuracy: 0.6667\n",
            "Epoch 92/200\n",
            "15/15 [==============================] - 0s 24ms/step - loss: 0.0805 - accuracy: 0.9518 - val_loss: 1.5955 - val_accuracy: 0.8000\n",
            "Epoch 93/200\n",
            "15/15 [==============================] - 0s 25ms/step - loss: 0.0494 - accuracy: 0.9565 - val_loss: 2.6011 - val_accuracy: 0.6667\n",
            "Epoch 94/200\n",
            "15/15 [==============================] - 0s 25ms/step - loss: 0.0328 - accuracy: 0.9905 - val_loss: 2.6757 - val_accuracy: 0.6667\n",
            "Epoch 95/200\n",
            "15/15 [==============================] - 0s 23ms/step - loss: 0.0532 - accuracy: 0.9729 - val_loss: 2.6086 - val_accuracy: 0.6667\n",
            "Epoch 96/200\n",
            "15/15 [==============================] - 0s 24ms/step - loss: 0.0190 - accuracy: 1.0000 - val_loss: 2.5333 - val_accuracy: 0.6667\n",
            "Epoch 97/200\n",
            "15/15 [==============================] - 0s 23ms/step - loss: 0.0702 - accuracy: 0.9865 - val_loss: 2.7554 - val_accuracy: 0.7333\n",
            "Epoch 98/200\n",
            "15/15 [==============================] - 0s 24ms/step - loss: 0.0071 - accuracy: 1.0000 - val_loss: 3.1921 - val_accuracy: 0.6667\n",
            "Epoch 99/200\n",
            "15/15 [==============================] - 0s 28ms/step - loss: 0.0180 - accuracy: 1.0000 - val_loss: 3.4223 - val_accuracy: 0.6667\n",
            "Epoch 100/200\n",
            "15/15 [==============================] - 0s 29ms/step - loss: 0.0202 - accuracy: 0.9924 - val_loss: 3.9622 - val_accuracy: 0.6667\n",
            "Epoch 101/200\n",
            "15/15 [==============================] - 0s 28ms/step - loss: 0.0257 - accuracy: 0.9729 - val_loss: 4.6822 - val_accuracy: 0.6000\n",
            "Epoch 102/200\n",
            "15/15 [==============================] - 0s 23ms/step - loss: 0.0101 - accuracy: 1.0000 - val_loss: 4.2810 - val_accuracy: 0.6667\n",
            "Epoch 103/200\n",
            "15/15 [==============================] - 0s 23ms/step - loss: 0.0539 - accuracy: 0.9604 - val_loss: 4.2478 - val_accuracy: 0.6667\n",
            "Epoch 104/200\n",
            "15/15 [==============================] - 0s 23ms/step - loss: 0.0725 - accuracy: 0.9805 - val_loss: 3.3913 - val_accuracy: 0.6667\n",
            "Epoch 105/200\n",
            "15/15 [==============================] - 0s 23ms/step - loss: 0.0201 - accuracy: 0.9972 - val_loss: 2.8180 - val_accuracy: 0.7333\n",
            "Epoch 106/200\n",
            "15/15 [==============================] - 0s 26ms/step - loss: 0.0212 - accuracy: 1.0000 - val_loss: 2.2905 - val_accuracy: 0.8000\n",
            "Epoch 107/200\n",
            "15/15 [==============================] - 0s 23ms/step - loss: 0.0053 - accuracy: 1.0000 - val_loss: 2.3457 - val_accuracy: 0.7333\n",
            "Epoch 108/200\n",
            "15/15 [==============================] - 0s 24ms/step - loss: 0.0495 - accuracy: 0.9771 - val_loss: 2.2605 - val_accuracy: 0.8000\n",
            "Epoch 109/200\n",
            "15/15 [==============================] - 0s 24ms/step - loss: 0.0252 - accuracy: 1.0000 - val_loss: 2.3389 - val_accuracy: 0.7333\n",
            "Epoch 110/200\n",
            "15/15 [==============================] - 0s 24ms/step - loss: 0.0254 - accuracy: 1.0000 - val_loss: 2.5370 - val_accuracy: 0.7333\n",
            "Epoch 111/200\n",
            "15/15 [==============================] - 0s 25ms/step - loss: 0.0316 - accuracy: 1.0000 - val_loss: 3.0759 - val_accuracy: 0.6667\n",
            "Epoch 112/200\n",
            "15/15 [==============================] - 0s 24ms/step - loss: 0.1572 - accuracy: 0.9503 - val_loss: 3.2139 - val_accuracy: 0.6667\n",
            "Epoch 113/200\n",
            "15/15 [==============================] - 0s 24ms/step - loss: 0.0081 - accuracy: 1.0000 - val_loss: 3.0617 - val_accuracy: 0.6667\n",
            "Epoch 114/200\n",
            "15/15 [==============================] - 0s 23ms/step - loss: 0.0545 - accuracy: 0.9607 - val_loss: 2.8461 - val_accuracy: 0.7333\n",
            "Epoch 115/200\n",
            "15/15 [==============================] - 0s 25ms/step - loss: 0.0032 - accuracy: 1.0000 - val_loss: 2.8103 - val_accuracy: 0.7333\n",
            "Epoch 116/200\n",
            "15/15 [==============================] - 0s 24ms/step - loss: 0.0073 - accuracy: 1.0000 - val_loss: 2.8182 - val_accuracy: 0.7333\n",
            "Epoch 117/200\n",
            "15/15 [==============================] - 0s 24ms/step - loss: 0.0037 - accuracy: 1.0000 - val_loss: 2.9386 - val_accuracy: 0.6667\n",
            "Epoch 118/200\n",
            "15/15 [==============================] - 0s 24ms/step - loss: 0.0015 - accuracy: 1.0000 - val_loss: 3.0569 - val_accuracy: 0.6667\n",
            "Epoch 119/200\n",
            "15/15 [==============================] - 0s 24ms/step - loss: 0.0021 - accuracy: 1.0000 - val_loss: 3.2096 - val_accuracy: 0.6667\n",
            "Epoch 120/200\n",
            "15/15 [==============================] - 0s 24ms/step - loss: 8.1326e-04 - accuracy: 1.0000 - val_loss: 3.2365 - val_accuracy: 0.6667\n",
            "Epoch 121/200\n",
            "15/15 [==============================] - 0s 25ms/step - loss: 0.0152 - accuracy: 1.0000 - val_loss: 3.3304 - val_accuracy: 0.6667\n",
            "Epoch 122/200\n",
            "15/15 [==============================] - 0s 23ms/step - loss: 2.9445e-04 - accuracy: 1.0000 - val_loss: 4.3422 - val_accuracy: 0.6667\n",
            "Epoch 123/200\n",
            "15/15 [==============================] - 0s 24ms/step - loss: 0.0231 - accuracy: 0.9957 - val_loss: 4.0295 - val_accuracy: 0.6667\n",
            "Epoch 124/200\n",
            "15/15 [==============================] - 0s 24ms/step - loss: 0.0029 - accuracy: 1.0000 - val_loss: 5.2329 - val_accuracy: 0.6667\n",
            "Epoch 125/200\n",
            "15/15 [==============================] - 0s 25ms/step - loss: 0.0057 - accuracy: 1.0000 - val_loss: 7.3010 - val_accuracy: 0.6000\n",
            "Epoch 126/200\n",
            "15/15 [==============================] - 0s 25ms/step - loss: 0.6430 - accuracy: 0.9016 - val_loss: 3.6607 - val_accuracy: 0.6000\n",
            "Epoch 127/200\n",
            "15/15 [==============================] - 0s 24ms/step - loss: 0.4032 - accuracy: 0.9024 - val_loss: 2.4195 - val_accuracy: 0.7333\n",
            "Epoch 128/200\n",
            "15/15 [==============================] - 0s 30ms/step - loss: 0.4737 - accuracy: 0.9107 - val_loss: 2.7771 - val_accuracy: 0.6667\n",
            "Epoch 129/200\n",
            "15/15 [==============================] - 0s 31ms/step - loss: 0.0986 - accuracy: 0.9627 - val_loss: 1.6545 - val_accuracy: 0.7333\n",
            "Epoch 130/200\n",
            "15/15 [==============================] - 1s 33ms/step - loss: 0.0439 - accuracy: 1.0000 - val_loss: 2.2561 - val_accuracy: 0.7333\n",
            "Epoch 131/200\n",
            "15/15 [==============================] - 0s 31ms/step - loss: 0.0106 - accuracy: 0.9972 - val_loss: 2.8156 - val_accuracy: 0.7333\n",
            "Epoch 132/200\n",
            "15/15 [==============================] - 0s 28ms/step - loss: 0.0214 - accuracy: 0.9941 - val_loss: 3.2604 - val_accuracy: 0.7333\n",
            "Epoch 133/200\n",
            "15/15 [==============================] - 0s 24ms/step - loss: 0.1511 - accuracy: 0.9319 - val_loss: 1.8785 - val_accuracy: 0.7333\n",
            "Epoch 134/200\n",
            "15/15 [==============================] - 0s 25ms/step - loss: 0.0256 - accuracy: 1.0000 - val_loss: 2.4502 - val_accuracy: 0.7333\n",
            "Epoch 135/200\n",
            "15/15 [==============================] - 0s 33ms/step - loss: 0.0054 - accuracy: 1.0000 - val_loss: 2.4393 - val_accuracy: 0.7333\n",
            "Epoch 136/200\n",
            "15/15 [==============================] - 1s 33ms/step - loss: 0.2392 - accuracy: 0.9319 - val_loss: 3.0129 - val_accuracy: 0.6667\n",
            "Epoch 137/200\n",
            "15/15 [==============================] - 1s 35ms/step - loss: 0.0268 - accuracy: 1.0000 - val_loss: 2.5297 - val_accuracy: 0.6667\n",
            "Epoch 138/200\n",
            "15/15 [==============================] - 0s 31ms/step - loss: 0.0399 - accuracy: 1.0000 - val_loss: 1.9405 - val_accuracy: 0.8000\n",
            "Epoch 139/200\n",
            "15/15 [==============================] - 0s 31ms/step - loss: 0.0064 - accuracy: 1.0000 - val_loss: 1.9790 - val_accuracy: 0.8000\n",
            "Epoch 140/200\n",
            "15/15 [==============================] - 0s 30ms/step - loss: 0.0038 - accuracy: 1.0000 - val_loss: 2.0299 - val_accuracy: 0.8000\n",
            "Epoch 141/200\n",
            "15/15 [==============================] - 0s 29ms/step - loss: 0.0206 - accuracy: 1.0000 - val_loss: 2.0853 - val_accuracy: 0.8000\n",
            "Epoch 142/200\n",
            "15/15 [==============================] - 0s 31ms/step - loss: 0.0173 - accuracy: 0.9805 - val_loss: 2.0512 - val_accuracy: 0.8000\n",
            "Epoch 143/200\n",
            "15/15 [==============================] - 0s 26ms/step - loss: 0.0119 - accuracy: 0.9972 - val_loss: 2.3052 - val_accuracy: 0.8000\n",
            "Epoch 144/200\n",
            "15/15 [==============================] - 0s 24ms/step - loss: 0.0014 - accuracy: 1.0000 - val_loss: 4.2512 - val_accuracy: 0.6667\n",
            "Epoch 145/200\n",
            "15/15 [==============================] - 0s 24ms/step - loss: 0.0838 - accuracy: 0.9503 - val_loss: 4.0849 - val_accuracy: 0.6667\n",
            "Epoch 146/200\n",
            "15/15 [==============================] - 0s 24ms/step - loss: 0.0719 - accuracy: 0.9607 - val_loss: 2.9654 - val_accuracy: 0.8000\n",
            "Epoch 147/200\n",
            "15/15 [==============================] - 0s 24ms/step - loss: 0.0022 - accuracy: 1.0000 - val_loss: 2.7958 - val_accuracy: 0.8000\n",
            "Epoch 148/200\n",
            "15/15 [==============================] - 0s 24ms/step - loss: 0.0496 - accuracy: 0.9884 - val_loss: 2.5917 - val_accuracy: 0.7333\n",
            "Epoch 149/200\n",
            "15/15 [==============================] - 0s 25ms/step - loss: 0.0048 - accuracy: 1.0000 - val_loss: 2.3443 - val_accuracy: 0.8000\n",
            "Epoch 150/200\n",
            "15/15 [==============================] - 0s 24ms/step - loss: 0.0174 - accuracy: 0.9861 - val_loss: 2.4717 - val_accuracy: 0.8000\n",
            "Epoch 151/200\n",
            "15/15 [==============================] - 0s 24ms/step - loss: 0.0095 - accuracy: 1.0000 - val_loss: 2.5539 - val_accuracy: 0.7333\n",
            "Epoch 152/200\n",
            "15/15 [==============================] - 0s 24ms/step - loss: 0.0268 - accuracy: 1.0000 - val_loss: 2.5206 - val_accuracy: 0.8000\n",
            "Epoch 153/200\n",
            "15/15 [==============================] - 0s 24ms/step - loss: 1.9809e-04 - accuracy: 1.0000 - val_loss: 2.5234 - val_accuracy: 0.8000\n",
            "Epoch 154/200\n",
            "15/15 [==============================] - 0s 24ms/step - loss: 0.0039 - accuracy: 1.0000 - val_loss: 2.5664 - val_accuracy: 0.8000\n",
            "Epoch 155/200\n",
            "15/15 [==============================] - 0s 24ms/step - loss: 0.0010 - accuracy: 1.0000 - val_loss: 2.8530 - val_accuracy: 0.8000\n",
            "Epoch 156/200\n",
            "15/15 [==============================] - 0s 30ms/step - loss: 0.0038 - accuracy: 1.0000 - val_loss: 2.8329 - val_accuracy: 0.8000\n",
            "Epoch 157/200\n",
            "15/15 [==============================] - 0s 32ms/step - loss: 0.0024 - accuracy: 1.0000 - val_loss: 2.9157 - val_accuracy: 0.7333\n",
            "Epoch 158/200\n",
            "15/15 [==============================] - 1s 35ms/step - loss: 0.0073 - accuracy: 1.0000 - val_loss: 2.9512 - val_accuracy: 0.8000\n",
            "Epoch 159/200\n",
            "15/15 [==============================] - 0s 31ms/step - loss: 0.0521 - accuracy: 0.9295 - val_loss: 2.9788 - val_accuracy: 0.7333\n",
            "Epoch 160/200\n",
            "15/15 [==============================] - 1s 34ms/step - loss: 0.0194 - accuracy: 1.0000 - val_loss: 3.0868 - val_accuracy: 0.7333\n",
            "Epoch 161/200\n",
            "15/15 [==============================] - 1s 34ms/step - loss: 0.0015 - accuracy: 1.0000 - val_loss: 4.2042 - val_accuracy: 0.6667\n",
            "Epoch 162/200\n",
            "15/15 [==============================] - 0s 27ms/step - loss: 0.0024 - accuracy: 1.0000 - val_loss: 4.3135 - val_accuracy: 0.6667\n",
            "Epoch 163/200\n",
            "15/15 [==============================] - 0s 24ms/step - loss: 0.3917 - accuracy: 0.9491 - val_loss: 1.7051 - val_accuracy: 0.8000\n",
            "Epoch 164/200\n",
            "15/15 [==============================] - 0s 24ms/step - loss: 0.0069 - accuracy: 1.0000 - val_loss: 1.4744 - val_accuracy: 0.8000\n",
            "Epoch 165/200\n",
            "15/15 [==============================] - 0s 26ms/step - loss: 0.0111 - accuracy: 1.0000 - val_loss: 1.5401 - val_accuracy: 0.8000\n",
            "Epoch 166/200\n",
            "15/15 [==============================] - 0s 24ms/step - loss: 0.0058 - accuracy: 1.0000 - val_loss: 1.6824 - val_accuracy: 0.8000\n",
            "Epoch 167/200\n",
            "15/15 [==============================] - 0s 24ms/step - loss: 0.0086 - accuracy: 1.0000 - val_loss: 1.7692 - val_accuracy: 0.8000\n",
            "Epoch 168/200\n",
            "15/15 [==============================] - 0s 24ms/step - loss: 0.0347 - accuracy: 1.0000 - val_loss: 2.0324 - val_accuracy: 0.8000\n",
            "Epoch 169/200\n",
            "15/15 [==============================] - 0s 24ms/step - loss: 0.0108 - accuracy: 1.0000 - val_loss: 2.0532 - val_accuracy: 0.8000\n",
            "Epoch 170/200\n",
            "15/15 [==============================] - 0s 25ms/step - loss: 0.0548 - accuracy: 0.9861 - val_loss: 2.7671 - val_accuracy: 0.7333\n",
            "Epoch 171/200\n",
            "15/15 [==============================] - 0s 24ms/step - loss: 0.0359 - accuracy: 0.9905 - val_loss: 2.1209 - val_accuracy: 0.8000\n",
            "Epoch 172/200\n",
            "15/15 [==============================] - 0s 25ms/step - loss: 0.0660 - accuracy: 0.9835 - val_loss: 1.9264 - val_accuracy: 0.8000\n",
            "Epoch 173/200\n",
            "15/15 [==============================] - 0s 31ms/step - loss: 0.0210 - accuracy: 1.0000 - val_loss: 2.0503 - val_accuracy: 0.8000\n",
            "Epoch 174/200\n",
            "15/15 [==============================] - 0s 32ms/step - loss: 0.2739 - accuracy: 0.9038 - val_loss: 2.4962 - val_accuracy: 0.7333\n",
            "Epoch 175/200\n",
            "15/15 [==============================] - 0s 32ms/step - loss: 0.0049 - accuracy: 1.0000 - val_loss: 2.3068 - val_accuracy: 0.8000\n",
            "Epoch 176/200\n",
            "15/15 [==============================] - 0s 31ms/step - loss: 0.0082 - accuracy: 1.0000 - val_loss: 2.4298 - val_accuracy: 0.7333\n",
            "Epoch 177/200\n",
            "15/15 [==============================] - 0s 24ms/step - loss: 0.0810 - accuracy: 0.9444 - val_loss: 2.9891 - val_accuracy: 0.6667\n",
            "Epoch 178/200\n",
            "15/15 [==============================] - 0s 24ms/step - loss: 0.0035 - accuracy: 1.0000 - val_loss: 2.8151 - val_accuracy: 0.6667\n",
            "Epoch 179/200\n",
            "15/15 [==============================] - 0s 30ms/step - loss: 0.0311 - accuracy: 0.9580 - val_loss: 2.8333 - val_accuracy: 0.7333\n",
            "Epoch 180/200\n",
            "15/15 [==============================] - 0s 32ms/step - loss: 0.0530 - accuracy: 0.9503 - val_loss: 3.4446 - val_accuracy: 0.6667\n",
            "Epoch 181/200\n",
            "15/15 [==============================] - 0s 32ms/step - loss: 0.0316 - accuracy: 1.0000 - val_loss: 3.1632 - val_accuracy: 0.7333\n",
            "Epoch 182/200\n",
            "15/15 [==============================] - 0s 32ms/step - loss: 0.0124 - accuracy: 1.0000 - val_loss: 2.4892 - val_accuracy: 0.7333\n",
            "Epoch 183/200\n",
            "15/15 [==============================] - 0s 29ms/step - loss: 0.0046 - accuracy: 1.0000 - val_loss: 3.3824 - val_accuracy: 0.7333\n",
            "Epoch 184/200\n",
            "15/15 [==============================] - 0s 24ms/step - loss: 0.1130 - accuracy: 0.9503 - val_loss: 4.1355 - val_accuracy: 0.6667\n",
            "Epoch 185/200\n",
            "15/15 [==============================] - 0s 24ms/step - loss: 0.0104 - accuracy: 1.0000 - val_loss: 4.4322 - val_accuracy: 0.6667\n",
            "Epoch 186/200\n",
            "15/15 [==============================] - 0s 25ms/step - loss: 0.0011 - accuracy: 1.0000 - val_loss: 4.5750 - val_accuracy: 0.6667\n",
            "Epoch 187/200\n",
            "15/15 [==============================] - 0s 24ms/step - loss: 0.0026 - accuracy: 1.0000 - val_loss: 4.5869 - val_accuracy: 0.6667\n",
            "Epoch 188/200\n",
            "15/15 [==============================] - 0s 25ms/step - loss: 0.0045 - accuracy: 1.0000 - val_loss: 4.3541 - val_accuracy: 0.6667\n",
            "Epoch 189/200\n",
            "15/15 [==============================] - 0s 24ms/step - loss: 0.0120 - accuracy: 1.0000 - val_loss: 4.1615 - val_accuracy: 0.6667\n",
            "Epoch 190/200\n",
            "15/15 [==============================] - 0s 25ms/step - loss: 0.0188 - accuracy: 0.9905 - val_loss: 4.2650 - val_accuracy: 0.6667\n",
            "Epoch 191/200\n",
            "15/15 [==============================] - 0s 25ms/step - loss: 0.0477 - accuracy: 0.9696 - val_loss: 5.4938 - val_accuracy: 0.6667\n",
            "Epoch 192/200\n",
            "15/15 [==============================] - 0s 25ms/step - loss: 0.1979 - accuracy: 0.9295 - val_loss: 2.8239 - val_accuracy: 0.7333\n",
            "Epoch 193/200\n",
            "15/15 [==============================] - 0s 24ms/step - loss: 0.0552 - accuracy: 0.9785 - val_loss: 2.3319 - val_accuracy: 0.7333\n",
            "Epoch 194/200\n",
            "15/15 [==============================] - 0s 25ms/step - loss: 0.0189 - accuracy: 0.9835 - val_loss: 1.8172 - val_accuracy: 0.7333\n",
            "Epoch 195/200\n",
            "15/15 [==============================] - 0s 25ms/step - loss: 0.1320 - accuracy: 0.9378 - val_loss: 2.5043 - val_accuracy: 0.7333\n",
            "Epoch 196/200\n",
            "15/15 [==============================] - 0s 29ms/step - loss: 0.0072 - accuracy: 1.0000 - val_loss: 2.4573 - val_accuracy: 0.7333\n",
            "Epoch 197/200\n",
            "15/15 [==============================] - 0s 30ms/step - loss: 0.0026 - accuracy: 1.0000 - val_loss: 2.3357 - val_accuracy: 0.7333\n",
            "Epoch 198/200\n",
            "15/15 [==============================] - 0s 30ms/step - loss: 0.0424 - accuracy: 0.9729 - val_loss: 3.4297 - val_accuracy: 0.7333\n",
            "Epoch 199/200\n",
            "15/15 [==============================] - 0s 25ms/step - loss: 0.0221 - accuracy: 1.0000 - val_loss: 3.5317 - val_accuracy: 0.7333\n",
            "Epoch 200/200\n",
            "15/15 [==============================] - 0s 24ms/step - loss: 0.0054 - accuracy: 1.0000 - val_loss: 3.5537 - val_accuracy: 0.7333\n"
          ],
          "name": "stdout"
        },
        {
          "output_type": "execute_result",
          "data": {
            "text/plain": [
              "<tensorflow.python.keras.callbacks.History at 0x7f58ea3a1a90>"
            ]
          },
          "metadata": {
            "tags": []
          },
          "execution_count": 12
        }
      ]
    },
    {
      "cell_type": "markdown",
      "metadata": {
        "id": "j8IpbJ9fEsmc"
      },
      "source": [
        "## 모델평가"
      ]
    },
    {
      "cell_type": "code",
      "metadata": {
        "colab": {
          "base_uri": "https://localhost:8080/"
        },
        "id": "XSEexpz4FS47",
        "outputId": "a7d1a27f-82fc-4cf5-f579-16d9ba3fdafa"
      },
      "source": [
        "# acc = model.evaluate_generator(test_generator, steps=5,)\n",
        "acc = model.evaluate(test_generator, steps=5,)\n",
        "print(f'Accuracy: {acc[1]:.4f}')"
      ],
      "execution_count": 13,
      "outputs": [
        {
          "output_type": "stream",
          "text": [
            "5/5 [==============================] - 0s 6ms/step - loss: 3.5537 - accuracy: 0.7333\n",
            "Accuracy: 0.7333\n"
          ],
          "name": "stdout"
        }
      ]
    }
  ]
}