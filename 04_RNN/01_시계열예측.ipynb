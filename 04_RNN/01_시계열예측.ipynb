{
  "nbformat": 4,
  "nbformat_minor": 0,
  "metadata": {
    "colab": {
      "name": "01_시계열예측.ipynb",
      "provenance": [],
      "collapsed_sections": []
    },
    "kernelspec": {
      "name": "python3",
      "display_name": "Python 3"
    },
    "language_info": {
      "name": "python"
    }
  },
  "cells": [
    {
      "cell_type": "markdown",
      "metadata": {
        "id": "y7bwEpHoN_lL"
      },
      "source": [
        "# 시계열 예측 문제\n",
        "- 사인파형 시계열을 입력으로 다음 스텝의 출력을 예측\n",
        "- 3개의 순서열을 입력한 후 출력값이 target과 일치하게 만듦"
      ]
    },
    {
      "cell_type": "code",
      "metadata": {
        "id": "DlIMoB6kOOhA"
      },
      "source": [
        "import numpy as np \n",
        "import matplotlib.pyplot as plt\n",
        "%matplotlib inline"
      ],
      "execution_count": 1,
      "outputs": []
    },
    {
      "cell_type": "code",
      "metadata": {
        "colab": {
          "base_uri": "https://localhost:8080/"
        },
        "id": "KlTF9UtGN7lb",
        "outputId": "e3988f75-a0ce-4c1e-cbc7-7fd566dec82e"
      },
      "source": [
        "s = np.sin(2 * np.pi * 0.125 * np.arange(20))\n",
        "s"
      ],
      "execution_count": 8,
      "outputs": [
        {
          "output_type": "execute_result",
          "data": {
            "text/plain": [
              "array([ 0.00000000e+00,  7.07106781e-01,  1.00000000e+00,  7.07106781e-01,\n",
              "        1.22464680e-16, -7.07106781e-01, -1.00000000e+00, -7.07106781e-01,\n",
              "       -2.44929360e-16,  7.07106781e-01,  1.00000000e+00,  7.07106781e-01,\n",
              "        3.67394040e-16, -7.07106781e-01, -1.00000000e+00, -7.07106781e-01,\n",
              "       -4.89858720e-16,  7.07106781e-01,  1.00000000e+00,  7.07106781e-01])"
            ]
          },
          "metadata": {
            "tags": []
          },
          "execution_count": 8
        }
      ]
    },
    {
      "cell_type": "code",
      "metadata": {
        "colab": {
          "base_uri": "https://localhost:8080/",
          "height": 265
        },
        "id": "Akf1fghmO1Xg",
        "outputId": "5ba703c8-94fd-425f-d09e-302fa2cf0a2c"
      },
      "source": [
        "plt.plot(s, 'ro-')\n",
        "plt.xlim(-0.5, 20.5)\n",
        "plt.ylim(-1.1, 1.1)\n",
        "plt.grid()\n",
        "plt.show()"
      ],
      "execution_count": 9,
      "outputs": [
        {
          "output_type": "display_data",
          "data": {
            "image/png": "[encoded data removed]",
            "text/plain": [
              "<Figure size 432x288 with 1 Axes>"
            ]
          },
          "metadata": {
            "tags": [],
            "needs_background": "light"
          }
        }
      ]
    },
    {
      "cell_type": "markdown",
      "metadata": {
        "id": "ydXhmBWAQDcw"
      },
      "source": [
        "### 원래의 시계열 벡터를 Toep 행렬 형태로 변환\n",
        "(대각선 위의 성분들이 같은 정사각 행렬)"
      ]
    },
    {
      "cell_type": "code",
      "metadata": {
        "colab": {
          "base_uri": "https://localhost:8080/"
        },
        "id": "cCWmbtbkP64y",
        "outputId": "f65901ee-5690-4191-f464-96b720d5e96d"
      },
      "source": [
        "from scipy.linalg import toeplitz\n",
        "S = np.fliplr(toeplitz(np.r_[s[-1], np.zeros(s.shape[0]-2)], s[::-1]))\n",
        "S[:5, :3]"
      ],
      "execution_count": 10,
      "outputs": [
        {
          "output_type": "execute_result",
          "data": {
            "text/plain": [
              "array([[ 0.00000000e+00,  7.07106781e-01,  1.00000000e+00],\n",
              "       [ 7.07106781e-01,  1.00000000e+00,  7.07106781e-01],\n",
              "       [ 1.00000000e+00,  7.07106781e-01,  1.22464680e-16],\n",
              "       [ 7.07106781e-01,  1.22464680e-16, -7.07106781e-01],\n",
              "       [ 1.22464680e-16, -7.07106781e-01, -1.00000000e+00]])"
            ]
          },
          "metadata": {
            "tags": []
          },
          "execution_count": 10
        }
      ]
    },
    {
      "cell_type": "code",
      "metadata": {
        "colab": {
          "base_uri": "https://localhost:8080/"
        },
        "id": "dsd-DDkdQV-j",
        "outputId": "bbfde5de-2d41-40c7-8082-fd663c885e88"
      },
      "source": [
        "S.shape"
      ],
      "execution_count": 12,
      "outputs": [
        {
          "output_type": "execute_result",
          "data": {
            "text/plain": [
              "(19, 20)"
            ]
          },
          "metadata": {
            "tags": []
          },
          "execution_count": 12
        }
      ]
    },
    {
      "cell_type": "code",
      "metadata": {
        "colab": {
          "base_uri": "https://localhost:8080/"
        },
        "id": "oymuQkBFQYCJ",
        "outputId": "dc17b573-363b-413c-9759-3a14b49ca3be"
      },
      "source": [
        "X_train = S[:-1, :3][:, :, np.newaxis]\n",
        "Y_train = S[:-1, 3]\n",
        "X_train.shape, Y_train.shape"
      ],
      "execution_count": 13,
      "outputs": [
        {
          "output_type": "execute_result",
          "data": {
            "text/plain": [
              "((18, 3, 1), (18,))"
            ]
          },
          "metadata": {
            "tags": []
          },
          "execution_count": 13
        }
      ]
    },
    {
      "cell_type": "code",
      "metadata": {
        "colab": {
          "base_uri": "https://localhost:8080/"
        },
        "id": "-bUAemhwQbuo",
        "outputId": "e028e301-76e7-4745-c84a-dfcd02665c64"
      },
      "source": [
        "X_train[:3]"
      ],
      "execution_count": 14,
      "outputs": [
        {
          "output_type": "execute_result",
          "data": {
            "text/plain": [
              "array([[[0.00000000e+00],\n",
              "        [7.07106781e-01],\n",
              "        [1.00000000e+00]],\n",
              "\n",
              "       [[7.07106781e-01],\n",
              "        [1.00000000e+00],\n",
              "        [7.07106781e-01]],\n",
              "\n",
              "       [[1.00000000e+00],\n",
              "        [7.07106781e-01],\n",
              "        [1.22464680e-16]]])"
            ]
          },
          "metadata": {
            "tags": []
          },
          "execution_count": 14
        }
      ]
    },
    {
      "cell_type": "code",
      "metadata": {
        "colab": {
          "base_uri": "https://localhost:8080/"
        },
        "id": "tt7w8hIBQkwQ",
        "outputId": "dc09327b-d996-49f7-d33d-1c5ff16366c7"
      },
      "source": [
        "Y_train[:3]"
      ],
      "execution_count": 15,
      "outputs": [
        {
          "output_type": "execute_result",
          "data": {
            "text/plain": [
              "array([ 7.07106781e-01,  1.22464680e-16, -7.07106781e-01])"
            ]
          },
          "metadata": {
            "tags": []
          },
          "execution_count": 15
        }
      ]
    },
    {
      "cell_type": "code",
      "metadata": {
        "colab": {
          "base_uri": "https://localhost:8080/",
          "height": 441
        },
        "id": "j_WXYjZ8Qn2_",
        "outputId": "accb2157-2161-448e-d529-da4fda885f9e"
      },
      "source": [
        "plt.figure(figsize=(10,6))\n",
        "\n",
        "plt.subplot(211)\n",
        "plt.plot([0, 1, 2], X_train[0].flatten(), 'bo-', label=\"input sequence\")\n",
        "plt.plot([3], Y_train[0], 'ro', label=\"target\")\n",
        "plt.xlim(-0.5, 4.5)\n",
        "plt.ylim(-1.1, 1.1)\n",
        "plt.legend()\n",
        "plt.grid()\n",
        "plt.title(\"First sample sequence\")\n",
        "\n",
        "plt.subplot(212)\n",
        "plt.plot([1, 2, 3], X_train[1].flatten(), 'bo-', label=\"input sequence\")\n",
        "plt.plot([4], Y_train[1], 'ro', label=\"target\")\n",
        "plt.xlim(-0.5, 4.5)\n",
        "plt.ylim(-1.1, 1.1)\n",
        "plt.legend()\n",
        "plt.grid()\n",
        "plt.title(\"Second sample sequence\")\n",
        "\n",
        "plt.tight_layout()\n",
        "plt.show()"
      ],
      "execution_count": 16,
      "outputs": [
        {
          "output_type": "display_data",
          "data": {
            "image/png": "[encoded data removed]",
            "text/plain": [
              "<Figure size 720x432 with 2 Axes>"
            ]
          },
          "metadata": {
            "tags": [],
            "needs_background": "light"
          }
        }
      ]
    },
    {
      "cell_type": "markdown",
      "metadata": {
        "id": "W1_b51LxT3mq"
      },
      "source": [
        ""
      ]
    },
    {
      "cell_type": "code",
      "metadata": {
        "id": "zaV9h88MQ6Tx"
      },
      "source": [
        "import tensorflow as tf\n",
        "\n",
        "seed = 2021\n",
        "np.random.seed(seed)\n",
        "tf.random.set_seed(seed)"
      ],
      "execution_count": 17,
      "outputs": []
    },
    {
      "cell_type": "code",
      "metadata": {
        "id": "xsx7_srFUKGn"
      },
      "source": [
        "from tensorflow.keras.models import Sequential\n",
        "from tensorflow.keras.layers import Dense, SimpleRNN"
      ],
      "execution_count": 19,
      "outputs": []
    },
    {
      "cell_type": "code",
      "metadata": {
        "colab": {
          "base_uri": "https://localhost:8080/"
        },
        "id": "3vDHCDImUR7x",
        "outputId": "0d163a02-fe80-453b-e587-4733e3ec0b18"
      },
      "source": [
        "model = Sequential()\n",
        "model.add(SimpleRNN(10, input_shape=(3,1)))   #X_train.shape[1:]\n",
        "model.add(Dense(1, activation='linear'))\n",
        "model.summary()"
      ],
      "execution_count": 21,
      "outputs": [
        {
          "output_type": "stream",
          "text": [
            "Model: \"sequential_1\"\n",
            "_________________________________________________________________\n",
            "Layer (type)                 Output Shape              Param #   \n",
            "=================================================================\n",
            "simple_rnn_1 (SimpleRNN)     (None, 10)                120       \n",
            "_________________________________________________________________\n",
            "dense (Dense)                (None, 1)                 11        \n",
            "=================================================================\n",
            "Total params: 131\n",
            "Trainable params: 131\n",
            "Non-trainable params: 0\n",
            "_________________________________________________________________\n"
          ],
          "name": "stdout"
        }
      ]
    },
    {
      "cell_type": "code",
      "metadata": {
        "id": "VR2vs9rKU66e"
      },
      "source": [
        "# 모델설정\n",
        "model.compile(loss='mse', optimizer='sgd')"
      ],
      "execution_count": 23,
      "outputs": []
    },
    {
      "cell_type": "code",
      "metadata": {
        "colab": {
          "base_uri": "https://localhost:8080/",
          "height": 281
        },
        "id": "CdSHkcuZVIKR",
        "outputId": "bfb4822c-eedd-4245-9eef-737a9e6aa000"
      },
      "source": [
        "plt.plot(Y_train, 'ro-', label=\"target\")\n",
        "plt.plot(model.predict(X_train[:, :, :]), 'bs-', label=\"output\")\n",
        "plt.xlim(-0.5, 20.5)\n",
        "plt.ylim(-1.1, 1.1)\n",
        "plt.legend()\n",
        "plt.title(\"Before training\")\n",
        "plt.grid()\n",
        "plt.show()"
      ],
      "execution_count": 26,
      "outputs": [
        {
          "output_type": "display_data",
          "data": {
            "image/png": "[encoded data removed]",
            "text/plain": [
              "<Figure size 432x288 with 1 Axes>"
            ]
          },
          "metadata": {
            "tags": [],
            "needs_background": "light"
          }
        }
      ]
    },
    {
      "cell_type": "code",
      "metadata": {
        "colab": {
          "base_uri": "https://localhost:8080/"
        },
        "id": "xZzor2Y_VQCg",
        "outputId": "35fa3c26-0acf-4219-df3c-3b53d54100c2"
      },
      "source": [
        "# 모델 학습\n",
        "history = model.fit(X_train, Y_train, epochs=100)"
      ],
      "execution_count": 28,
      "outputs": [
        {
          "output_type": "stream",
          "text": [
            "Epoch 1/100\n",
            "1/1 [==============================] - 1s 788ms/step - loss: 0.9072\n",
            "Epoch 2/100\n",
            "1/1 [==============================] - 0s 13ms/step - loss: 0.8125\n",
            "Epoch 3/100\n",
            "1/1 [==============================] - 0s 4ms/step - loss: 0.7304\n",
            "Epoch 4/100\n",
            "1/1 [==============================] - 0s 9ms/step - loss: 0.6589\n",
            "Epoch 5/100\n",
            "1/1 [==============================] - 0s 8ms/step - loss: 0.5963\n",
            "Epoch 6/100\n",
            "1/1 [==============================] - 0s 6ms/step - loss: 0.5413\n",
            "Epoch 7/100\n",
            "1/1 [==============================] - 0s 10ms/step - loss: 0.4926\n",
            "Epoch 8/100\n",
            "1/1 [==============================] - 0s 5ms/step - loss: 0.4495\n",
            "Epoch 9/100\n",
            "1/1 [==============================] - 0s 6ms/step - loss: 0.4110\n",
            "Epoch 10/100\n",
            "1/1 [==============================] - 0s 6ms/step - loss: 0.3767\n",
            "Epoch 11/100\n",
            "1/1 [==============================] - 0s 6ms/step - loss: 0.3458\n",
            "Epoch 12/100\n",
            "1/1 [==============================] - 0s 7ms/step - loss: 0.3181\n",
            "Epoch 13/100\n",
            "1/1 [==============================] - 0s 6ms/step - loss: 0.2930\n",
            "Epoch 14/100\n",
            "1/1 [==============================] - 0s 5ms/step - loss: 0.2704\n",
            "Epoch 15/100\n",
            "1/1 [==============================] - 0s 5ms/step - loss: 0.2498\n",
            "Epoch 16/100\n",
            "1/1 [==============================] - 0s 6ms/step - loss: 0.2311\n",
            "Epoch 17/100\n",
            "1/1 [==============================] - 0s 5ms/step - loss: 0.2141\n",
            "Epoch 18/100\n",
            "1/1 [==============================] - 0s 18ms/step - loss: 0.1986\n",
            "Epoch 19/100\n",
            "1/1 [==============================] - 0s 10ms/step - loss: 0.1844\n",
            "Epoch 20/100\n",
            "1/1 [==============================] - 0s 6ms/step - loss: 0.1714\n",
            "Epoch 21/100\n",
            "1/1 [==============================] - 0s 6ms/step - loss: 0.1595\n",
            "Epoch 22/100\n",
            "1/1 [==============================] - 0s 7ms/step - loss: 0.1486\n",
            "Epoch 23/100\n",
            "1/1 [==============================] - 0s 8ms/step - loss: 0.1386\n",
            "Epoch 24/100\n",
            "1/1 [==============================] - 0s 6ms/step - loss: 0.1294\n",
            "Epoch 25/100\n",
            "1/1 [==============================] - 0s 7ms/step - loss: 0.1209\n",
            "Epoch 26/100\n",
            "1/1 [==============================] - 0s 7ms/step - loss: 0.1131\n",
            "Epoch 27/100\n",
            "1/1 [==============================] - 0s 5ms/step - loss: 0.1060\n",
            "Epoch 28/100\n",
            "1/1 [==============================] - 0s 6ms/step - loss: 0.0994\n",
            "Epoch 29/100\n",
            "1/1 [==============================] - 0s 5ms/step - loss: 0.0933\n",
            "Epoch 30/100\n",
            "1/1 [==============================] - 0s 9ms/step - loss: 0.0877\n",
            "Epoch 31/100\n",
            "1/1 [==============================] - 0s 9ms/step - loss: 0.0825\n",
            "Epoch 32/100\n",
            "1/1 [==============================] - 0s 6ms/step - loss: 0.0777\n",
            "Epoch 33/100\n",
            "1/1 [==============================] - 0s 5ms/step - loss: 0.0733\n",
            "Epoch 34/100\n",
            "1/1 [==============================] - 0s 5ms/step - loss: 0.0692\n",
            "Epoch 35/100\n",
            "1/1 [==============================] - 0s 6ms/step - loss: 0.0655\n",
            "Epoch 36/100\n",
            "1/1 [==============================] - 0s 6ms/step - loss: 0.0620\n",
            "Epoch 37/100\n",
            "1/1 [==============================] - 0s 5ms/step - loss: 0.0588\n",
            "Epoch 38/100\n",
            "1/1 [==============================] - 0s 7ms/step - loss: 0.0558\n",
            "Epoch 39/100\n",
            "1/1 [==============================] - 0s 7ms/step - loss: 0.0531\n",
            "Epoch 40/100\n",
            "1/1 [==============================] - 0s 7ms/step - loss: 0.0506\n",
            "Epoch 41/100\n",
            "1/1 [==============================] - 0s 6ms/step - loss: 0.0482\n",
            "Epoch 42/100\n",
            "1/1 [==============================] - 0s 5ms/step - loss: 0.0460\n",
            "Epoch 43/100\n",
            "1/1 [==============================] - 0s 5ms/step - loss: 0.0440\n",
            "Epoch 44/100\n",
            "1/1 [==============================] - 0s 6ms/step - loss: 0.0422\n",
            "Epoch 45/100\n",
            "1/1 [==============================] - 0s 8ms/step - loss: 0.0405\n",
            "Epoch 46/100\n",
            "1/1 [==============================] - 0s 9ms/step - loss: 0.0389\n",
            "Epoch 47/100\n",
            "1/1 [==============================] - 0s 8ms/step - loss: 0.0374\n",
            "Epoch 48/100\n",
            "1/1 [==============================] - 0s 8ms/step - loss: 0.0360\n",
            "Epoch 49/100\n",
            "1/1 [==============================] - 0s 8ms/step - loss: 0.0347\n",
            "Epoch 50/100\n",
            "1/1 [==============================] - 0s 8ms/step - loss: 0.0335\n",
            "Epoch 51/100\n",
            "1/1 [==============================] - 0s 9ms/step - loss: 0.0324\n",
            "Epoch 52/100\n",
            "1/1 [==============================] - 0s 6ms/step - loss: 0.0314\n",
            "Epoch 53/100\n",
            "1/1 [==============================] - 0s 7ms/step - loss: 0.0305\n",
            "Epoch 54/100\n",
            "1/1 [==============================] - 0s 7ms/step - loss: 0.0296\n",
            "Epoch 55/100\n",
            "1/1 [==============================] - 0s 6ms/step - loss: 0.0288\n",
            "Epoch 56/100\n",
            "1/1 [==============================] - 0s 6ms/step - loss: 0.0280\n",
            "Epoch 57/100\n",
            "1/1 [==============================] - 0s 6ms/step - loss: 0.0273\n",
            "Epoch 58/100\n",
            "1/1 [==============================] - 0s 5ms/step - loss: 0.0266\n",
            "Epoch 59/100\n",
            "1/1 [==============================] - 0s 6ms/step - loss: 0.0260\n",
            "Epoch 60/100\n",
            "1/1 [==============================] - 0s 7ms/step - loss: 0.0254\n",
            "Epoch 61/100\n",
            "1/1 [==============================] - 0s 6ms/step - loss: 0.0249\n",
            "Epoch 62/100\n",
            "1/1 [==============================] - 0s 7ms/step - loss: 0.0244\n",
            "Epoch 63/100\n",
            "1/1 [==============================] - 0s 6ms/step - loss: 0.0239\n",
            "Epoch 64/100\n",
            "1/1 [==============================] - 0s 7ms/step - loss: 0.0234\n",
            "Epoch 65/100\n",
            "1/1 [==============================] - 0s 6ms/step - loss: 0.0230\n",
            "Epoch 66/100\n",
            "1/1 [==============================] - 0s 8ms/step - loss: 0.0226\n",
            "Epoch 67/100\n",
            "1/1 [==============================] - 0s 12ms/step - loss: 0.0223\n",
            "Epoch 68/100\n",
            "1/1 [==============================] - 0s 6ms/step - loss: 0.0219\n",
            "Epoch 69/100\n",
            "1/1 [==============================] - 0s 6ms/step - loss: 0.0216\n",
            "Epoch 70/100\n",
            "1/1 [==============================] - 0s 6ms/step - loss: 0.0213\n",
            "Epoch 71/100\n",
            "1/1 [==============================] - 0s 8ms/step - loss: 0.0210\n",
            "Epoch 72/100\n",
            "1/1 [==============================] - 0s 13ms/step - loss: 0.0207\n",
            "Epoch 73/100\n",
            "1/1 [==============================] - 0s 7ms/step - loss: 0.0204\n",
            "Epoch 74/100\n",
            "1/1 [==============================] - 0s 6ms/step - loss: 0.0202\n",
            "Epoch 75/100\n",
            "1/1 [==============================] - 0s 7ms/step - loss: 0.0200\n",
            "Epoch 76/100\n",
            "1/1 [==============================] - 0s 7ms/step - loss: 0.0197\n",
            "Epoch 77/100\n",
            "1/1 [==============================] - 0s 12ms/step - loss: 0.0195\n",
            "Epoch 78/100\n",
            "1/1 [==============================] - 0s 7ms/step - loss: 0.0193\n",
            "Epoch 79/100\n",
            "1/1 [==============================] - 0s 6ms/step - loss: 0.0191\n",
            "Epoch 80/100\n",
            "1/1 [==============================] - 0s 16ms/step - loss: 0.0189\n",
            "Epoch 81/100\n",
            "1/1 [==============================] - 0s 8ms/step - loss: 0.0187\n",
            "Epoch 82/100\n",
            "1/1 [==============================] - 0s 7ms/step - loss: 0.0186\n",
            "Epoch 83/100\n",
            "1/1 [==============================] - 0s 9ms/step - loss: 0.0184\n",
            "Epoch 84/100\n",
            "1/1 [==============================] - 0s 18ms/step - loss: 0.0182\n",
            "Epoch 85/100\n",
            "1/1 [==============================] - 0s 15ms/step - loss: 0.0181\n",
            "Epoch 86/100\n",
            "1/1 [==============================] - 0s 12ms/step - loss: 0.0179\n",
            "Epoch 87/100\n",
            "1/1 [==============================] - 0s 12ms/step - loss: 0.0178\n",
            "Epoch 88/100\n",
            "1/1 [==============================] - 0s 16ms/step - loss: 0.0177\n",
            "Epoch 89/100\n",
            "1/1 [==============================] - 0s 5ms/step - loss: 0.0175\n",
            "Epoch 90/100\n",
            "1/1 [==============================] - 0s 5ms/step - loss: 0.0174\n",
            "Epoch 91/100\n",
            "1/1 [==============================] - 0s 11ms/step - loss: 0.0173\n",
            "Epoch 92/100\n",
            "1/1 [==============================] - 0s 13ms/step - loss: 0.0172\n",
            "Epoch 93/100\n",
            "1/1 [==============================] - 0s 6ms/step - loss: 0.0170\n",
            "Epoch 94/100\n",
            "1/1 [==============================] - 0s 5ms/step - loss: 0.0169\n",
            "Epoch 95/100\n",
            "1/1 [==============================] - 0s 8ms/step - loss: 0.0168\n",
            "Epoch 96/100\n",
            "1/1 [==============================] - 0s 5ms/step - loss: 0.0167\n",
            "Epoch 97/100\n",
            "1/1 [==============================] - 0s 5ms/step - loss: 0.0166\n",
            "Epoch 98/100\n",
            "1/1 [==============================] - 0s 4ms/step - loss: 0.0165\n",
            "Epoch 99/100\n",
            "1/1 [==============================] - 0s 6ms/step - loss: 0.0164\n",
            "Epoch 100/100\n",
            "1/1 [==============================] - 0s 4ms/step - loss: 0.0163\n"
          ],
          "name": "stdout"
        }
      ]
    },
    {
      "cell_type": "markdown",
      "metadata": {
        "id": "H-7uT8XhWGa-"
      },
      "source": [
        "결과확인"
      ]
    },
    {
      "cell_type": "code",
      "metadata": {
        "colab": {
          "base_uri": "https://localhost:8080/",
          "height": 281
        },
        "id": "QafQHjCUWAIg",
        "outputId": "b92a0bb7-e60e-412c-f9db-e02835b2baeb"
      },
      "source": [
        "plt.plot(Y_train, 'ro-', label=\"target\")\n",
        "plt.plot(model.predict(X_train[:, :, :]), 'bs-', label=\"output\")\n",
        "plt.xlim(-0.5, 20.5)\n",
        "plt.ylim(-1.1, 1.1)\n",
        "plt.legend()\n",
        "plt.title(\"After training\")\n",
        "plt.grid()\n",
        "plt.show()"
      ],
      "execution_count": 30,
      "outputs": [
        {
          "output_type": "display_data",
          "data": {
            "image/png": "[encoded data removed]",
            "text/plain": [
              "<Figure size 432x288 with 1 Axes>"
            ]
          },
          "metadata": {
            "tags": [],
            "needs_background": "light"
          }
        }
      ]
    },
    {
      "cell_type": "markdown",
      "metadata": {
        "id": "FuQ3IctHW3wK"
      },
      "source": [
        "### RNN node 갯수를 20개로"
      ]
    },
    {
      "cell_type": "code",
      "metadata": {
        "colab": {
          "base_uri": "https://localhost:8080/"
        },
        "id": "bj5lb672W3ny",
        "outputId": "3f20add1-2d48-4e99-93f8-4aba990d8ab7"
      },
      "source": [
        "model2 = Sequential()\n",
        "model2.add(SimpleRNN(10, input_shape=(3,1)))   #X_train.shape[1:]\n",
        "model2.add(Dense(1, activation='linear'))\n",
        "model2.summary()"
      ],
      "execution_count": 31,
      "outputs": [
        {
          "output_type": "stream",
          "text": [
            "Model: \"sequential_2\"\n",
            "_________________________________________________________________\n",
            "Layer (type)                 Output Shape              Param #   \n",
            "=================================================================\n",
            "simple_rnn_2 (SimpleRNN)     (None, 10)                120       \n",
            "_________________________________________________________________\n",
            "dense_1 (Dense)              (None, 1)                 11        \n",
            "=================================================================\n",
            "Total params: 131\n",
            "Trainable params: 131\n",
            "Non-trainable params: 0\n",
            "_________________________________________________________________\n"
          ],
          "name": "stdout"
        }
      ]
    },
    {
      "cell_type": "code",
      "metadata": {
        "id": "-BVSZwOXXKbQ"
      },
      "source": [
        "model2.compile(loss='mse', optimizer='sgd')"
      ],
      "execution_count": 32,
      "outputs": []
    },
    {
      "cell_type": "code",
      "metadata": {
        "colab": {
          "base_uri": "https://localhost:8080/"
        },
        "id": "upwQqH91XROO",
        "outputId": "6659edf7-7bc7-4220-d48e-ab42d87eca7b"
      },
      "source": [
        "model2.fit(X_train, Y_train, epochs=200)"
      ],
      "execution_count": 36,
      "outputs": [
        {
          "output_type": "stream",
          "text": [
            "Epoch 1/200\n",
            "1/1 [==============================] - 0s 6ms/step - loss: 0.0042\n",
            "Epoch 2/200\n",
            "1/1 [==============================] - 0s 5ms/step - loss: 0.0039\n",
            "Epoch 3/200\n",
            "1/1 [==============================] - 0s 8ms/step - loss: 0.0037\n",
            "Epoch 4/200\n",
            "1/1 [==============================] - 0s 5ms/step - loss: 0.0035\n",
            "Epoch 5/200\n",
            "1/1 [==============================] - 0s 10ms/step - loss: 0.0033\n",
            "Epoch 6/200\n",
            "1/1 [==============================] - 0s 11ms/step - loss: 0.0031\n",
            "Epoch 7/200\n",
            "1/1 [==============================] - 0s 6ms/step - loss: 0.0029\n",
            "Epoch 8/200\n",
            "1/1 [==============================] - 0s 8ms/step - loss: 0.0028\n",
            "Epoch 9/200\n",
            "1/1 [==============================] - 0s 9ms/step - loss: 0.0026\n",
            "Epoch 10/200\n",
            "1/1 [==============================] - 0s 5ms/step - loss: 0.0025\n",
            "Epoch 11/200\n",
            "1/1 [==============================] - 0s 5ms/step - loss: 0.0024\n",
            "Epoch 12/200\n",
            "1/1 [==============================] - 0s 6ms/step - loss: 0.0022\n",
            "Epoch 13/200\n",
            "1/1 [==============================] - 0s 6ms/step - loss: 0.0021\n",
            "Epoch 14/200\n",
            "1/1 [==============================] - 0s 6ms/step - loss: 0.0020\n",
            "Epoch 15/200\n",
            "1/1 [==============================] - 0s 6ms/step - loss: 0.0019\n",
            "Epoch 16/200\n",
            "1/1 [==============================] - 0s 9ms/step - loss: 0.0018\n",
            "Epoch 17/200\n",
            "1/1 [==============================] - 0s 6ms/step - loss: 0.0017\n",
            "Epoch 18/200\n",
            "1/1 [==============================] - 0s 6ms/step - loss: 0.0017\n",
            "Epoch 19/200\n",
            "1/1 [==============================] - 0s 5ms/step - loss: 0.0016\n",
            "Epoch 20/200\n",
            "1/1 [==============================] - 0s 6ms/step - loss: 0.0015\n",
            "Epoch 21/200\n",
            "1/1 [==============================] - 0s 6ms/step - loss: 0.0014\n",
            "Epoch 22/200\n",
            "1/1 [==============================] - 0s 6ms/step - loss: 0.0014\n",
            "Epoch 23/200\n",
            "1/1 [==============================] - 0s 11ms/step - loss: 0.0013\n",
            "Epoch 24/200\n",
            "1/1 [==============================] - 0s 9ms/step - loss: 0.0013\n",
            "Epoch 25/200\n",
            "1/1 [==============================] - 0s 5ms/step - loss: 0.0012\n",
            "Epoch 26/200\n",
            "1/1 [==============================] - 0s 5ms/step - loss: 0.0012\n",
            "Epoch 27/200\n",
            "1/1 [==============================] - 0s 5ms/step - loss: 0.0011\n",
            "Epoch 28/200\n",
            "1/1 [==============================] - 0s 5ms/step - loss: 0.0011\n",
            "Epoch 29/200\n",
            "1/1 [==============================] - 0s 5ms/step - loss: 0.0010\n",
            "Epoch 30/200\n",
            "1/1 [==============================] - 0s 6ms/step - loss: 0.0010\n",
            "Epoch 31/200\n",
            "1/1 [==============================] - 0s 5ms/step - loss: 9.7650e-04\n",
            "Epoch 32/200\n",
            "1/1 [==============================] - 0s 6ms/step - loss: 9.4524e-04\n",
            "Epoch 33/200\n",
            "1/1 [==============================] - 0s 5ms/step - loss: 9.1604e-04\n",
            "Epoch 34/200\n",
            "1/1 [==============================] - 0s 7ms/step - loss: 8.8879e-04\n",
            "Epoch 35/200\n",
            "1/1 [==============================] - 0s 6ms/step - loss: 8.6335e-04\n",
            "Epoch 36/200\n",
            "1/1 [==============================] - 0s 5ms/step - loss: 8.3960e-04\n",
            "Epoch 37/200\n",
            "1/1 [==============================] - 0s 5ms/step - loss: 8.1743e-04\n",
            "Epoch 38/200\n",
            "1/1 [==============================] - 0s 9ms/step - loss: 7.9673e-04\n",
            "Epoch 39/200\n",
            "1/1 [==============================] - 0s 5ms/step - loss: 7.7740e-04\n",
            "Epoch 40/200\n",
            "1/1 [==============================] - 0s 6ms/step - loss: 7.5936e-04\n",
            "Epoch 41/200\n",
            "1/1 [==============================] - 0s 7ms/step - loss: 7.4251e-04\n",
            "Epoch 42/200\n",
            "1/1 [==============================] - 0s 5ms/step - loss: 7.2678e-04\n",
            "Epoch 43/200\n",
            "1/1 [==============================] - 0s 5ms/step - loss: 7.1209e-04\n",
            "Epoch 44/200\n",
            "1/1 [==============================] - 0s 8ms/step - loss: 6.9837e-04\n",
            "Epoch 45/200\n",
            "1/1 [==============================] - 0s 5ms/step - loss: 6.8557e-04\n",
            "Epoch 46/200\n",
            "1/1 [==============================] - 0s 8ms/step - loss: 6.7360e-04\n",
            "Epoch 47/200\n",
            "1/1 [==============================] - 0s 7ms/step - loss: 6.6242e-04\n",
            "Epoch 48/200\n",
            "1/1 [==============================] - 0s 7ms/step - loss: 6.5198e-04\n",
            "Epoch 49/200\n",
            "1/1 [==============================] - 0s 5ms/step - loss: 6.4223e-04\n",
            "Epoch 50/200\n",
            "1/1 [==============================] - 0s 16ms/step - loss: 6.3312e-04\n",
            "Epoch 51/200\n",
            "1/1 [==============================] - 0s 7ms/step - loss: 6.2460e-04\n",
            "Epoch 52/200\n",
            "1/1 [==============================] - 0s 9ms/step - loss: 6.1665e-04\n",
            "Epoch 53/200\n",
            "1/1 [==============================] - 0s 5ms/step - loss: 6.0921e-04\n",
            "Epoch 54/200\n",
            "1/1 [==============================] - 0s 6ms/step - loss: 6.0225e-04\n",
            "Epoch 55/200\n",
            "1/1 [==============================] - 0s 10ms/step - loss: 5.9576e-04\n",
            "Epoch 56/200\n",
            "1/1 [==============================] - 0s 11ms/step - loss: 5.8967e-04\n",
            "Epoch 57/200\n",
            "1/1 [==============================] - 0s 9ms/step - loss: 5.8399e-04\n",
            "Epoch 58/200\n",
            "1/1 [==============================] - 0s 9ms/step - loss: 5.7867e-04\n",
            "Epoch 59/200\n",
            "1/1 [==============================] - 0s 7ms/step - loss: 5.7369e-04\n",
            "Epoch 60/200\n",
            "1/1 [==============================] - 0s 8ms/step - loss: 5.6903e-04\n",
            "Epoch 61/200\n",
            "1/1 [==============================] - 0s 9ms/step - loss: 5.6467e-04\n",
            "Epoch 62/200\n",
            "1/1 [==============================] - 0s 8ms/step - loss: 5.6058e-04\n",
            "Epoch 63/200\n",
            "1/1 [==============================] - 0s 8ms/step - loss: 5.5675e-04\n",
            "Epoch 64/200\n",
            "1/1 [==============================] - 0s 12ms/step - loss: 5.5316e-04\n",
            "Epoch 65/200\n",
            "1/1 [==============================] - 0s 8ms/step - loss: 5.4980e-04\n",
            "Epoch 66/200\n",
            "1/1 [==============================] - 0s 5ms/step - loss: 5.4665e-04\n",
            "Epoch 67/200\n",
            "1/1 [==============================] - 0s 5ms/step - loss: 5.4369e-04\n",
            "Epoch 68/200\n",
            "1/1 [==============================] - 0s 7ms/step - loss: 5.4091e-04\n",
            "Epoch 69/200\n",
            "1/1 [==============================] - 0s 6ms/step - loss: 5.3831e-04\n",
            "Epoch 70/200\n",
            "1/1 [==============================] - 0s 6ms/step - loss: 5.3586e-04\n",
            "Epoch 71/200\n",
            "1/1 [==============================] - 0s 7ms/step - loss: 5.3356e-04\n",
            "Epoch 72/200\n",
            "1/1 [==============================] - 0s 5ms/step - loss: 5.3140e-04\n",
            "Epoch 73/200\n",
            "1/1 [==============================] - 0s 7ms/step - loss: 5.2936e-04\n",
            "Epoch 74/200\n",
            "1/1 [==============================] - 0s 5ms/step - loss: 5.2745e-04\n",
            "Epoch 75/200\n",
            "1/1 [==============================] - 0s 6ms/step - loss: 5.2564e-04\n",
            "Epoch 76/200\n",
            "1/1 [==============================] - 0s 9ms/step - loss: 5.2394e-04\n",
            "Epoch 77/200\n",
            "1/1 [==============================] - 0s 6ms/step - loss: 5.2234e-04\n",
            "Epoch 78/200\n",
            "1/1 [==============================] - 0s 6ms/step - loss: 5.2083e-04\n",
            "Epoch 79/200\n",
            "1/1 [==============================] - 0s 6ms/step - loss: 5.1940e-04\n",
            "Epoch 80/200\n",
            "1/1 [==============================] - 0s 5ms/step - loss: 5.1805e-04\n",
            "Epoch 81/200\n",
            "1/1 [==============================] - 0s 5ms/step - loss: 5.1677e-04\n",
            "Epoch 82/200\n",
            "1/1 [==============================] - 0s 6ms/step - loss: 5.1556e-04\n",
            "Epoch 83/200\n",
            "1/1 [==============================] - 0s 6ms/step - loss: 5.1441e-04\n",
            "Epoch 84/200\n",
            "1/1 [==============================] - 0s 6ms/step - loss: 5.1333e-04\n",
            "Epoch 85/200\n",
            "1/1 [==============================] - 0s 6ms/step - loss: 5.1229e-04\n",
            "Epoch 86/200\n",
            "1/1 [==============================] - 0s 7ms/step - loss: 5.1131e-04\n",
            "Epoch 87/200\n",
            "1/1 [==============================] - 0s 5ms/step - loss: 5.1038e-04\n",
            "Epoch 88/200\n",
            "1/1 [==============================] - 0s 7ms/step - loss: 5.0949e-04\n",
            "Epoch 89/200\n",
            "1/1 [==============================] - 0s 6ms/step - loss: 5.0864e-04\n",
            "Epoch 90/200\n",
            "1/1 [==============================] - 0s 6ms/step - loss: 5.0784e-04\n",
            "Epoch 91/200\n",
            "1/1 [==============================] - 0s 6ms/step - loss: 5.0706e-04\n",
            "Epoch 92/200\n",
            "1/1 [==============================] - 0s 6ms/step - loss: 5.0633e-04\n",
            "Epoch 93/200\n",
            "1/1 [==============================] - 0s 8ms/step - loss: 5.0563e-04\n",
            "Epoch 94/200\n",
            "1/1 [==============================] - 0s 7ms/step - loss: 5.0495e-04\n",
            "Epoch 95/200\n",
            "1/1 [==============================] - 0s 7ms/step - loss: 5.0430e-04\n",
            "Epoch 96/200\n",
            "1/1 [==============================] - 0s 5ms/step - loss: 5.0368e-04\n",
            "Epoch 97/200\n",
            "1/1 [==============================] - 0s 5ms/step - loss: 5.0308e-04\n",
            "Epoch 98/200\n",
            "1/1 [==============================] - 0s 7ms/step - loss: 5.0250e-04\n",
            "Epoch 99/200\n",
            "1/1 [==============================] - 0s 5ms/step - loss: 5.0194e-04\n",
            "Epoch 100/200\n",
            "1/1 [==============================] - 0s 5ms/step - loss: 5.0141e-04\n",
            "Epoch 101/200\n",
            "1/1 [==============================] - 0s 8ms/step - loss: 5.0089e-04\n",
            "Epoch 102/200\n",
            "1/1 [==============================] - 0s 6ms/step - loss: 5.0038e-04\n",
            "Epoch 103/200\n",
            "1/1 [==============================] - 0s 6ms/step - loss: 4.9990e-04\n",
            "Epoch 104/200\n",
            "1/1 [==============================] - 0s 5ms/step - loss: 4.9943e-04\n",
            "Epoch 105/200\n",
            "1/1 [==============================] - 0s 7ms/step - loss: 4.9897e-04\n",
            "Epoch 106/200\n",
            "1/1 [==============================] - 0s 5ms/step - loss: 4.9852e-04\n",
            "Epoch 107/200\n",
            "1/1 [==============================] - 0s 7ms/step - loss: 4.9809e-04\n",
            "Epoch 108/200\n",
            "1/1 [==============================] - 0s 6ms/step - loss: 4.9766e-04\n",
            "Epoch 109/200\n",
            "1/1 [==============================] - 0s 10ms/step - loss: 4.9725e-04\n",
            "Epoch 110/200\n",
            "1/1 [==============================] - 0s 9ms/step - loss: 4.9685e-04\n",
            "Epoch 111/200\n",
            "1/1 [==============================] - 0s 18ms/step - loss: 4.9645e-04\n",
            "Epoch 112/200\n",
            "1/1 [==============================] - 0s 6ms/step - loss: 4.9607e-04\n",
            "Epoch 113/200\n",
            "1/1 [==============================] - 0s 8ms/step - loss: 4.9569e-04\n",
            "Epoch 114/200\n",
            "1/1 [==============================] - 0s 6ms/step - loss: 4.9532e-04\n",
            "Epoch 115/200\n",
            "1/1 [==============================] - 0s 9ms/step - loss: 4.9496e-04\n",
            "Epoch 116/200\n",
            "1/1 [==============================] - 0s 9ms/step - loss: 4.9460e-04\n",
            "Epoch 117/200\n",
            "1/1 [==============================] - 0s 6ms/step - loss: 4.9425e-04\n",
            "Epoch 118/200\n",
            "1/1 [==============================] - 0s 9ms/step - loss: 4.9390e-04\n",
            "Epoch 119/200\n",
            "1/1 [==============================] - 0s 9ms/step - loss: 4.9356e-04\n",
            "Epoch 120/200\n",
            "1/1 [==============================] - 0s 10ms/step - loss: 4.9323e-04\n",
            "Epoch 121/200\n",
            "1/1 [==============================] - 0s 7ms/step - loss: 4.9289e-04\n",
            "Epoch 122/200\n",
            "1/1 [==============================] - 0s 11ms/step - loss: 4.9257e-04\n",
            "Epoch 123/200\n",
            "1/1 [==============================] - 0s 6ms/step - loss: 4.9224e-04\n",
            "Epoch 124/200\n",
            "1/1 [==============================] - 0s 7ms/step - loss: 4.9193e-04\n",
            "Epoch 125/200\n",
            "1/1 [==============================] - 0s 14ms/step - loss: 4.9161e-04\n",
            "Epoch 126/200\n",
            "1/1 [==============================] - 0s 12ms/step - loss: 4.9130e-04\n",
            "Epoch 127/200\n",
            "1/1 [==============================] - 0s 7ms/step - loss: 4.9099e-04\n",
            "Epoch 128/200\n",
            "1/1 [==============================] - 0s 6ms/step - loss: 4.9068e-04\n",
            "Epoch 129/200\n",
            "1/1 [==============================] - 0s 6ms/step - loss: 4.9038e-04\n",
            "Epoch 130/200\n",
            "1/1 [==============================] - 0s 7ms/step - loss: 4.9008e-04\n",
            "Epoch 131/200\n",
            "1/1 [==============================] - 0s 6ms/step - loss: 4.8978e-04\n",
            "Epoch 132/200\n",
            "1/1 [==============================] - 0s 5ms/step - loss: 4.8948e-04\n",
            "Epoch 133/200\n",
            "1/1 [==============================] - 0s 5ms/step - loss: 4.8919e-04\n",
            "Epoch 134/200\n",
            "1/1 [==============================] - 0s 5ms/step - loss: 4.8890e-04\n",
            "Epoch 135/200\n",
            "1/1 [==============================] - 0s 7ms/step - loss: 4.8860e-04\n",
            "Epoch 136/200\n",
            "1/1 [==============================] - 0s 5ms/step - loss: 4.8831e-04\n",
            "Epoch 137/200\n",
            "1/1 [==============================] - 0s 5ms/step - loss: 4.8803e-04\n",
            "Epoch 138/200\n",
            "1/1 [==============================] - 0s 5ms/step - loss: 4.8774e-04\n",
            "Epoch 139/200\n",
            "1/1 [==============================] - 0s 8ms/step - loss: 4.8746e-04\n",
            "Epoch 140/200\n",
            "1/1 [==============================] - 0s 14ms/step - loss: 4.8717e-04\n",
            "Epoch 141/200\n",
            "1/1 [==============================] - 0s 6ms/step - loss: 4.8689e-04\n",
            "Epoch 142/200\n",
            "1/1 [==============================] - 0s 7ms/step - loss: 4.8661e-04\n",
            "Epoch 143/200\n",
            "1/1 [==============================] - 0s 4ms/step - loss: 4.8633e-04\n",
            "Epoch 144/200\n",
            "1/1 [==============================] - 0s 5ms/step - loss: 4.8605e-04\n",
            "Epoch 145/200\n",
            "1/1 [==============================] - 0s 6ms/step - loss: 4.8578e-04\n",
            "Epoch 146/200\n",
            "1/1 [==============================] - 0s 13ms/step - loss: 4.8550e-04\n",
            "Epoch 147/200\n",
            "1/1 [==============================] - 0s 8ms/step - loss: 4.8522e-04\n",
            "Epoch 148/200\n",
            "1/1 [==============================] - 0s 6ms/step - loss: 4.8495e-04\n",
            "Epoch 149/200\n",
            "1/1 [==============================] - 0s 6ms/step - loss: 4.8467e-04\n",
            "Epoch 150/200\n",
            "1/1 [==============================] - 0s 5ms/step - loss: 4.8440e-04\n",
            "Epoch 151/200\n",
            "1/1 [==============================] - 0s 7ms/step - loss: 4.8413e-04\n",
            "Epoch 152/200\n",
            "1/1 [==============================] - 0s 5ms/step - loss: 4.8385e-04\n",
            "Epoch 153/200\n",
            "1/1 [==============================] - 0s 5ms/step - loss: 4.8358e-04\n",
            "Epoch 154/200\n",
            "1/1 [==============================] - 0s 7ms/step - loss: 4.8331e-04\n",
            "Epoch 155/200\n",
            "1/1 [==============================] - 0s 5ms/step - loss: 4.8304e-04\n",
            "Epoch 156/200\n",
            "1/1 [==============================] - 0s 5ms/step - loss: 4.8277e-04\n",
            "Epoch 157/200\n",
            "1/1 [==============================] - 0s 7ms/step - loss: 4.8250e-04\n",
            "Epoch 158/200\n",
            "1/1 [==============================] - 0s 5ms/step - loss: 4.8224e-04\n",
            "Epoch 159/200\n",
            "1/1 [==============================] - 0s 5ms/step - loss: 4.8197e-04\n",
            "Epoch 160/200\n",
            "1/1 [==============================] - 0s 12ms/step - loss: 4.8170e-04\n",
            "Epoch 161/200\n",
            "1/1 [==============================] - 0s 5ms/step - loss: 4.8143e-04\n",
            "Epoch 162/200\n",
            "1/1 [==============================] - 0s 6ms/step - loss: 4.8117e-04\n",
            "Epoch 163/200\n",
            "1/1 [==============================] - 0s 7ms/step - loss: 4.8090e-04\n",
            "Epoch 164/200\n",
            "1/1 [==============================] - 0s 7ms/step - loss: 4.8064e-04\n",
            "Epoch 165/200\n",
            "1/1 [==============================] - 0s 6ms/step - loss: 4.8037e-04\n",
            "Epoch 166/200\n",
            "1/1 [==============================] - 0s 8ms/step - loss: 4.8011e-04\n",
            "Epoch 167/200\n",
            "1/1 [==============================] - 0s 8ms/step - loss: 4.7984e-04\n",
            "Epoch 168/200\n",
            "1/1 [==============================] - 0s 6ms/step - loss: 4.7958e-04\n",
            "Epoch 169/200\n",
            "1/1 [==============================] - 0s 5ms/step - loss: 4.7931e-04\n",
            "Epoch 170/200\n",
            "1/1 [==============================] - 0s 7ms/step - loss: 4.7905e-04\n",
            "Epoch 171/200\n",
            "1/1 [==============================] - 0s 131ms/step - loss: 4.7879e-04\n",
            "Epoch 172/200\n",
            "1/1 [==============================] - 0s 5ms/step - loss: 4.7852e-04\n",
            "Epoch 173/200\n",
            "1/1 [==============================] - 0s 5ms/step - loss: 4.7826e-04\n",
            "Epoch 174/200\n",
            "1/1 [==============================] - 0s 5ms/step - loss: 4.7800e-04\n",
            "Epoch 175/200\n",
            "1/1 [==============================] - 0s 6ms/step - loss: 4.7774e-04\n",
            "Epoch 176/200\n",
            "1/1 [==============================] - 0s 6ms/step - loss: 4.7748e-04\n",
            "Epoch 177/200\n",
            "1/1 [==============================] - 0s 6ms/step - loss: 4.7722e-04\n",
            "Epoch 178/200\n",
            "1/1 [==============================] - 0s 7ms/step - loss: 4.7696e-04\n",
            "Epoch 179/200\n",
            "1/1 [==============================] - 0s 6ms/step - loss: 4.7670e-04\n",
            "Epoch 180/200\n",
            "1/1 [==============================] - 0s 8ms/step - loss: 4.7643e-04\n",
            "Epoch 181/200\n",
            "1/1 [==============================] - 0s 5ms/step - loss: 4.7617e-04\n",
            "Epoch 182/200\n",
            "1/1 [==============================] - 0s 5ms/step - loss: 4.7591e-04\n",
            "Epoch 183/200\n",
            "1/1 [==============================] - 0s 5ms/step - loss: 4.7566e-04\n",
            "Epoch 184/200\n",
            "1/1 [==============================] - 0s 4ms/step - loss: 4.7540e-04\n",
            "Epoch 185/200\n",
            "1/1 [==============================] - 0s 8ms/step - loss: 4.7513e-04\n",
            "Epoch 186/200\n",
            "1/1 [==============================] - 0s 5ms/step - loss: 4.7488e-04\n",
            "Epoch 187/200\n",
            "1/1 [==============================] - 0s 5ms/step - loss: 4.7462e-04\n",
            "Epoch 188/200\n",
            "1/1 [==============================] - 0s 8ms/step - loss: 4.7436e-04\n",
            "Epoch 189/200\n",
            "1/1 [==============================] - 0s 5ms/step - loss: 4.7410e-04\n",
            "Epoch 190/200\n",
            "1/1 [==============================] - 0s 8ms/step - loss: 4.7384e-04\n",
            "Epoch 191/200\n",
            "1/1 [==============================] - 0s 7ms/step - loss: 4.7359e-04\n",
            "Epoch 192/200\n",
            "1/1 [==============================] - 0s 9ms/step - loss: 4.7333e-04\n",
            "Epoch 193/200\n",
            "1/1 [==============================] - 0s 8ms/step - loss: 4.7307e-04\n",
            "Epoch 194/200\n",
            "1/1 [==============================] - 0s 9ms/step - loss: 4.7281e-04\n",
            "Epoch 195/200\n",
            "1/1 [==============================] - 0s 6ms/step - loss: 4.7256e-04\n",
            "Epoch 196/200\n",
            "1/1 [==============================] - 0s 5ms/step - loss: 4.7230e-04\n",
            "Epoch 197/200\n",
            "1/1 [==============================] - 0s 5ms/step - loss: 4.7205e-04\n",
            "Epoch 198/200\n",
            "1/1 [==============================] - 0s 6ms/step - loss: 4.7179e-04\n",
            "Epoch 199/200\n",
            "1/1 [==============================] - 0s 5ms/step - loss: 4.7153e-04\n",
            "Epoch 200/200\n",
            "1/1 [==============================] - 0s 7ms/step - loss: 4.7128e-04\n"
          ],
          "name": "stdout"
        },
        {
          "output_type": "execute_result",
          "data": {
            "text/plain": [
              "<tensorflow.python.keras.callbacks.History at 0x7f688b9cd2d0>"
            ]
          },
          "metadata": {
            "tags": []
          },
          "execution_count": 36
        }
      ]
    },
    {
      "cell_type": "code",
      "metadata": {
        "colab": {
          "base_uri": "https://localhost:8080/",
          "height": 281
        },
        "id": "V1CHH2LaXY-s",
        "outputId": "465a1a78-ce3e-4cd4-9b2f-09e57fb5efb8"
      },
      "source": [
        "plt.plot(Y_train, 'ro-', label=\"target\")\n",
        "plt.plot(model2.predict(X_train[:, :, :]), 'bs-', label=\"output\")\n",
        "plt.xlim(-0.5, 20.5)\n",
        "plt.ylim(-1.1, 1.1)\n",
        "plt.legend()\n",
        "plt.title(\"After training(model2\")\n",
        "plt.grid()\n",
        "plt.show()"
      ],
      "execution_count": 37,
      "outputs": [
        {
          "output_type": "display_data",
          "data": {
            "image/png": "[encoded data removed]",
            "text/plain": [
              "<Figure size 432x288 with 1 Axes>"
            ]
          },
          "metadata": {
            "tags": [],
            "needs_background": "light"
          }
        }
      ]
    },
    {
      "cell_type": "code",
      "metadata": {
        "id": "RYmcG-u6XfO-"
      },
      "source": [
        ""
      ],
      "execution_count": null,
      "outputs": []
    }
  ]
}