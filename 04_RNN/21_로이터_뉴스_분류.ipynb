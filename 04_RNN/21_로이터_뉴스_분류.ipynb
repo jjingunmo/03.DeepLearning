{
  "nbformat": 4,
  "nbformat_minor": 0,
  "metadata": {
    "colab": {
      "name": "21_로이터_뉴스_분류.ipynb",
      "provenance": [],
      "collapsed_sections": []
    },
    "kernelspec": {
      "name": "python3",
      "display_name": "Python 3"
    },
    "language_info": {
      "name": "python"
    },
    "accelerator": "GPU"
  },
  "cells": [
    {
      "cell_type": "markdown",
      "metadata": {
        "id": "4BgR4DBOEHt4"
      },
      "source": [
        "# LSTM을 이용한 로이터 뉴스 카테고리 분류"
      ]
    },
    {
      "cell_type": "code",
      "metadata": {
        "id": "DMZ1QG8oCVRJ"
      },
      "source": [
        "import numpy as np\n",
        "import tensorflow as tf\n",
        "\n",
        "seed = 2021\n",
        "np.random.seed(seed)\n",
        "tf.random.set_seed(seed)"
      ],
      "execution_count": 1,
      "outputs": []
    },
    {
      "cell_type": "code",
      "metadata": {
        "colab": {
          "base_uri": "https://localhost:8080/"
        },
        "id": "hqht6yS4Ec5n",
        "outputId": "56f69188-42bf-4f08-d18a-b41073294beb"
      },
      "source": [
        "from tensorflow.keras.datasets import reuters\n",
        "(X_train, y_train), (X_test, y_test) = reuters.load_data(num_words=None, test_split=0.2)"
      ],
      "execution_count": 2,
      "outputs": [
        {
          "output_type": "stream",
          "text": [
            "Downloading data from https://storage.googleapis.com/tensorflow/tf-keras-datasets/reuters.npz\n",
            "2113536/2110848 [==============================] - 0s 0us/step\n"
          ],
          "name": "stdout"
        },
        {
          "output_type": "stream",
          "text": [
            "/usr/local/lib/python3.7/dist-packages/tensorflow/python/keras/datasets/reuters.py:148: VisibleDeprecationWarning: Creating an ndarray from ragged nested sequences (which is a list-or-tuple of lists-or-tuples-or ndarrays with different lengths or shapes) is deprecated. If you meant to do this, you must specify 'dtype=object' when creating the ndarray\n",
            "  x_train, y_train = np.array(xs[:idx]), np.array(labels[:idx])\n",
            "/usr/local/lib/python3.7/dist-packages/tensorflow/python/keras/datasets/reuters.py:149: VisibleDeprecationWarning: Creating an ndarray from ragged nested sequences (which is a list-or-tuple of lists-or-tuples-or ndarrays with different lengths or shapes) is deprecated. If you meant to do this, you must specify 'dtype=object' when creating the ndarray\n",
            "  x_test, y_test = np.array(xs[idx:]), np.array(labels[idx:])\n"
          ],
          "name": "stderr"
        }
      ]
    },
    {
      "cell_type": "code",
      "metadata": {
        "colab": {
          "base_uri": "https://localhost:8080/"
        },
        "id": "NQb7FYfGE0MG",
        "outputId": "2e7ea98f-50be-4a48-de4c-3ac68cf7f318"
      },
      "source": [
        "# 데이터 확인\n",
        "category = np.max(y_train) + 1\n",
        "print(category, '카테고리')\n",
        "print(len(X_train), len(X_test))"
      ],
      "execution_count": 3,
      "outputs": [
        {
          "output_type": "stream",
          "text": [
            "46 카테고리\n",
            "8982 2246\n"
          ],
          "name": "stdout"
        }
      ]
    },
    {
      "cell_type": "code",
      "metadata": {
        "colab": {
          "base_uri": "https://localhost:8080/"
        },
        "id": "G2u2mzzZFN19",
        "outputId": "84145694-dd60-4b09-c76b-f9d46b844c8f"
      },
      "source": [
        "# 첫번째 뉴스기사\n",
        "print(X_train[0])"
      ],
      "execution_count": 4,
      "outputs": [
        {
          "output_type": "stream",
          "text": [
            "[1, 27595, 28842, 8, 43, 10, 447, 5, 25, 207, 270, 5, 3095, 111, 16, 369, 186, 90, 67, 7, 89, 5, 19, 102, 6, 19, 124, 15, 90, 67, 84, 22, 482, 26, 7, 48, 4, 49, 8, 864, 39, 209, 154, 6, 151, 6, 83, 11, 15, 22, 155, 11, 15, 7, 48, 9, 4579, 1005, 504, 6, 258, 6, 272, 11, 15, 22, 134, 44, 11, 15, 16, 8, 197, 1245, 90, 67, 52, 29, 209, 30, 32, 132, 6, 109, 15, 17, 12]\n"
          ],
          "name": "stdout"
        }
      ]
    },
    {
      "cell_type": "code",
      "metadata": {
        "colab": {
          "base_uri": "https://localhost:8080/"
        },
        "id": "GS4bbORhFYw1",
        "outputId": "3d84cd09-754b-4fd3-e597-14448472e959"
      },
      "source": [
        "reuters.get_word_index()['the']"
      ],
      "execution_count": 5,
      "outputs": [
        {
          "output_type": "stream",
          "text": [
            "Downloading data from https://storage.googleapis.com/tensorflow/tf-keras-datasets/reuters_word_index.json\n",
            "557056/550378 [==============================] - 0s 0us/step\n"
          ],
          "name": "stdout"
        },
        {
          "output_type": "execute_result",
          "data": {
            "text/plain": [
              "1"
            ]
          },
          "metadata": {
            "tags": []
          },
          "execution_count": 5
        }
      ]
    },
    {
      "cell_type": "code",
      "metadata": {
        "colab": {
          "base_uri": "https://localhost:8080/"
        },
        "id": "wVzjpPU0FoDV",
        "outputId": "e77abf1e-cc33-4601-c807-8a04d998d20d"
      },
      "source": [
        "index_dict = {}\n",
        "for key, value in reuters.get_word_index().items():\n",
        "    index_dict[value] = key\n",
        "len(index_dict)"
      ],
      "execution_count": 6,
      "outputs": [
        {
          "output_type": "execute_result",
          "data": {
            "text/plain": [
              "30979"
            ]
          },
          "metadata": {
            "tags": []
          },
          "execution_count": 6
        }
      ]
    },
    {
      "cell_type": "code",
      "metadata": {
        "colab": {
          "base_uri": "https://localhost:8080/",
          "height": 35
        },
        "id": "Yh3ExsngFV0N",
        "outputId": "7da9939c-3098-4362-a302-ad270f02b2b2"
      },
      "source": [
        "index_dict[1]"
      ],
      "execution_count": 7,
      "outputs": [
        {
          "output_type": "execute_result",
          "data": {
            "application/vnd.google.colaboratory.intrinsic+json": {
              "type": "string"
            },
            "text/plain": [
              "'the'"
            ]
          },
          "metadata": {
            "tags": []
          },
          "execution_count": 7
        }
      ]
    },
    {
      "cell_type": "code",
      "metadata": {
        "colab": {
          "base_uri": "https://localhost:8080/",
          "height": 72
        },
        "id": "Vyl-yHpAGCpd",
        "outputId": "22c823a8-4301-4722-fda1-978c74e9ef8b"
      },
      "source": [
        "# 첫번째 뉴스 복원\n",
        "text = ''\n",
        "for x in X_train[0]:\n",
        "    text += index_dict[x] + ' '\n",
        "text"
      ],
      "execution_count": 8,
      "outputs": [
        {
          "output_type": "execute_result",
          "data": {
            "application/vnd.google.colaboratory.intrinsic+json": {
              "type": "string"
            },
            "text/plain": [
              "'the wattie nondiscriminatory mln loss for plc said at only ended said commonwealth could 1 traders now april 0 a after said from 1985 and from foreign 000 april 0 prices its account year a but in this mln home an states earlier and rise and revs vs 000 its 16 vs 000 a but 3 psbr oils several and shareholders and dividend vs 000 its all 4 vs 000 1 mln agreed largely april 0 are 2 states will billion total and against 000 pct dlrs '"
            ]
          },
          "metadata": {
            "tags": []
          },
          "execution_count": 8
        }
      ]
    },
    {
      "cell_type": "code",
      "metadata": {
        "colab": {
          "base_uri": "https://localhost:8080/",
          "height": 72
        },
        "id": "RmZEMRZ_Gso2",
        "outputId": "9ad459d4-dd6a-4e83-b297-0ccdb6e2900d"
      },
      "source": [
        "# 파이썬스러운 코드\n",
        "' '.join(index_dict[x] for x in X_train[0])"
      ],
      "execution_count": 9,
      "outputs": [
        {
          "output_type": "execute_result",
          "data": {
            "application/vnd.google.colaboratory.intrinsic+json": {
              "type": "string"
            },
            "text/plain": [
              "'the wattie nondiscriminatory mln loss for plc said at only ended said commonwealth could 1 traders now april 0 a after said from 1985 and from foreign 000 april 0 prices its account year a but in this mln home an states earlier and rise and revs vs 000 its 16 vs 000 a but 3 psbr oils several and shareholders and dividend vs 000 its all 4 vs 000 1 mln agreed largely april 0 are 2 states will billion total and against 000 pct dlrs'"
            ]
          },
          "metadata": {
            "tags": []
          },
          "execution_count": 9
        }
      ]
    },
    {
      "cell_type": "code",
      "metadata": {
        "colab": {
          "base_uri": "https://localhost:8080/"
        },
        "id": "WW2Yx6aIGqRV",
        "outputId": "e38fa11f-f9e0-40f7-fd9c-d80ba30c295f"
      },
      "source": [
        "# 뉴스 기사의 최대 길이\n",
        "max(len(x) for x in X_train)"
      ],
      "execution_count": 10,
      "outputs": [
        {
          "output_type": "execute_result",
          "data": {
            "text/plain": [
              "2376"
            ]
          },
          "metadata": {
            "tags": []
          },
          "execution_count": 10
        }
      ]
    },
    {
      "cell_type": "code",
      "metadata": {
        "colab": {
          "base_uri": "https://localhost:8080/"
        },
        "id": "oJQQG3JaHaXj",
        "outputId": "d482b42e-398b-4afd-e3e4-c9346b7ca93c"
      },
      "source": [
        "# 뉴스 기사의 평균 길이\n",
        "sum(map(len, X_train)) / len(X_train)"
      ],
      "execution_count": 11,
      "outputs": [
        {
          "output_type": "execute_result",
          "data": {
            "text/plain": [
              "145.5398574927633"
            ]
          },
          "metadata": {
            "tags": []
          },
          "execution_count": 11
        }
      ]
    },
    {
      "cell_type": "code",
      "metadata": {
        "colab": {
          "base_uri": "https://localhost:8080/"
        },
        "id": "NgAfnGsvHxzt",
        "outputId": "ccc42d58-d39b-41e7-8412-43826e5bd6dd"
      },
      "source": [
        "# 뉴스 카테고리 분포\n",
        "unique_elements, count_elements = np.unique(y_train, return_counts=True)\n",
        "unique_elements"
      ],
      "execution_count": 12,
      "outputs": [
        {
          "output_type": "execute_result",
          "data": {
            "text/plain": [
              "array([ 0,  1,  2,  3,  4,  5,  6,  7,  8,  9, 10, 11, 12, 13, 14, 15, 16,\n",
              "       17, 18, 19, 20, 21, 22, 23, 24, 25, 26, 27, 28, 29, 30, 31, 32, 33,\n",
              "       34, 35, 36, 37, 38, 39, 40, 41, 42, 43, 44, 45])"
            ]
          },
          "metadata": {
            "tags": []
          },
          "execution_count": 12
        }
      ]
    },
    {
      "cell_type": "code",
      "metadata": {
        "colab": {
          "base_uri": "https://localhost:8080/"
        },
        "id": "BKw9gkbcITPc",
        "outputId": "ccaaca1c-bb40-4f93-a989-215e5d8f03f2"
      },
      "source": [
        "count_elements"
      ],
      "execution_count": 13,
      "outputs": [
        {
          "output_type": "execute_result",
          "data": {
            "text/plain": [
              "array([  55,  432,   74, 3159, 1949,   17,   48,   16,  139,  101,  124,\n",
              "        390,   49,  172,   26,   20,  444,   39,   66,  549,  269,  100,\n",
              "         15,   41,   62,   92,   24,   15,   48,   19,   45,   39,   32,\n",
              "         11,   50,   10,   49,   19,   19,   24,   36,   30,   13,   21,\n",
              "         12,   18])"
            ]
          },
          "metadata": {
            "tags": []
          },
          "execution_count": 13
        }
      ]
    },
    {
      "cell_type": "code",
      "metadata": {
        "colab": {
          "base_uri": "https://localhost:8080/"
        },
        "id": "_NXr-sDCHsnl",
        "outputId": "827aaba4-1af7-4349-c2dd-a75527bcb0f0"
      },
      "source": [
        "label_count = dict(zip(unique_elements, count_elements))\n",
        "label_count\n",
        "print(label_count)"
      ],
      "execution_count": 14,
      "outputs": [
        {
          "output_type": "stream",
          "text": [
            "{0: 55, 1: 432, 2: 74, 3: 3159, 4: 1949, 5: 17, 6: 48, 7: 16, 8: 139, 9: 101, 10: 124, 11: 390, 12: 49, 13: 172, 14: 26, 15: 20, 16: 444, 17: 39, 18: 66, 19: 549, 20: 269, 21: 100, 22: 15, 23: 41, 24: 62, 25: 92, 26: 24, 27: 15, 28: 48, 29: 19, 30: 45, 31: 39, 32: 32, 33: 11, 34: 50, 35: 10, 36: 49, 37: 19, 38: 19, 39: 24, 40: 36, 41: 30, 42: 13, 43: 21, 44: 12, 45: 18}\n"
          ],
          "name": "stdout"
        }
      ]
    },
    {
      "cell_type": "markdown",
      "metadata": {
        "id": "Oe-putV4JBGY"
      },
      "source": [
        "### LSTM으로 로이터 뉴스 분류하기\n",
        "- 빈도수 3,000까지 (총 단어수 : 30,979)\n",
        "- 단어 140 (최대 2,376 단어)"
      ]
    },
    {
      "cell_type": "code",
      "metadata": {
        "id": "VuMtI3HTJnNM"
      },
      "source": [
        "from tensorflow.keras.preprocessing.text import Tokenizer\n",
        "from tensorflow.keras.preprocessing.sequence import pad_sequences\n",
        "from tensorflow.keras.models import Sequential, load_model\n",
        "from tensorflow.keras.layers import Dense, LSTM, Embedding\n",
        "from tensorflow.keras.utils import to_categorical\n",
        "from tensorflow.keras.callbacks import ModelCheckpoint, EarlyStopping"
      ],
      "execution_count": 15,
      "outputs": []
    },
    {
      "cell_type": "code",
      "metadata": {
        "colab": {
          "base_uri": "https://localhost:8080/"
        },
        "id": "CM6T1Cd6JNbj",
        "outputId": "4bea5645-ac0f-4b29-c86c-b3dfbee14c1f"
      },
      "source": [
        "# 빈도수 3,000\n",
        "(X_train, y_train), (X_test, y_test) = reuters.load_data(num_words=3000, test_split=0.2)"
      ],
      "execution_count": 16,
      "outputs": [
        {
          "output_type": "stream",
          "text": [
            "/usr/local/lib/python3.7/dist-packages/tensorflow/python/keras/datasets/reuters.py:148: VisibleDeprecationWarning: Creating an ndarray from ragged nested sequences (which is a list-or-tuple of lists-or-tuples-or ndarrays with different lengths or shapes) is deprecated. If you meant to do this, you must specify 'dtype=object' when creating the ndarray\n",
            "  x_train, y_train = np.array(xs[:idx]), np.array(labels[:idx])\n",
            "/usr/local/lib/python3.7/dist-packages/tensorflow/python/keras/datasets/reuters.py:149: VisibleDeprecationWarning: Creating an ndarray from ragged nested sequences (which is a list-or-tuple of lists-or-tuples-or ndarrays with different lengths or shapes) is deprecated. If you meant to do this, you must specify 'dtype=object' when creating the ndarray\n",
            "  x_test, y_test = np.array(xs[idx:]), np.array(labels[idx:])\n"
          ],
          "name": "stderr"
        }
      ]
    },
    {
      "cell_type": "code",
      "metadata": {
        "id": "pKCJLU1bJdDK"
      },
      "source": [
        "# 문장당 단어 수 140\n",
        "max_len = 140\n",
        "X_train = pad_sequences(X_train, maxlen=max_len)\n",
        "X_test = pad_sequences(X_test, maxlen=max_len)"
      ],
      "execution_count": 17,
      "outputs": []
    },
    {
      "cell_type": "code",
      "metadata": {
        "id": "siar8WzGKuNp"
      },
      "source": [
        "# One-hot encoding\n",
        "Y_train = to_categorical(y_train)\n",
        "Y_test = to_categorical(y_test)"
      ],
      "execution_count": 18,
      "outputs": []
    },
    {
      "cell_type": "code",
      "metadata": {
        "colab": {
          "base_uri": "https://localhost:8080/"
        },
        "id": "li0dQH93K-TE",
        "outputId": "17ca0de6-3b65-4b91-ca69-6d7855abc8dd"
      },
      "source": [
        "# Model 정의\n",
        "model = Sequential([\n",
        "    Embedding(3000, 120),\n",
        "    LSTM(120)                ,\n",
        "    Dense(46, activation='softmax')\n",
        "    \n",
        "])\n",
        "model.summary()"
      ],
      "execution_count": 19,
      "outputs": [
        {
          "output_type": "stream",
          "text": [
            "Model: \"sequential\"\n",
            "_________________________________________________________________\n",
            "Layer (type)                 Output Shape              Param #   \n",
            "=================================================================\n",
            "embedding (Embedding)        (None, None, 120)         360000    \n",
            "_________________________________________________________________\n",
            "lstm (LSTM)                  (None, 120)               115680    \n",
            "_________________________________________________________________\n",
            "dense (Dense)                (None, 46)                5566      \n",
            "=================================================================\n",
            "Total params: 481,246\n",
            "Trainable params: 481,246\n",
            "Non-trainable params: 0\n",
            "_________________________________________________________________\n"
          ],
          "name": "stdout"
        }
      ]
    },
    {
      "cell_type": "code",
      "metadata": {
        "id": "dAf_AF3WLjRN"
      },
      "source": [
        "# 모델설정\n",
        "model.compile(loss='categorical_crossentropy', optimizer='adam', metrics=['accuracy'])"
      ],
      "execution_count": 28,
      "outputs": []
    },
    {
      "cell_type": "code",
      "metadata": {
        "id": "JNhRpaI3LysE"
      },
      "source": [
        "# Callback 함수 정의\n",
        "model_path = 'reuter-best-lstm.hdf5'\n",
        "checkpoint = ModelCheckpoint(model_path, monitor='val_loss', verbose=1, save_best_only=True)\n",
        "early_stopping = EarlyStopping(monitor='val_loss', patience=10)"
      ],
      "execution_count": 29,
      "outputs": []
    },
    {
      "cell_type": "code",
      "metadata": {
        "colab": {
          "base_uri": "https://localhost:8080/"
        },
        "id": "tXYMj0RRMjO7",
        "outputId": "8e1dbac7-242e-47f6-fad6-19bcce3c4c23"
      },
      "source": [
        "# 모델학습\n",
        "history = model.fit(X_train, Y_train, batch_size=100, epochs=50,\n",
        "                    validation_split=0.2, verbose=2,\n",
        "                    callbacks=[checkpoint,early_stopping])"
      ],
      "execution_count": 30,
      "outputs": [
        {
          "output_type": "stream",
          "text": [
            "Epoch 1/50\n",
            "72/72 - 34s - loss: 2.6490 - accuracy: 0.3545 - val_loss: 2.4211 - val_accuracy: 0.3450\n",
            "\n",
            "Epoch 00001: val_loss improved from inf to 2.42112, saving model to reuter-best-lstm.hdf5\n",
            "Epoch 2/50\n",
            "72/72 - 1s - loss: 2.1789 - accuracy: 0.4409 - val_loss: 1.9641 - val_accuracy: 0.4797\n",
            "\n",
            "Epoch 00002: val_loss improved from 2.42112 to 1.96414, saving model to reuter-best-lstm.hdf5\n",
            "Epoch 3/50\n",
            "72/72 - 1s - loss: 1.7864 - accuracy: 0.5365 - val_loss: 1.7017 - val_accuracy: 0.5559\n",
            "\n",
            "Epoch 00003: val_loss improved from 1.96414 to 1.70169, saving model to reuter-best-lstm.hdf5\n",
            "Epoch 4/50\n",
            "72/72 - 1s - loss: 1.6471 - accuracy: 0.5841 - val_loss: 1.7257 - val_accuracy: 0.5671\n",
            "\n",
            "Epoch 00004: val_loss did not improve from 1.70169\n",
            "Epoch 5/50\n",
            "72/72 - 1s - loss: 1.5840 - accuracy: 0.6010 - val_loss: 1.6124 - val_accuracy: 0.5927\n",
            "\n",
            "Epoch 00005: val_loss improved from 1.70169 to 1.61242, saving model to reuter-best-lstm.hdf5\n",
            "Epoch 6/50\n",
            "72/72 - 1s - loss: 1.5035 - accuracy: 0.6110 - val_loss: 1.5155 - val_accuracy: 0.6121\n",
            "\n",
            "Epoch 00006: val_loss improved from 1.61242 to 1.51546, saving model to reuter-best-lstm.hdf5\n",
            "Epoch 7/50\n",
            "72/72 - 1s - loss: 1.3817 - accuracy: 0.6315 - val_loss: 1.5876 - val_accuracy: 0.5815\n",
            "\n",
            "Epoch 00007: val_loss did not improve from 1.51546\n",
            "Epoch 8/50\n",
            "72/72 - 1s - loss: 1.3008 - accuracy: 0.6547 - val_loss: 1.4241 - val_accuracy: 0.6411\n",
            "\n",
            "Epoch 00008: val_loss improved from 1.51546 to 1.42411, saving model to reuter-best-lstm.hdf5\n",
            "Epoch 9/50\n",
            "72/72 - 1s - loss: 1.2048 - accuracy: 0.6747 - val_loss: 1.4503 - val_accuracy: 0.6210\n",
            "\n",
            "Epoch 00009: val_loss did not improve from 1.42411\n",
            "Epoch 10/50\n",
            "72/72 - 1s - loss: 1.0966 - accuracy: 0.7101 - val_loss: 1.3896 - val_accuracy: 0.6466\n",
            "\n",
            "Epoch 00010: val_loss improved from 1.42411 to 1.38956, saving model to reuter-best-lstm.hdf5\n",
            "Epoch 11/50\n",
            "72/72 - 1s - loss: 1.0026 - accuracy: 0.7378 - val_loss: 1.3886 - val_accuracy: 0.6622\n",
            "\n",
            "Epoch 00011: val_loss improved from 1.38956 to 1.38856, saving model to reuter-best-lstm.hdf5\n",
            "Epoch 12/50\n",
            "72/72 - 1s - loss: 0.9134 - accuracy: 0.7648 - val_loss: 1.3996 - val_accuracy: 0.6789\n",
            "\n",
            "Epoch 00012: val_loss did not improve from 1.38856\n",
            "Epoch 13/50\n",
            "72/72 - 1s - loss: 0.9221 - accuracy: 0.7525 - val_loss: 1.3895 - val_accuracy: 0.6516\n",
            "\n",
            "Epoch 00013: val_loss did not improve from 1.38856\n",
            "Epoch 14/50\n",
            "72/72 - 1s - loss: 0.8238 - accuracy: 0.7805 - val_loss: 1.4171 - val_accuracy: 0.6633\n",
            "\n",
            "Epoch 00014: val_loss did not improve from 1.38856\n",
            "Epoch 15/50\n",
            "72/72 - 1s - loss: 0.7315 - accuracy: 0.8085 - val_loss: 1.3974 - val_accuracy: 0.6850\n",
            "\n",
            "Epoch 00015: val_loss did not improve from 1.38856\n",
            "Epoch 16/50\n",
            "72/72 - 1s - loss: 0.6412 - accuracy: 0.8374 - val_loss: 1.4225 - val_accuracy: 0.6861\n",
            "\n",
            "Epoch 00016: val_loss did not improve from 1.38856\n",
            "Epoch 17/50\n",
            "72/72 - 1s - loss: 0.5592 - accuracy: 0.8649 - val_loss: 1.4128 - val_accuracy: 0.6917\n",
            "\n",
            "Epoch 00017: val_loss did not improve from 1.38856\n",
            "Epoch 18/50\n",
            "72/72 - 1s - loss: 0.5059 - accuracy: 0.8770 - val_loss: 1.4288 - val_accuracy: 0.6906\n",
            "\n",
            "Epoch 00018: val_loss did not improve from 1.38856\n",
            "Epoch 19/50\n",
            "72/72 - 1s - loss: 0.4552 - accuracy: 0.8912 - val_loss: 1.4615 - val_accuracy: 0.7001\n",
            "\n",
            "Epoch 00019: val_loss did not improve from 1.38856\n",
            "Epoch 20/50\n",
            "72/72 - 1s - loss: 0.4275 - accuracy: 0.8974 - val_loss: 1.4696 - val_accuracy: 0.6917\n",
            "\n",
            "Epoch 00020: val_loss did not improve from 1.38856\n",
            "Epoch 21/50\n",
            "72/72 - 1s - loss: 0.3985 - accuracy: 0.9038 - val_loss: 1.5102 - val_accuracy: 0.6884\n",
            "\n",
            "Epoch 00021: val_loss did not improve from 1.38856\n"
          ],
          "name": "stdout"
        }
      ]
    },
    {
      "cell_type": "code",
      "metadata": {
        "colab": {
          "base_uri": "https://localhost:8080/"
        },
        "id": "xuQ4UOKGM-Cr",
        "outputId": "fbf9926c-6423-4558-f4ee-a2ffca61306c"
      },
      "source": [
        "best_model = load_model(model_path)\n",
        "_, acc = best_model.evaluate(X_test, Y_test)\n",
        "print(f'Accuracy: {acc:.4f}')"
      ],
      "execution_count": 32,
      "outputs": [
        {
          "output_type": "stream",
          "text": [
            "71/71 [==============================] - 1s 7ms/step - loss: 1.4287 - accuracy: 0.6545\n",
            "Accuracy: 0.6545\n"
          ],
          "name": "stdout"
        }
      ]
    },
    {
      "cell_type": "markdown",
      "metadata": {
        "id": "tkb3IkMvOQsG"
      },
      "source": [
        "### 훈련과정 시각화"
      ]
    },
    {
      "cell_type": "code",
      "metadata": {
        "id": "Bju0F_XhIrvk"
      },
      "source": [
        "import matplotlib.pyplot as plt \n",
        "%matplotlib inline"
      ],
      "execution_count": 33,
      "outputs": []
    },
    {
      "cell_type": "code",
      "metadata": {
        "id": "P5mZXb6KOm1K"
      },
      "source": [
        "# 학습셋\n",
        "y_acc = history.history['accuracy']\n",
        "y_loss = history.history['loss']\n",
        "# 검증셋\n",
        "y_vacc = history.history['val_accuracy']\n",
        "y_vloss = history.history['val_loss']"
      ],
      "execution_count": 34,
      "outputs": []
    },
    {
      "cell_type": "code",
      "metadata": {
        "colab": {
          "base_uri": "https://localhost:8080/",
          "height": 497
        },
        "id": "66fDYqpMOcyr",
        "outputId": "76945578-d66c-43d4-8e5f-5dd3b1d94ef0"
      },
      "source": [
        "x_len = np.arange(1, len(y_loss)+1)\n",
        "fig, ax0 = plt.subplots(figsize=(10,8))\n",
        "ax1 = ax0.twinx()\n",
        "ax0.plot(x_len, y_loss, c=\"blue\", label='train set loss')\n",
        "ax0.plot(x_len, y_vloss, c=\"red\", label='val set loss')\n",
        "ax0.set_ylabel('loss')\n",
        "ax1.plot(x_len, y_acc, c=\"darkgreen\", label='train set acc')\n",
        "ax1.plot(x_len, y_vacc, c=\"magenta\", label='val set acc')\n",
        "ax1.set_ylabel('accuracy')\n",
        "ax0.set_xlabel('epoch')\n",
        "ax0.legend(loc='lower center')\n",
        "ax1.legend(loc='upper center')\n",
        "plt.grid()\n",
        "plt.show()"
      ],
      "execution_count": 35,
      "outputs": [
        {
          "output_type": "display_data",
          "data": {
            "image/png": "[encoded data removed]",
            "text/plain": [
              "<Figure size 720x576 with 2 Axes>"
            ]
          },
          "metadata": {
            "tags": [],
            "needs_background": "light"
          }
        }
      ]
    }
  ]
}