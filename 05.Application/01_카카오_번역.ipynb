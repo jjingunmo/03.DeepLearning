{
 "metadata": {
  "language_info": {
   "codemirror_mode": {
    "name": "ipython",
    "version": 3
   },
   "file_extension": ".py",
   "mimetype": "text/x-python",
   "name": "python",
   "nbconvert_exporter": "python",
   "pygments_lexer": "ipython3",
   "version": "3.9.2"
  },
  "orig_nbformat": 2,
  "kernelspec": {
   "name": "python392jvsc74a57bd084a6dbff3a0a4ee084723c732b77410d1b8bbf139fa91bf316c808d7992341ae",
   "display_name": "Python 3.9.2 64-bit"
  }
 },
 "nbformat": 4,
 "nbformat_minor": 2,
 "cells": [
  {
   "source": [
    "# 카카오 번역기"
   ],
   "cell_type": "markdown",
   "metadata": {}
  },
  {
   "cell_type": "code",
   "execution_count": 2,
   "metadata": {},
   "outputs": [],
   "source": [
    "import requests\n",
    "from urllib.parse import quote"
   ]
  },
  {
   "cell_type": "code",
   "execution_count": 3,
   "metadata": {},
   "outputs": [],
   "source": [
    "with open('kakaoaikey.txt') as kfile:\n",
    "    kai_key = kfile.read()"
   ]
  },
  {
   "source": [
    "## 한글 --> 영어"
   ],
   "cell_type": "markdown",
   "metadata": {}
  },
  {
   "cell_type": "code",
   "execution_count": 4,
   "metadata": {},
   "outputs": [],
   "source": [
    "text = '이 문서는 카카오 번역 API를 사용하여 번역합니다.'\n",
    "url = 'https://dapi.kakao.com/v2/translation/translate?query='+quote(text)+'&src_lang=kr&target_lang=en'"
   ]
  },
  {
   "cell_type": "code",
   "execution_count": 5,
   "metadata": {},
   "outputs": [
    {
     "output_type": "execute_result",
     "data": {
      "text/plain": [
       "'%EC%9D%B4%20%EB%AC%B8%EC%84%9C%EB%8A%94%20%EC%B9%B4%EC%B9%B4%EC%98%A4%20%EB%B2%88%EC%97%AD%20API%EB%A5%BC%20%EC%82%AC%EC%9A%A9%ED%95%98%EC%97%AC%20%EB%B2%88%EC%97%AD%ED%95%A9%EB%8B%88%EB%8B%A4.'"
      ]
     },
     "metadata": {},
     "execution_count": 5
    }
   ],
   "source": [
    "quote(text)"
   ]
  },
  {
   "cell_type": "code",
   "execution_count": 6,
   "metadata": {},
   "outputs": [
    {
     "output_type": "execute_result",
     "data": {
      "text/plain": [
       "{'translated_text': [['This document is translated using the Kakao Translation API.']]}"
      ]
     },
     "metadata": {},
     "execution_count": 6
    }
   ],
   "source": [
    "result = requests.get(url,\n",
    "            headers={\"Authorization\": \"KakaoAK \"+kai_key}).json()\n",
    "result"
   ]
  },
  {
   "cell_type": "code",
   "execution_count": 7,
   "metadata": {},
   "outputs": [
    {
     "output_type": "execute_result",
     "data": {
      "text/plain": [
       "'This document is translated using the Kakao Translation API.'"
      ]
     },
     "metadata": {},
     "execution_count": 7
    }
   ],
   "source": [
    "eng_text = result['translated_text'][0][0]\n",
    "eng_text"
   ]
  },
  {
   "cell_type": "code",
   "execution_count": 9,
   "metadata": {},
   "outputs": [],
   "source": [
    "def generate_url(text, src, dst):\n",
    "    return f'https://dapi.kakao.com/v2/translation/translate?query={quote(text)}&src_lang={src}&target_lang={dst}'"
   ]
  },
  {
   "source": [
    "## 영어 --> 한글"
   ],
   "cell_type": "markdown",
   "metadata": {}
  },
  {
   "cell_type": "code",
   "execution_count": 11,
   "metadata": {},
   "outputs": [
    {
     "output_type": "execute_result",
     "data": {
      "text/plain": [
       "{'translated_text': [['이 문서는 카카오 번역 API를 사용하여 번역됩니다.']]}"
      ]
     },
     "metadata": {},
     "execution_count": 11
    }
   ],
   "source": [
    "result = requests.get(generate_url(eng_text, 'en', 'kr'),\n",
    "            headers={\"Authorization\": \"KakaoAK \"+kai_key}).json()\n",
    "result"
   ]
  },
  {
   "cell_type": "code",
   "execution_count": 12,
   "metadata": {},
   "outputs": [
    {
     "output_type": "execute_result",
     "data": {
      "text/plain": [
       "'이 문서는 카카오 번역 API를 사용하여 번역됩니다.'"
      ]
     },
     "metadata": {},
     "execution_count": 12
    }
   ],
   "source": [
    "kor_text = result['translated_text'][0][0]\n",
    "kor_text"
   ]
  },
  {
   "source": [
    "## 한글 --> 일본어"
   ],
   "cell_type": "markdown",
   "metadata": {}
  },
  {
   "cell_type": "code",
   "execution_count": 13,
   "metadata": {},
   "outputs": [
    {
     "output_type": "execute_result",
     "data": {
      "text/plain": [
       "'この文書は、カカオ翻訳APIを使用して翻訳されます。'"
      ]
     },
     "metadata": {},
     "execution_count": 13
    }
   ],
   "source": [
    "result = requests.get(generate_url(text, 'kr', 'jp'),\n",
    "            headers={\"Authorization\": \"KakaoAK \"+kai_key}).json()\n",
    "jpn_text = result['translated_text'][0][0]\n",
    "jpn_text"
   ]
  },
  {
   "source": [
    "## 한글 --> 중국어"
   ],
   "cell_type": "markdown",
   "metadata": {}
  },
  {
   "cell_type": "code",
   "execution_count": 14,
   "metadata": {},
   "outputs": [
    {
     "output_type": "execute_result",
     "data": {
      "text/plain": [
       "'本文件使用可可翻译API翻译。'"
      ]
     },
     "metadata": {},
     "execution_count": 14
    }
   ],
   "source": [
    "result = requests.get(generate_url(text, 'kr', 'cn'),\n",
    "            headers={\"Authorization\": \"KakaoAK \"+kai_key}).json()\n",
    "chn_text = result['translated_text'][0][0]\n",
    "chn_text"
   ]
  },
  {
   "source": [
    "## 한글 여러문장 --> 영어"
   ],
   "cell_type": "markdown",
   "metadata": {}
  },
  {
   "cell_type": "code",
   "execution_count": 15,
   "metadata": {},
   "outputs": [],
   "source": [
    "text = \"\"\"네이버 클라우드 플랫폼에서는 Clova, papago 등 네이버의 다양한 인공지능 서비스를 API 형태로 제공합니다. \n",
    "고객은 네이버의 인공지능 서비스를 활용하여,\n",
    "최신 기술 기반의 AI 서비스를 구축하고 안정적으로 운영할 수 있습니다..\"\"\"\n",
    "result = requests.get(generate_url(text, 'kr', 'en'),\n",
    "            headers={\"Authorization\": \"KakaoAK \"+kai_key}).json()\n",
    "tr_text = result['translated_text']"
   ]
  },
  {
   "cell_type": "code",
   "execution_count": 16,
   "metadata": {},
   "outputs": [
    {
     "output_type": "stream",
     "name": "stdout",
     "text": [
      "Naver Cloud Platform provides various artificial intelligence services such as Clova and papago in API form.\nCustomers use Naver's AI service,\nBuild and operate the latest technology-based AI services.\n"
     ]
    }
   ],
   "source": [
    "for nested_element in tr_text:\n",
    "    print(nested_element[0])"
   ]
  },
  {
   "cell_type": "code",
   "execution_count": 17,
   "metadata": {},
   "outputs": [
    {
     "output_type": "execute_result",
     "data": {
      "text/plain": [
       "\"Naver Cloud Platform provides various artificial intelligence services such as Clova and papago in API form.\\nCustomers use Naver's AI service,\\nBuild and operate the latest technology-based AI services.\""
      ]
     },
     "metadata": {},
     "execution_count": 17
    }
   ],
   "source": [
    "eng_text = '\\n'.join([nested[0] for nested in tr_text])\n",
    "eng_text"
   ]
  },
  {
   "cell_type": "code",
   "execution_count": 18,
   "metadata": {},
   "outputs": [
    {
     "output_type": "stream",
     "name": "stdout",
     "text": [
      "Naver Cloud Platform provides various artificial intelligence services such as Clova and papago in API form.\nCustomers use Naver's AI service,\nBuild and operate the latest technology-based AI services.\n"
     ]
    }
   ],
   "source": [
    "print(eng_text)"
   ]
  }
 ]
}