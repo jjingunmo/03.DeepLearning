{
 "metadata": {
  "language_info": {
   "codemirror_mode": {
    "name": "ipython",
    "version": 3
   },
   "file_extension": ".py",
   "mimetype": "text/x-python",
   "name": "python",
   "nbconvert_exporter": "python",
   "pygments_lexer": "ipython3",
   "version": "3.9.2"
  },
  "orig_nbformat": 2,
  "kernelspec": {
   "name": "python392jvsc74a57bd084a6dbff3a0a4ee084723c732b77410d1b8bbf139fa91bf316c808d7992341ae",
   "display_name": "Python 3.9.2 64-bit"
  }
 },
 "nbformat": 4,
 "nbformat_minor": 2,
 "cells": [
  {
   "source": [
    "# 카카오 언어감지"
   ],
   "cell_type": "markdown",
   "metadata": {}
  },
  {
   "cell_type": "code",
   "execution_count": 2,
   "metadata": {},
   "outputs": [],
   "source": [
    "import requests\n",
    "from urllib.parse import quote"
   ]
  },
  {
   "cell_type": "code",
   "execution_count": 3,
   "metadata": {},
   "outputs": [],
   "source": [
    "with open('kakaoaikey.txt') as kfile:\n",
    "    kai_key = kfile.read()"
   ]
  },
  {
   "cell_type": "code",
   "execution_count": 4,
   "metadata": {},
   "outputs": [
    {
     "output_type": "execute_result",
     "data": {
      "text/plain": [
       "'6c29e252081ed32762436fc5ebfc6fa8'"
      ]
     },
     "metadata": {},
     "execution_count": 4
    }
   ],
   "source": [
    "kai_key"
   ]
  },
  {
   "cell_type": "code",
   "execution_count": 5,
   "metadata": {},
   "outputs": [],
   "source": [
    "text = '이 문서는 카카오 번역 API를 사용방법을 설명합니다.'\n",
    "eng_text = 'This document is translated how to use the Kakao Translation API'"
   ]
  },
  {
   "cell_type": "code",
   "execution_count": 8,
   "metadata": {},
   "outputs": [
    {
     "output_type": "execute_result",
     "data": {
      "text/plain": [
       "{'language_info': [{'code': 'kr', 'name': 'Korean', 'confidence': 1.0}]}"
      ]
     },
     "metadata": {},
     "execution_count": 8
    }
   ],
   "source": [
    "url = 'https://dapi.kakao.com/v3/translation/language/detect?query='+quote(text)\n",
    "result = requests.get(url,\n",
    "            headers={\"Authorization\": \"KakaoAK \"+kai_key}).json()\n",
    "result"
   ]
  },
  {
   "cell_type": "code",
   "execution_count": 9,
   "metadata": {},
   "outputs": [
    {
     "output_type": "execute_result",
     "data": {
      "text/plain": [
       "[{'code': 'kr', 'name': 'Korean', 'confidence': 1.0}]"
      ]
     },
     "metadata": {},
     "execution_count": 9
    }
   ],
   "source": [
    "result['language_info']"
   ]
  },
  {
   "cell_type": "code",
   "execution_count": 10,
   "metadata": {},
   "outputs": [
    {
     "output_type": "execute_result",
     "data": {
      "text/plain": [
       "{'code': 'kr', 'name': 'Korean', 'confidence': 1.0}"
      ]
     },
     "metadata": {},
     "execution_count": 10
    }
   ],
   "source": [
    "result['language_info'][0]"
   ]
  },
  {
   "cell_type": "code",
   "execution_count": 11,
   "metadata": {},
   "outputs": [
    {
     "output_type": "execute_result",
     "data": {
      "text/plain": [
       "'kr'"
      ]
     },
     "metadata": {},
     "execution_count": 11
    }
   ],
   "source": [
    "result['language_info'][0]['code']"
   ]
  },
  {
   "cell_type": "code",
   "execution_count": 12,
   "metadata": {},
   "outputs": [
    {
     "output_type": "execute_result",
     "data": {
      "text/plain": [
       "{'language_info': [{'code': 'en', 'name': 'English', 'confidence': 0.97392},\n",
       "  {'code': 'de', 'name': 'German', 'confidence': 0.02338},\n",
       "  {'code': 'fr', 'name': 'French', 'confidence': 0.00096}]}"
      ]
     },
     "metadata": {},
     "execution_count": 12
    }
   ],
   "source": [
    "url = 'https://dapi.kakao.com/v3/translation/language/detect?query='+quote(eng_text)\n",
    "result = requests.get(url,\n",
    "            headers={\"Authorization\": \"KakaoAK \"+kai_key}).json()\n",
    "result"
   ]
  },
  {
   "cell_type": "code",
   "execution_count": 13,
   "metadata": {},
   "outputs": [
    {
     "output_type": "execute_result",
     "data": {
      "text/plain": [
       "'en'"
      ]
     },
     "metadata": {},
     "execution_count": 13
    }
   ],
   "source": [
    "result['language_info'][0]['code']"
   ]
  },
  {
   "cell_type": "code",
   "execution_count": null,
   "metadata": {},
   "outputs": [],
   "source": []
  }
 ]
}